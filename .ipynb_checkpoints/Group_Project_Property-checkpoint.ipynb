{
 "cells": [
  {
   "cell_type": "code",
   "execution_count": 1,
   "id": "ee480482",
   "metadata": {},
   "outputs": [],
   "source": [
    "# Fetching property data via Domain API"
   ]
  },
  {
   "cell_type": "code",
   "execution_count": 14,
   "id": "687ff4cc",
   "metadata": {},
   "outputs": [],
   "source": [
    "# Import libraries and dependencies\n",
    "import os\n",
    "import pandas as pd\n",
    "import requests\n",
    "from pathlib import Path\n",
    "import json\n",
    "import numpy as np\n",
    "import hvplot.pandas\n",
    "import panel as pn\n",
    "import plotly.express as px\n",
    "import random"
   ]
  },
  {
   "cell_type": "code",
   "execution_count": 15,
   "id": "fcb54277",
   "metadata": {},
   "outputs": [
    {
     "data": {
      "text/plain": [
       "True"
      ]
     },
     "execution_count": 15,
     "metadata": {},
     "output_type": "execute_result"
    }
   ],
   "source": [
    "# Load .env enviroment variables\n",
    "from dotenv import load_dotenv, find_dotenv\n",
    "load_dotenv()"
   ]
  },
  {
   "cell_type": "code",
   "execution_count": 17,
   "id": "37e37a0e",
   "metadata": {},
   "outputs": [
    {
     "data": {
      "text/plain": [
       "str"
      ]
     },
     "execution_count": 17,
     "metadata": {},
     "output_type": "execute_result"
    }
   ],
   "source": [
    "# Set Domain API key \"\tapi_locations_read\"\n",
    "domain_key = os.getenv(\"Domain_API\")\n",
    "client_id = os.getenv(\"Client_Id\")\n",
    "client_secret = os.getenv(\"Secret_Value\")\n",
    "type(client_secret)"
   ]
  },
  {
   "cell_type": "code",
   "execution_count": 18,
   "id": "956d01c7",
   "metadata": {},
   "outputs": [],
   "source": [
    "auth_url = \"https://auth.domain.com.au/v1/connect/token\""
   ]
  },
  {
   "cell_type": "code",
   "execution_count": 133,
   "id": "2f025169",
   "metadata": {},
   "outputs": [
    {
     "data": {
      "text/html": [
       "<div>\n",
       "<style scoped>\n",
       "    .dataframe tbody tr th:only-of-type {\n",
       "        vertical-align: middle;\n",
       "    }\n",
       "\n",
       "    .dataframe tbody tr th {\n",
       "        vertical-align: top;\n",
       "    }\n",
       "\n",
       "    .dataframe thead th {\n",
       "        text-align: right;\n",
       "    }\n",
       "</style>\n",
       "<table border=\"1\" class=\"dataframe\">\n",
       "  <thead>\n",
       "    <tr style=\"text-align: right;\">\n",
       "      <th></th>\n",
       "      <th>numberListedForAuction</th>\n",
       "      <th>numberWithdrawn</th>\n",
       "      <th>numberUnreported</th>\n",
       "      <th>numberAuctioned</th>\n",
       "      <th>numberSold</th>\n",
       "      <th>totalSales</th>\n",
       "      <th>median</th>\n",
       "      <th>adjClearanceRate</th>\n",
       "    </tr>\n",
       "    <tr>\n",
       "      <th>city</th>\n",
       "      <th></th>\n",
       "      <th></th>\n",
       "      <th></th>\n",
       "      <th></th>\n",
       "      <th></th>\n",
       "      <th></th>\n",
       "      <th></th>\n",
       "      <th></th>\n",
       "    </tr>\n",
       "  </thead>\n",
       "  <tbody>\n",
       "    <tr>\n",
       "      <th>Sydney</th>\n",
       "      <td>879</td>\n",
       "      <td>96</td>\n",
       "      <td>8</td>\n",
       "      <td>709</td>\n",
       "      <td>532</td>\n",
       "      <td>584111910.0</td>\n",
       "      <td>1532000</td>\n",
       "      <td>0.750353</td>\n",
       "    </tr>\n",
       "    <tr>\n",
       "      <th>Melbourne</th>\n",
       "      <td>1130</td>\n",
       "      <td>71</td>\n",
       "      <td>10</td>\n",
       "      <td>922</td>\n",
       "      <td>676</td>\n",
       "      <td>528479606.0</td>\n",
       "      <td>1104500</td>\n",
       "      <td>0.733189</td>\n",
       "    </tr>\n",
       "    <tr>\n",
       "      <th>Brisbane</th>\n",
       "      <td>130</td>\n",
       "      <td>7</td>\n",
       "      <td>2</td>\n",
       "      <td>94</td>\n",
       "      <td>72</td>\n",
       "      <td>54673500.0</td>\n",
       "      <td>1151250</td>\n",
       "      <td>0.765957</td>\n",
       "    </tr>\n",
       "    <tr>\n",
       "      <th>Canberra</th>\n",
       "      <td>100</td>\n",
       "      <td>1</td>\n",
       "      <td>1</td>\n",
       "      <td>79</td>\n",
       "      <td>63</td>\n",
       "      <td>56099500.0</td>\n",
       "      <td>958500</td>\n",
       "      <td>0.797468</td>\n",
       "    </tr>\n",
       "    <tr>\n",
       "      <th>Adelaide</th>\n",
       "      <td>104</td>\n",
       "      <td>1</td>\n",
       "      <td>3</td>\n",
       "      <td>77</td>\n",
       "      <td>72</td>\n",
       "      <td>48600601.0</td>\n",
       "      <td>786000</td>\n",
       "      <td>0.935065</td>\n",
       "    </tr>\n",
       "  </tbody>\n",
       "</table>\n",
       "</div>"
      ],
      "text/plain": [
       "          numberListedForAuction numberWithdrawn numberUnreported  \\\n",
       "city                                                                \n",
       "Sydney                       879              96                8   \n",
       "Melbourne                   1130              71               10   \n",
       "Brisbane                     130               7                2   \n",
       "Canberra                     100               1                1   \n",
       "Adelaide                     104               1                3   \n",
       "\n",
       "          numberAuctioned numberSold   totalSales   median adjClearanceRate  \n",
       "city                                                                         \n",
       "Sydney                709        532  584111910.0  1532000         0.750353  \n",
       "Melbourne             922        676  528479606.0  1104500         0.733189  \n",
       "Brisbane               94         72   54673500.0  1151250         0.765957  \n",
       "Canberra               79         63   56099500.0   958500         0.797468  \n",
       "Adelaide               77         72   48600601.0   786000         0.935065  "
      ]
     },
     "execution_count": 133,
     "metadata": {},
     "output_type": "execute_result"
    }
   ],
   "source": [
    "response = requests.post(auth_url,\n",
    "        data = {\n",
    "        'client_id':client_id,\n",
    "        'client_secret':client_secret,\n",
    "        'grant_type':'client_credentials',\n",
    "        'scope':\"api_salesresults_read\",\n",
    "        'Content-Type':'text/json'}\n",
    "        )\n",
    "json_res = response.json()\n",
    "access_token=json_res[\"access_token\"]\n",
    "auth = {'Authorization':'Bearer '+access_token}\n",
    "\n",
    "#fetching data for different cities via API\n",
    "cities = [\"Sydney\",\"Melbourne\",\"Brisbane\", \"Canberra\", \"Adelaide\"]\n",
    "df_combined=[]\n",
    "\n",
    "for City in cities:\n",
    "    url_detailed=f'https://api.domain.com.au/v1/salesResults/{City}'\n",
    "    resp = requests.get(url_detailed, headers = auth)\n",
    "    resp = resp.json()\n",
    "    df = pd.DataFrame(resp,index=[City]).T\n",
    "    df.columns=[City]\n",
    "    df_combined.append(df)\n",
    "\n",
    "df_combined = pd.concat(df_combined,axis=1)\n",
    "\n",
    "#Transposing df_combined \n",
    "df_combined = df_combined.transpose()\n",
    "\n",
    "# Dropping avoidable Columns\n",
    "df_combined = df_combined.drop('auctionedDate', axis=1)\n",
    "df_combined = df_combined.drop('lastModifiedDateTime', axis=1)\n",
    "\n",
    "#Setting the index\n",
    "df_combined = df_combined.reset_index()\n",
    "df_combined.rename(columns={\"index\":\"city\"}, inplace=True)\n",
    "df_combined.set_index('city',inplace=True)\n",
    "\n",
    "df_combined.head()"
   ]
  },
  {
   "cell_type": "code",
   "execution_count": 134,
   "id": "a4efae06",
   "metadata": {},
   "outputs": [
    {
     "ename": "PermissionError",
     "evalue": "[Errno 13] Permission denied: 'cities_combined.csv'",
     "output_type": "error",
     "traceback": [
      "\u001b[1;31m---------------------------------------------------------------------------\u001b[0m",
      "\u001b[1;31mPermissionError\u001b[0m                           Traceback (most recent call last)",
      "\u001b[1;32m~\\AppData\\Local\\Temp/ipykernel_17004/1976733246.py\u001b[0m in \u001b[0;36m<module>\u001b[1;34m\u001b[0m\n\u001b[0;32m      1\u001b[0m \u001b[1;31m# # saving the combined dataframe as CSV due to API limitations\u001b[0m\u001b[1;33m\u001b[0m\u001b[1;33m\u001b[0m\u001b[1;33m\u001b[0m\u001b[0m\n\u001b[1;32m----> 2\u001b[1;33m \u001b[0mdf_combined\u001b[0m\u001b[1;33m.\u001b[0m\u001b[0mto_csv\u001b[0m\u001b[1;33m(\u001b[0m\u001b[1;34m\"cities_combined.csv\"\u001b[0m\u001b[1;33m)\u001b[0m\u001b[1;33m\u001b[0m\u001b[1;33m\u001b[0m\u001b[0m\n\u001b[0m\u001b[0;32m      3\u001b[0m \u001b[1;33m\u001b[0m\u001b[0m\n\u001b[0;32m      4\u001b[0m \u001b[1;31m# reading from CSV file\u001b[0m\u001b[1;33m\u001b[0m\u001b[1;33m\u001b[0m\u001b[1;33m\u001b[0m\u001b[0m\n\u001b[0;32m      5\u001b[0m \u001b[0mfile_path\u001b[0m \u001b[1;33m=\u001b[0m \u001b[0mPath\u001b[0m\u001b[1;33m(\u001b[0m\u001b[1;34m\"cities_combined.csv\"\u001b[0m\u001b[1;33m)\u001b[0m\u001b[1;33m\u001b[0m\u001b[1;33m\u001b[0m\u001b[0m\n",
      "\u001b[1;32m~\\anaconda3\\envs\\pyvizenv\\lib\\site-packages\\pandas\\core\\generic.py\u001b[0m in \u001b[0;36mto_csv\u001b[1;34m(self, path_or_buf, sep, na_rep, float_format, columns, header, index, index_label, mode, encoding, compression, quoting, quotechar, line_terminator, chunksize, date_format, doublequote, escapechar, decimal, errors, storage_options)\u001b[0m\n\u001b[0;32m   3480\u001b[0m             \u001b[0mdoublequote\u001b[0m\u001b[1;33m=\u001b[0m\u001b[0mdoublequote\u001b[0m\u001b[1;33m,\u001b[0m\u001b[1;33m\u001b[0m\u001b[1;33m\u001b[0m\u001b[0m\n\u001b[0;32m   3481\u001b[0m             \u001b[0mescapechar\u001b[0m\u001b[1;33m=\u001b[0m\u001b[0mescapechar\u001b[0m\u001b[1;33m,\u001b[0m\u001b[1;33m\u001b[0m\u001b[1;33m\u001b[0m\u001b[0m\n\u001b[1;32m-> 3482\u001b[1;33m             \u001b[0mstorage_options\u001b[0m\u001b[1;33m=\u001b[0m\u001b[0mstorage_options\u001b[0m\u001b[1;33m,\u001b[0m\u001b[1;33m\u001b[0m\u001b[1;33m\u001b[0m\u001b[0m\n\u001b[0m\u001b[0;32m   3483\u001b[0m         )\n\u001b[0;32m   3484\u001b[0m \u001b[1;33m\u001b[0m\u001b[0m\n",
      "\u001b[1;32m~\\anaconda3\\envs\\pyvizenv\\lib\\site-packages\\pandas\\io\\formats\\format.py\u001b[0m in \u001b[0;36mto_csv\u001b[1;34m(self, path_or_buf, encoding, sep, columns, index_label, mode, compression, quoting, quotechar, line_terminator, chunksize, date_format, doublequote, escapechar, errors, storage_options)\u001b[0m\n\u001b[0;32m   1103\u001b[0m             \u001b[0mformatter\u001b[0m\u001b[1;33m=\u001b[0m\u001b[0mself\u001b[0m\u001b[1;33m.\u001b[0m\u001b[0mfmt\u001b[0m\u001b[1;33m,\u001b[0m\u001b[1;33m\u001b[0m\u001b[1;33m\u001b[0m\u001b[0m\n\u001b[0;32m   1104\u001b[0m         )\n\u001b[1;32m-> 1105\u001b[1;33m         \u001b[0mcsv_formatter\u001b[0m\u001b[1;33m.\u001b[0m\u001b[0msave\u001b[0m\u001b[1;33m(\u001b[0m\u001b[1;33m)\u001b[0m\u001b[1;33m\u001b[0m\u001b[1;33m\u001b[0m\u001b[0m\n\u001b[0m\u001b[0;32m   1106\u001b[0m \u001b[1;33m\u001b[0m\u001b[0m\n\u001b[0;32m   1107\u001b[0m         \u001b[1;32mif\u001b[0m \u001b[0mcreated_buffer\u001b[0m\u001b[1;33m:\u001b[0m\u001b[1;33m\u001b[0m\u001b[1;33m\u001b[0m\u001b[0m\n",
      "\u001b[1;32m~\\anaconda3\\envs\\pyvizenv\\lib\\site-packages\\pandas\\io\\formats\\csvs.py\u001b[0m in \u001b[0;36msave\u001b[1;34m(self)\u001b[0m\n\u001b[0;32m    241\u001b[0m             \u001b[0merrors\u001b[0m\u001b[1;33m=\u001b[0m\u001b[0mself\u001b[0m\u001b[1;33m.\u001b[0m\u001b[0merrors\u001b[0m\u001b[1;33m,\u001b[0m\u001b[1;33m\u001b[0m\u001b[1;33m\u001b[0m\u001b[0m\n\u001b[0;32m    242\u001b[0m             \u001b[0mcompression\u001b[0m\u001b[1;33m=\u001b[0m\u001b[0mself\u001b[0m\u001b[1;33m.\u001b[0m\u001b[0mcompression\u001b[0m\u001b[1;33m,\u001b[0m\u001b[1;33m\u001b[0m\u001b[1;33m\u001b[0m\u001b[0m\n\u001b[1;32m--> 243\u001b[1;33m             \u001b[0mstorage_options\u001b[0m\u001b[1;33m=\u001b[0m\u001b[0mself\u001b[0m\u001b[1;33m.\u001b[0m\u001b[0mstorage_options\u001b[0m\u001b[1;33m,\u001b[0m\u001b[1;33m\u001b[0m\u001b[1;33m\u001b[0m\u001b[0m\n\u001b[0m\u001b[0;32m    244\u001b[0m         ) as handles:\n\u001b[0;32m    245\u001b[0m \u001b[1;33m\u001b[0m\u001b[0m\n",
      "\u001b[1;32m~\\anaconda3\\envs\\pyvizenv\\lib\\site-packages\\pandas\\io\\common.py\u001b[0m in \u001b[0;36mget_handle\u001b[1;34m(path_or_buf, mode, encoding, compression, memory_map, is_text, errors, storage_options)\u001b[0m\n\u001b[0;32m    705\u001b[0m                 \u001b[0mencoding\u001b[0m\u001b[1;33m=\u001b[0m\u001b[0mioargs\u001b[0m\u001b[1;33m.\u001b[0m\u001b[0mencoding\u001b[0m\u001b[1;33m,\u001b[0m\u001b[1;33m\u001b[0m\u001b[1;33m\u001b[0m\u001b[0m\n\u001b[0;32m    706\u001b[0m                 \u001b[0merrors\u001b[0m\u001b[1;33m=\u001b[0m\u001b[0merrors\u001b[0m\u001b[1;33m,\u001b[0m\u001b[1;33m\u001b[0m\u001b[1;33m\u001b[0m\u001b[0m\n\u001b[1;32m--> 707\u001b[1;33m                 \u001b[0mnewline\u001b[0m\u001b[1;33m=\u001b[0m\u001b[1;34m\"\"\u001b[0m\u001b[1;33m,\u001b[0m\u001b[1;33m\u001b[0m\u001b[1;33m\u001b[0m\u001b[0m\n\u001b[0m\u001b[0;32m    708\u001b[0m             )\n\u001b[0;32m    709\u001b[0m         \u001b[1;32melse\u001b[0m\u001b[1;33m:\u001b[0m\u001b[1;33m\u001b[0m\u001b[1;33m\u001b[0m\u001b[0m\n",
      "\u001b[1;31mPermissionError\u001b[0m: [Errno 13] Permission denied: 'cities_combined.csv'"
     ]
    }
   ],
   "source": [
    "# # saving the combined dataframe as CSV due to API limitations\n",
    "df_combined.to_csv(\"cities_combined.csv\")\n",
    "\n",
    "# reading from CSV file\n",
    "file_path = Path(\"cities_combined.csv\")\n",
    "df_imported = pd.DataFrame(pd.read_csv(file_path))\n",
    "df_imported.head(10)"
   ]
  },
  {
   "cell_type": "code",
   "execution_count": 135,
   "id": "b0a33870",
   "metadata": {},
   "outputs": [],
   "source": [
    "def create_bar_chart(data, title, color):\n",
    "    create_bar_chart = data.hvplot.bar(title=title, color=color, rot=90, height=300)\n",
    "    return (create_bar_chart)"
   ]
  },
  {
   "cell_type": "code",
   "execution_count": 136,
   "id": "20fad73f",
   "metadata": {
    "scrolled": true
   },
   "outputs": [
    {
     "data": {
      "image/png": "[encoded data removed]",
      "text/plain": [
       "<Figure size 720x360 with 1 Axes>"
      ]
     },
     "metadata": {
      "needs_background": "light"
     },
     "output_type": "display_data"
    },
    {
     "data": {
      "image/png": "[encoded data removed]",
      "text/plain": [
       "<Figure size 720x360 with 1 Axes>"
      ]
     },
     "metadata": {
      "needs_background": "light"
     },
     "output_type": "display_data"
    },
    {
     "data": {
      "image/png": "[encoded data removed]",
      "text/plain": [
       "<Figure size 720x360 with 1 Axes>"
      ]
     },
     "metadata": {
      "needs_background": "light"
     },
     "output_type": "display_data"
    },
    {
     "data": {
      "image/png": "[encoded data removed]",
      "text/plain": [
       "<Figure size 720x360 with 1 Axes>"
      ]
     },
     "metadata": {
      "needs_background": "light"
     },
     "output_type": "display_data"
    },
    {
     "data": {
      "image/png": "[encoded data removed]",
      "text/plain": [
       "<Figure size 720x360 with 1 Axes>"
      ]
     },
     "metadata": {
      "needs_background": "light"
     },
     "output_type": "display_data"
    },
    {
     "data": {
      "image/png": "[encoded data removed]",
      "text/plain": [
       "<Figure size 720x360 with 1 Axes>"
      ]
     },
     "metadata": {
      "needs_background": "light"
     },
     "output_type": "display_data"
    },
    {
     "data": {
      "image/png": "[encoded data removed]",
      "text/plain": [
       "<Figure size 720x360 with 1 Axes>"
      ]
     },
     "metadata": {
      "needs_background": "light"
     },
     "output_type": "display_data"
    },
    {
     "data": {
      "image/png": "[encoded data removed]",
      "text/plain": [
       "<Figure size 720x360 with 1 Axes>"
      ]
     },
     "metadata": {
      "needs_background": "light"
     },
     "output_type": "display_data"
    }
   ],
   "source": [
    "#creating bar plot using df_combined dataframe\n",
    "for col in df_combined.columns:\n",
    "    colors = [\"#\"+''.join([random.choice('ABCDEF0123456789') for i in range(6)])]        \n",
    "    df_combined[[col]].plot.bar(title=col, color=colors, figsize=(10,5))             \n",
    "    "
   ]
  },
  {
   "cell_type": "code",
   "execution_count": 138,
   "id": "967e3498",
   "metadata": {},
   "outputs": [],
   "source": [
    "#plot_numberListedForAuction = create_bar_chart(df_combined.iloc[:,0], \"Number Listed For Auction\", \"red\").opts(yformatter=\"%.0f\")\n",
    "# plot_numberWithdrawn = create_bar_chart(df_combined.iloc[:,1], \"Number Withdrawn\" , color=\"royalblue\").opts(yformatter=\"%.0f\")\n",
    "# plot_numberUnreported = create_bar_chart(df_combined.iloc[:,2], \"Number Unreported\" , color=\"royalblue\").opts(yformatter=\"%.0f\")\n",
    "# plot_numberAuctioned = create_bar_chart(df_combined.iloc[:,3], \"Number Auctioned\" , color=\"royalblue\").opts(yformatter=\"%.0f\")\n",
    "# plot_numberSold = create_bar_chart(df_combined.iloc[:,4], \"Number Sold\" , color=\"royalblue\").opts(yformatter=\"%.0f\")\n",
    "# plot_totalSales = create_bar_chart(df_combined.iloc[:,5], \"Total Sales\" , color=\"royalblue\").opts(yformatter=\"%.0f\")\n",
    "# plot_median = create_bar_chart(df_combined.iloc[:,6], \"Median\" , color=\"royalblue\").opts(yformatter=\"%.0f\")\n",
    "# plot_adjClearanceRate = create_bar_chart(df_combined.iloc[:,7], \"Adj. Clearance Rate\" , color=\"royalblue\").opts(yformatter=\"%.0f\")\n"
   ]
  },
  {
   "cell_type": "code",
   "execution_count": 9,
   "id": "bb306923",
   "metadata": {},
   "outputs": [],
   "source": [
    "#creating_line_chart function\n",
    "def create_line_chart(data, title, xlabel, ylabel, color):    \n",
    "    create_line_chart = data.hvplot.line(title=title, xlabel=xlabel, ylabel=ylabel, color=color, height=400)\n",
    "    return (create_line_chart)"
   ]
  },
  {
   "cell_type": "code",
   "execution_count": 123,
   "id": "02cc5450",
   "metadata": {},
   "outputs": [
    {
     "data": {},
     "metadata": {},
     "output_type": "display_data"
    },
    {
     "data": {
      "application/vnd.holoviews_exec.v0+json": "",
      "text/html": [
       "<div id='5566'>\n",
       "\n",
       "\n",
       "\n",
       "\n",
       "\n",
       "  <div class=\"bk-root\" id=\"faaf49bb-90ca-4dc4-b3c4-66464b8d8c66\" data-root-id=\"5566\"></div>\n",
       "</div>\n",
       "<script type=\"application/javascript\">(function(root) {\n",
       "  function embed_document(root) {\n",
       "    var docs_json = {\"a2402503-f5a4-4815-9f51-d85f5c2a8cab\":{\"defs\":[{\"extends\":null,\"module\":null,\"name\":\"ReactiveHTML1\",\"overrides\":[],\"properties\":[]},{\"extends\":null,\"module\":null,\"name\":\"FlexBox1\",\"overrides\":[],\"properties\":[{\"default\":\"flex-start\",\"kind\":null,\"name\":\"align_content\"},{\"default\":\"flex-start\",\"kind\":null,\"name\":\"align_items\"},{\"default\":\"row\",\"kind\":null,\"name\":\"flex_direction\"},{\"default\":\"wrap\",\"kind\":null,\"name\":\"flex_wrap\"},{\"default\":\"flex-start\",\"kind\":null,\"name\":\"justify_content\"}]},{\"extends\":null,\"module\":null,\"name\":\"TemplateActions1\",\"overrides\":[],\"properties\":[{\"default\":0,\"kind\":null,\"name\":\"open_modal\"},{\"default\":0,\"kind\":null,\"name\":\"close_modal\"}]},{\"extends\":null,\"module\":null,\"name\":\"MaterialTemplateActions1\",\"overrides\":[],\"properties\":[{\"default\":0,\"kind\":null,\"name\":\"open_modal\"},{\"default\":0,\"kind\":null,\"name\":\"close_modal\"}]}],\"roots\":{\"references\":[{\"attributes\":{\"overlay\":{\"id\":\"5592\"}},\"id\":\"5590\",\"type\":\"BoxZoomTool\"},{\"attributes\":{},\"id\":\"5631\",\"type\":\"CategoricalTicker\"},{\"attributes\":{},\"id\":\"5591\",\"type\":\"ResetTool\"},{\"attributes\":{\"axis\":{\"id\":\"5630\"},\"coordinates\":null,\"grid_line_color\":null,\"group\":null,\"ticker\":null},\"id\":\"5632\",\"type\":\"Grid\"},{\"attributes\":{\"line_color\":\"red\",\"line_width\":2,\"x\":{\"field\":\"city\"},\"y\":{\"field\":\"median\"}},\"id\":\"5653\",\"type\":\"Line\"},{\"attributes\":{\"coordinates\":null,\"data_source\":{\"id\":\"5600\"},\"glyph\":{\"id\":\"5603\"},\"group\":null,\"hover_glyph\":null,\"muted_glyph\":{\"id\":\"5605\"},\"nonselection_glyph\":{\"id\":\"5604\"},\"selection_glyph\":{\"id\":\"5608\"},\"view\":{\"id\":\"5607\"}},\"id\":\"5606\",\"type\":\"GlyphRenderer\"},{\"attributes\":{},\"id\":\"5634\",\"type\":\"BasicTicker\"},{\"attributes\":{\"source\":{\"id\":\"5650\"}},\"id\":\"5657\",\"type\":\"CDSView\"},{\"attributes\":{\"line_alpha\":0.1,\"line_color\":\"red\",\"line_width\":2,\"x\":{\"field\":\"city\"},\"y\":{\"field\":\"median\"}},\"id\":\"5654\",\"type\":\"Line\"},{\"attributes\":{\"end\":584679120.9,\"reset_end\":584679120.9,\"reset_start\":-6691809.900000006,\"start\":-6691809.900000006,\"tags\":[[[\"totalSales\",\"totalSales\",null]]]},\"id\":\"5569\",\"type\":\"Range1d\"},{\"attributes\":{\"axis_label\":\"Avarage Price (AUD)\",\"coordinates\":null,\"formatter\":{\"id\":\"5659\"},\"group\":null,\"major_label_policy\":{\"id\":\"5665\"},\"ticker\":{\"id\":\"5634\"}},\"id\":\"5633\",\"type\":\"LinearAxis\"},{\"attributes\":{\"line_alpha\":0.1,\"line_color\":\"orange\",\"line_width\":2,\"x\":{\"field\":\"city\"},\"y\":{\"field\":\"totalSales\"}},\"id\":\"5604\",\"type\":\"Line\"},{\"attributes\":{\"tools\":[{\"id\":\"5570\"},{\"id\":\"5587\"},{\"id\":\"5588\"},{\"id\":\"5589\"},{\"id\":\"5590\"},{\"id\":\"5591\"}]},\"id\":\"5593\",\"type\":\"Toolbar\"},{\"attributes\":{\"axis\":{\"id\":\"5633\"},\"coordinates\":null,\"dimension\":1,\"grid_line_color\":null,\"group\":null,\"ticker\":null},\"id\":\"5636\",\"type\":\"Grid\"},{\"attributes\":{\"below\":[{\"id\":\"5580\"}],\"center\":[{\"id\":\"5582\"},{\"id\":\"5586\"}],\"height\":400,\"left\":[{\"id\":\"5583\"}],\"margin\":null,\"min_border_bottom\":10,\"min_border_left\":10,\"min_border_right\":10,\"min_border_top\":10,\"renderers\":[{\"id\":\"5606\"}],\"sizing_mode\":\"fixed\",\"title\":{\"id\":\"5572\"},\"toolbar\":{\"id\":\"5593\"},\"toolbar_location\":null,\"width\":700,\"x_range\":{\"id\":\"5568\"},\"x_scale\":{\"id\":\"5576\"},\"y_range\":{\"id\":\"5569\"},\"y_scale\":{\"id\":\"5578\"}},\"id\":\"5571\",\"subtype\":\"Figure\",\"type\":\"Plot\"},{\"attributes\":{\"line_alpha\":0.2,\"line_color\":\"red\",\"line_width\":2,\"x\":{\"field\":\"city\"},\"y\":{\"field\":\"median\"}},\"id\":\"5655\",\"type\":\"Line\"},{\"attributes\":{\"bottom_units\":\"screen\",\"coordinates\":null,\"fill_alpha\":0.5,\"fill_color\":\"lightgrey\",\"group\":null,\"left_units\":\"screen\",\"level\":\"overlay\",\"line_alpha\":1.0,\"line_color\":\"black\",\"line_dash\":[4,4],\"line_width\":2,\"right_units\":\"screen\",\"syncable\":false,\"top_units\":\"screen\"},\"id\":\"5592\",\"type\":\"BoxAnnotation\"},{\"attributes\":{\"line_color\":\"orange\",\"line_width\":2,\"x\":{\"field\":\"city\"},\"y\":{\"field\":\"totalSales\"}},\"id\":\"5603\",\"type\":\"Line\"},{\"attributes\":{},\"id\":\"5661\",\"type\":\"CategoricalTickFormatter\"},{\"attributes\":{},\"id\":\"5601\",\"type\":\"Selection\"},{\"attributes\":{},\"id\":\"5615\",\"type\":\"AllLabels\"},{\"attributes\":{\"toolbar\":{\"id\":\"5689\"},\"toolbar_location\":\"above\"},\"id\":\"5690\",\"type\":\"ToolbarBox\"},{\"attributes\":{},\"id\":\"5637\",\"type\":\"SaveTool\"},{\"attributes\":{\"factors\":[\"Sydney\",\"Melbourne\",\"Brisbane\",\"Canberra\",\"Adelaide\"],\"tags\":[[[\"city\",\"city\",null]]]},\"id\":\"5568\",\"type\":\"FactorRange\"},{\"attributes\":{\"format\":\"%.0f\"},\"id\":\"5609\",\"type\":\"PrintfTickFormatter\"},{\"attributes\":{},\"id\":\"5638\",\"type\":\"PanTool\"},{\"attributes\":{\"line_color\":\"red\",\"line_width\":2,\"x\":{\"field\":\"city\"},\"y\":{\"field\":\"median\"}},\"id\":\"5658\",\"type\":\"Line\"},{\"attributes\":{\"toolbars\":[{\"id\":\"5593\"},{\"id\":\"5643\"}],\"tools\":[{\"id\":\"5570\"},{\"id\":\"5587\"},{\"id\":\"5588\"},{\"id\":\"5589\"},{\"id\":\"5590\"},{\"id\":\"5591\"},{\"id\":\"5620\"},{\"id\":\"5637\"},{\"id\":\"5638\"},{\"id\":\"5639\"},{\"id\":\"5640\"},{\"id\":\"5641\"}]},\"id\":\"5689\",\"type\":\"ProxyToolbar\"},{\"attributes\":{},\"id\":\"5641\",\"type\":\"ResetTool\"},{\"attributes\":{},\"id\":\"5639\",\"type\":\"WheelZoomTool\"},{\"attributes\":{\"overlay\":{\"id\":\"5642\"}},\"id\":\"5640\",\"type\":\"BoxZoomTool\"},{\"attributes\":{},\"id\":\"5662\",\"type\":\"AllLabels\"},{\"attributes\":{\"children\":[{\"id\":\"5690\"},{\"id\":\"5688\"}]},\"id\":\"5691\",\"type\":\"Column\"},{\"attributes\":{},\"id\":\"5626\",\"type\":\"CategoricalScale\"},{\"attributes\":{\"coordinates\":null,\"data_source\":{\"id\":\"5650\"},\"glyph\":{\"id\":\"5653\"},\"group\":null,\"hover_glyph\":null,\"muted_glyph\":{\"id\":\"5655\"},\"nonselection_glyph\":{\"id\":\"5654\"},\"selection_glyph\":{\"id\":\"5658\"},\"view\":{\"id\":\"5657\"}},\"id\":\"5656\",\"type\":\"GlyphRenderer\"},{\"attributes\":{\"data\":{\"city\":[\"Sydney\",\"Melbourne\",\"Brisbane\",\"Canberra\",\"Adelaide\"],\"median\":{\"__ndarray__\":\"aC8YAGjcEADKohAAwIYOAJjgDgA=\",\"dtype\":\"int32\",\"order\":\"little\",\"shape\":[5]}},\"selected\":{\"id\":\"5651\"},\"selection_policy\":{\"id\":\"5684\"}},\"id\":\"5650\",\"type\":\"ColumnDataSource\"},{\"attributes\":{\"tools\":[{\"id\":\"5620\"},{\"id\":\"5637\"},{\"id\":\"5638\"},{\"id\":\"5639\"},{\"id\":\"5640\"},{\"id\":\"5641\"}]},\"id\":\"5643\",\"type\":\"Toolbar\"},{\"attributes\":{\"bottom_units\":\"screen\",\"coordinates\":null,\"fill_alpha\":0.5,\"fill_color\":\"lightgrey\",\"group\":null,\"left_units\":\"screen\",\"level\":\"overlay\",\"line_alpha\":1.0,\"line_color\":\"black\",\"line_dash\":[4,4],\"line_width\":2,\"right_units\":\"screen\",\"syncable\":false,\"top_units\":\"screen\"},\"id\":\"5642\",\"type\":\"BoxAnnotation\"},{\"attributes\":{},\"id\":\"5576\",\"type\":\"CategoricalScale\"},{\"attributes\":{},\"id\":\"5612\",\"type\":\"AllLabels\"},{\"attributes\":{\"margin\":[5,5,5,5],\"name\":\"HSpacer32212\",\"sizing_mode\":\"stretch_width\"},\"id\":\"5567\",\"type\":\"Spacer\"},{\"attributes\":{\"line_color\":\"orange\",\"line_width\":2,\"x\":{\"field\":\"city\"},\"y\":{\"field\":\"totalSales\"}},\"id\":\"5608\",\"type\":\"Line\"},{\"attributes\":{\"axis_label\":\"City\",\"coordinates\":null,\"formatter\":{\"id\":\"5611\"},\"group\":null,\"major_label_policy\":{\"id\":\"5612\"},\"ticker\":{\"id\":\"5581\"}},\"id\":\"5580\",\"type\":\"CategoricalAxis\"},{\"attributes\":{},\"id\":\"5665\",\"type\":\"AllLabels\"},{\"attributes\":{\"format\":\"%.0f\"},\"id\":\"5659\",\"type\":\"PrintfTickFormatter\"},{\"attributes\":{\"callback\":null,\"renderers\":[{\"id\":\"5606\"}],\"tags\":[\"hv_created\"],\"tooltips\":[[\"city\",\"@{city}\"],[\"totalSales\",\"@{totalSales}\"]]},\"id\":\"5570\",\"type\":\"HoverTool\"},{\"attributes\":{\"coordinates\":null,\"group\":null,\"text\":\"Number of Property Sold Per City\",\"text_color\":\"black\",\"text_font_size\":\"12pt\"},\"id\":\"5572\",\"type\":\"Title\"},{\"attributes\":{},\"id\":\"5581\",\"type\":\"CategoricalTicker\"},{\"attributes\":{\"axis\":{\"id\":\"5580\"},\"coordinates\":null,\"grid_line_color\":null,\"group\":null,\"ticker\":null},\"id\":\"5582\",\"type\":\"Grid\"},{\"attributes\":{},\"id\":\"5684\",\"type\":\"UnionRenderers\"},{\"attributes\":{},\"id\":\"5578\",\"type\":\"LinearScale\"},{\"attributes\":{\"axis\":{\"id\":\"5583\"},\"coordinates\":null,\"dimension\":1,\"grid_line_color\":null,\"group\":null,\"ticker\":null},\"id\":\"5586\",\"type\":\"Grid\"},{\"attributes\":{},\"id\":\"5584\",\"type\":\"BasicTicker\"},{\"attributes\":{\"margin\":[5,5,5,5],\"name\":\"HSpacer32213\",\"sizing_mode\":\"stretch_width\"},\"id\":\"5854\",\"type\":\"Spacer\"},{\"attributes\":{\"axis_label\":\"Number of Sales\",\"coordinates\":null,\"formatter\":{\"id\":\"5609\"},\"group\":null,\"major_label_policy\":{\"id\":\"5615\"},\"ticker\":{\"id\":\"5584\"}},\"id\":\"5583\",\"type\":\"LinearAxis\"},{\"attributes\":{\"line_alpha\":0.2,\"line_color\":\"orange\",\"line_width\":2,\"x\":{\"field\":\"city\"},\"y\":{\"field\":\"totalSales\"}},\"id\":\"5605\",\"type\":\"Line\"},{\"attributes\":{\"children\":[[{\"id\":\"5571\"},0,0],[{\"id\":\"5621\"},0,1]]},\"id\":\"5688\",\"type\":\"GridBox\"},{\"attributes\":{},\"id\":\"5589\",\"type\":\"WheelZoomTool\"},{\"attributes\":{\"below\":[{\"id\":\"5630\"}],\"center\":[{\"id\":\"5632\"},{\"id\":\"5636\"}],\"height\":400,\"left\":[{\"id\":\"5633\"}],\"margin\":null,\"min_border_bottom\":10,\"min_border_left\":10,\"min_border_right\":10,\"min_border_top\":10,\"renderers\":[{\"id\":\"5656\"}],\"sizing_mode\":\"fixed\",\"title\":{\"id\":\"5622\"},\"toolbar\":{\"id\":\"5643\"},\"toolbar_location\":null,\"width\":700,\"x_range\":{\"id\":\"5568\"},\"x_scale\":{\"id\":\"5626\"},\"y_range\":{\"id\":\"5619\"},\"y_scale\":{\"id\":\"5628\"}},\"id\":\"5621\",\"subtype\":\"Figure\",\"type\":\"Plot\"},{\"attributes\":{\"end\":1648300.0,\"reset_end\":1648300.0,\"reset_start\":888700.0,\"start\":888700.0,\"tags\":[[[\"median\",\"median\",null]]]},\"id\":\"5619\",\"type\":\"Range1d\"},{\"attributes\":{},\"id\":\"5611\",\"type\":\"CategoricalTickFormatter\"},{\"attributes\":{\"source\":{\"id\":\"5600\"}},\"id\":\"5607\",\"type\":\"CDSView\"},{\"attributes\":{\"callback\":null,\"renderers\":[{\"id\":\"5656\"}],\"tags\":[\"hv_created\"],\"tooltips\":[[\"city\",\"@{city}\"],[\"median\",\"@{median}\"]]},\"id\":\"5620\",\"type\":\"HoverTool\"},{\"attributes\":{\"axis_label\":\"City\",\"coordinates\":null,\"formatter\":{\"id\":\"5661\"},\"group\":null,\"major_label_policy\":{\"id\":\"5662\"},\"ticker\":{\"id\":\"5631\"}},\"id\":\"5630\",\"type\":\"CategoricalAxis\"},{\"attributes\":{},\"id\":\"5651\",\"type\":\"Selection\"},{\"attributes\":{},\"id\":\"5674\",\"type\":\"UnionRenderers\"},{\"attributes\":{},\"id\":\"5587\",\"type\":\"SaveTool\"},{\"attributes\":{},\"id\":\"5588\",\"type\":\"PanTool\"},{\"attributes\":{\"coordinates\":null,\"group\":null,\"text\":\"Average Sale Price Per City\",\"text_color\":\"black\",\"text_font_size\":\"12pt\"},\"id\":\"5622\",\"type\":\"Title\"},{\"attributes\":{},\"id\":\"5628\",\"type\":\"LinearScale\"},{\"attributes\":{\"children\":[{\"id\":\"5567\"},{\"id\":\"5691\"},{\"id\":\"5854\"}],\"margin\":[0,0,0,0],\"name\":\"Row32208\",\"tags\":[\"embedded\"]},\"id\":\"5566\",\"type\":\"Row\"},{\"attributes\":{\"data\":{\"city\":[\"Sydney\",\"Melbourne\",\"Brisbane\",\"Canberra\",\"Adelaide\"],\"totalSales\":{\"__ndarray__\":\"AAAAQofpv0EAAAD6Bya/QQAAAKDlfIZBAAAAIP0sikEAAABo3U6EQQ==\",\"dtype\":\"float64\",\"order\":\"little\",\"shape\":[5]}},\"selected\":{\"id\":\"5601\"},\"selection_policy\":{\"id\":\"5674\"}},\"id\":\"5600\",\"type\":\"ColumnDataSource\"}],\"root_ids\":[\"5566\"]},\"title\":\"Bokeh Application\",\"version\":\"2.4.2\"}};\n",
       "    var render_items = [{\"docid\":\"a2402503-f5a4-4815-9f51-d85f5c2a8cab\",\"root_ids\":[\"5566\"],\"roots\":{\"5566\":\"faaf49bb-90ca-4dc4-b3c4-66464b8d8c66\"}}];\n",
       "    root.Bokeh.embed.embed_items_notebook(docs_json, render_items);\n",
       "  }\n",
       "  if (root.Bokeh !== undefined && root.Bokeh.Panel !== undefined) {\n",
       "    embed_document(root);\n",
       "  } else {\n",
       "    var attempts = 0;\n",
       "    var timer = setInterval(function(root) {\n",
       "      if (root.Bokeh !== undefined && root.Bokeh.Panel !== undefined) {\n",
       "        clearInterval(timer);\n",
       "        embed_document(root);\n",
       "      } else if (document.readyState == \"complete\") {\n",
       "        attempts++;\n",
       "        if (attempts > 200) {\n",
       "          clearInterval(timer);\n",
       "          console.log(\"Bokeh: ERROR: Unable to run BokehJS code because BokehJS library is missing\");\n",
       "        }\n",
       "      }\n",
       "    }, 25, root)\n",
       "  }\n",
       "})(window);</script>"
      ],
      "text/plain": [
       ":Layout\n",
       "   .Curve.TotalSales :Curve   [city]   (totalSales)\n",
       "   .Curve.Median     :Curve   [city]   (median)"
      ]
     },
     "execution_count": 123,
     "metadata": {
      "application/vnd.holoviews_exec.v0+json": {
       "id": "5566"
      }
     },
     "output_type": "execute_result"
    }
   ],
   "source": [
    "#creating a Line chart for median price per city using df_combined dataframe\n",
    "median_line_chart = create_line_chart(df_combined[\"median\"],\"Average Sale Price Per City\",\n",
    "                            \"City\", \"Avarage Price (AUD)\", \"red\").opts(yformatter=\"%.0f\")\n",
    "\n",
    "#creating a bar chart for total number of sales per city using df_combined dataframe\n",
    "#sales_bar_chart = df_combined[\"totalSales\"].hvplot.bar(label = 'Number of Property Sold Per City').opts(yformatter=\"%.0f\")\n",
    "                                         \n",
    "sales_line_chart = create_line_chart(df_combined[\"totalSales\"],\"Number of Property Sold Per City\",\n",
    "                            \"City\", \"Number of Sales\", \"orange\").opts(yformatter=\"%.0f\")\n",
    "\n",
    "sales_line_chart + median_line_chart"
   ]
  },
  {
   "cell_type": "code",
   "execution_count": 125,
   "id": "127847f4",
   "metadata": {},
   "outputs": [
    {
     "data": {
      "text/html": [
       "<div>\n",
       "<style scoped>\n",
       "    .dataframe tbody tr th:only-of-type {\n",
       "        vertical-align: middle;\n",
       "    }\n",
       "\n",
       "    .dataframe tbody tr th {\n",
       "        vertical-align: top;\n",
       "    }\n",
       "\n",
       "    .dataframe thead th {\n",
       "        text-align: right;\n",
       "    }\n",
       "</style>\n",
       "<table border=\"1\" class=\"dataframe\">\n",
       "  <thead>\n",
       "    <tr style=\"text-align: right;\">\n",
       "      <th></th>\n",
       "      <th>city</th>\n",
       "      <th>numberListedForAuction</th>\n",
       "      <th>numberWithdrawn</th>\n",
       "      <th>numberUnreported</th>\n",
       "      <th>numberAuctioned</th>\n",
       "      <th>numberSold</th>\n",
       "      <th>totalSales</th>\n",
       "      <th>median</th>\n",
       "      <th>adjClearanceRate</th>\n",
       "    </tr>\n",
       "  </thead>\n",
       "  <tbody>\n",
       "    <tr>\n",
       "      <th>0</th>\n",
       "      <td>Sydney</td>\n",
       "      <td>878</td>\n",
       "      <td>95</td>\n",
       "      <td>8</td>\n",
       "      <td>620</td>\n",
       "      <td>478</td>\n",
       "      <td>535398210.0</td>\n",
       "      <td>1585000</td>\n",
       "      <td>0.770968</td>\n",
       "    </tr>\n",
       "    <tr>\n",
       "      <th>1</th>\n",
       "      <td>Melbourne</td>\n",
       "      <td>1129</td>\n",
       "      <td>70</td>\n",
       "      <td>10</td>\n",
       "      <td>892</td>\n",
       "      <td>649</td>\n",
       "      <td>522586106.0</td>\n",
       "      <td>1105000</td>\n",
       "      <td>0.727578</td>\n",
       "    </tr>\n",
       "    <tr>\n",
       "      <th>2</th>\n",
       "      <td>Brisbane</td>\n",
       "      <td>130</td>\n",
       "      <td>7</td>\n",
       "      <td>2</td>\n",
       "      <td>80</td>\n",
       "      <td>60</td>\n",
       "      <td>47160500.0</td>\n",
       "      <td>1090250</td>\n",
       "      <td>0.75</td>\n",
       "    </tr>\n",
       "    <tr>\n",
       "      <th>3</th>\n",
       "      <td>Canberra</td>\n",
       "      <td>100</td>\n",
       "      <td>1</td>\n",
       "      <td>1</td>\n",
       "      <td>76</td>\n",
       "      <td>60</td>\n",
       "      <td>54894500.0</td>\n",
       "      <td>952000</td>\n",
       "      <td>0.789474</td>\n",
       "    </tr>\n",
       "    <tr>\n",
       "      <th>4</th>\n",
       "      <td>Adelaide</td>\n",
       "      <td>104</td>\n",
       "      <td>1</td>\n",
       "      <td>3</td>\n",
       "      <td>67</td>\n",
       "      <td>63</td>\n",
       "      <td>42589101.0</td>\n",
       "      <td>975000</td>\n",
       "      <td>0.940299</td>\n",
       "    </tr>\n",
       "  </tbody>\n",
       "</table>\n",
       "</div>"
      ],
      "text/plain": [
       "        city numberListedForAuction numberWithdrawn numberUnreported  \\\n",
       "0     Sydney                    878              95                8   \n",
       "1  Melbourne                   1129              70               10   \n",
       "2   Brisbane                    130               7                2   \n",
       "3   Canberra                    100               1                1   \n",
       "4   Adelaide                    104               1                3   \n",
       "\n",
       "  numberAuctioned numberSold   totalSales   median adjClearanceRate  \n",
       "0             620        478  535398210.0  1585000         0.770968  \n",
       "1             892        649  522586106.0  1105000         0.727578  \n",
       "2              80         60   47160500.0  1090250             0.75  \n",
       "3              76         60   54894500.0   952000         0.789474  \n",
       "4              67         63   42589101.0   975000         0.940299  "
      ]
     },
     "execution_count": 125,
     "metadata": {},
     "output_type": "execute_result"
    }
   ],
   "source": [
    "#Prep Data for sunburst chart\n",
    "df_combined = df_combined.reset_index()\n",
    "df_combined"
   ]
  },
  {
   "cell_type": "code",
   "execution_count": 129,
   "id": "6f21b2b7",
   "metadata": {},
   "outputs": [
    {
     "data": {
      "application/vnd.plotly.v1+json": {
       "config": {
        "plotlyServerURL": "https://plot.ly"
       },
       "data": [
        {
         "branchvalues": "total",
         "customdata": [
          [
           535398210
          ],
          [
           54894500
          ],
          [
           47160500
          ],
          [
           42589101
          ],
          [
           522586106
          ],
          [
           42589101
          ],
          [
           47160500
          ],
          [
           54894500
          ],
          [
           522586106
          ],
          [
           535398210
          ]
         ],
         "domain": {
          "x": [
           0,
           1
          ],
          "y": [
           0,
           1
          ]
         },
         "hovertemplate": "labels=%{label}<br>numberSold=%{value}<br>parent=%{parent}<br>id=%{id}<br>totalSales=%{color}<extra></extra>",
         "ids": [
          "Sydney/535398210.0",
          "Canberra/54894500.0",
          "Brisbane/47160500.0",
          "Adelaide/42589101.0",
          "Melbourne/522586106.0",
          "Adelaide",
          "Brisbane",
          "Canberra",
          "Melbourne",
          "Sydney"
         ],
         "labels": [
          "535398210.0",
          "54894500.0",
          "47160500.0",
          "42589101.0",
          "522586106.0",
          "Adelaide",
          "Brisbane",
          "Canberra",
          "Melbourne",
          "Sydney"
         ],
         "marker": {
          "coloraxis": "coloraxis",
          "colors": [
           535398210,
           54894500,
           47160500,
           42589101,
           522586106,
           42589101,
           47160500,
           54894500,
           522586106,
           535398210
          ]
         },
         "name": "",
         "parents": [
          "Sydney",
          "Canberra",
          "Brisbane",
          "Adelaide",
          "Melbourne",
          "",
          "",
          "",
          "",
          ""
         ],
         "type": "sunburst",
         "values": [
          478,
          60,
          60,
          63,
          649,
          63,
          60,
          60,
          649,
          478
         ]
        }
       ],
       "layout": {
        "autosize": true,
        "coloraxis": {
         "colorbar": {
          "title": {
           "text": "totalSales"
          }
         },
         "colorscale": [
          [
           0,
           "#0d0887"
          ],
          [
           0.1111111111111111,
           "#46039f"
          ],
          [
           0.2222222222222222,
           "#7201a8"
          ],
          [
           0.3333333333333333,
           "#9c179e"
          ],
          [
           0.4444444444444444,
           "#bd3786"
          ],
          [
           0.5555555555555556,
           "#d8576b"
          ],
          [
           0.6666666666666666,
           "#ed7953"
          ],
          [
           0.7777777777777778,
           "#fb9f3a"
          ],
          [
           0.8888888888888888,
           "#fdca26"
          ],
          [
           1,
           "#f0f921"
          ]
         ]
        },
        "legend": {
         "tracegroupgap": 0
        },
        "template": {
         "data": {
          "bar": [
           {
            "error_x": {
             "color": "#2a3f5f"
            },
            "error_y": {
             "color": "#2a3f5f"
            },
            "marker": {
             "line": {
              "color": "#E5ECF6",
              "width": 0.5
             },
             "pattern": {
              "fillmode": "overlay",
              "size": 10,
              "solidity": 0.2
             }
            },
            "type": "bar"
           }
          ],
          "barpolar": [
           {
            "marker": {
             "line": {
              "color": "#E5ECF6",
              "width": 0.5
             },
             "pattern": {
              "fillmode": "overlay",
              "size": 10,
              "solidity": 0.2
             }
            },
            "type": "barpolar"
           }
          ],
          "carpet": [
           {
            "aaxis": {
             "endlinecolor": "#2a3f5f",
             "gridcolor": "white",
             "linecolor": "white",
             "minorgridcolor": "white",
             "startlinecolor": "#2a3f5f"
            },
            "baxis": {
             "endlinecolor": "#2a3f5f",
             "gridcolor": "white",
             "linecolor": "white",
             "minorgridcolor": "white",
             "startlinecolor": "#2a3f5f"
            },
            "type": "carpet"
           }
          ],
          "choropleth": [
           {
            "colorbar": {
             "outlinewidth": 0,
             "ticks": ""
            },
            "type": "choropleth"
           }
          ],
          "contour": [
           {
            "colorbar": {
             "outlinewidth": 0,
             "ticks": ""
            },
            "colorscale": [
             [
              0,
              "#0d0887"
             ],
             [
              0.1111111111111111,
              "#46039f"
             ],
             [
              0.2222222222222222,
              "#7201a8"
             ],
             [
              0.3333333333333333,
              "#9c179e"
             ],
             [
              0.4444444444444444,
              "#bd3786"
             ],
             [
              0.5555555555555556,
              "#d8576b"
             ],
             [
              0.6666666666666666,
              "#ed7953"
             ],
             [
              0.7777777777777778,
              "#fb9f3a"
             ],
             [
              0.8888888888888888,
              "#fdca26"
             ],
             [
              1,
              "#f0f921"
             ]
            ],
            "type": "contour"
           }
          ],
          "contourcarpet": [
           {
            "colorbar": {
             "outlinewidth": 0,
             "ticks": ""
            },
            "type": "contourcarpet"
           }
          ],
          "heatmap": [
           {
            "colorbar": {
             "outlinewidth": 0,
             "ticks": ""
            },
            "colorscale": [
             [
              0,
              "#0d0887"
             ],
             [
              0.1111111111111111,
              "#46039f"
             ],
             [
              0.2222222222222222,
              "#7201a8"
             ],
             [
              0.3333333333333333,
              "#9c179e"
             ],
             [
              0.4444444444444444,
              "#bd3786"
             ],
             [
              0.5555555555555556,
              "#d8576b"
             ],
             [
              0.6666666666666666,
              "#ed7953"
             ],
             [
              0.7777777777777778,
              "#fb9f3a"
             ],
             [
              0.8888888888888888,
              "#fdca26"
             ],
             [
              1,
              "#f0f921"
             ]
            ],
            "type": "heatmap"
           }
          ],
          "heatmapgl": [
           {
            "colorbar": {
             "outlinewidth": 0,
             "ticks": ""
            },
            "colorscale": [
             [
              0,
              "#0d0887"
             ],
             [
              0.1111111111111111,
              "#46039f"
             ],
             [
              0.2222222222222222,
              "#7201a8"
             ],
             [
              0.3333333333333333,
              "#9c179e"
             ],
             [
              0.4444444444444444,
              "#bd3786"
             ],
             [
              0.5555555555555556,
              "#d8576b"
             ],
             [
              0.6666666666666666,
              "#ed7953"
             ],
             [
              0.7777777777777778,
              "#fb9f3a"
             ],
             [
              0.8888888888888888,
              "#fdca26"
             ],
             [
              1,
              "#f0f921"
             ]
            ],
            "type": "heatmapgl"
           }
          ],
          "histogram": [
           {
            "marker": {
             "pattern": {
              "fillmode": "overlay",
              "size": 10,
              "solidity": 0.2
             }
            },
            "type": "histogram"
           }
          ],
          "histogram2d": [
           {
            "colorbar": {
             "outlinewidth": 0,
             "ticks": ""
            },
            "colorscale": [
             [
              0,
              "#0d0887"
             ],
             [
              0.1111111111111111,
              "#46039f"
             ],
             [
              0.2222222222222222,
              "#7201a8"
             ],
             [
              0.3333333333333333,
              "#9c179e"
             ],
             [
              0.4444444444444444,
              "#bd3786"
             ],
             [
              0.5555555555555556,
              "#d8576b"
             ],
             [
              0.6666666666666666,
              "#ed7953"
             ],
             [
              0.7777777777777778,
              "#fb9f3a"
             ],
             [
              0.8888888888888888,
              "#fdca26"
             ],
             [
              1,
              "#f0f921"
             ]
            ],
            "type": "histogram2d"
           }
          ],
          "histogram2dcontour": [
           {
            "colorbar": {
             "outlinewidth": 0,
             "ticks": ""
            },
            "colorscale": [
             [
              0,
              "#0d0887"
             ],
             [
              0.1111111111111111,
              "#46039f"
             ],
             [
              0.2222222222222222,
              "#7201a8"
             ],
             [
              0.3333333333333333,
              "#9c179e"
             ],
             [
              0.4444444444444444,
              "#bd3786"
             ],
             [
              0.5555555555555556,
              "#d8576b"
             ],
             [
              0.6666666666666666,
              "#ed7953"
             ],
             [
              0.7777777777777778,
              "#fb9f3a"
             ],
             [
              0.8888888888888888,
              "#fdca26"
             ],
             [
              1,
              "#f0f921"
             ]
            ],
            "type": "histogram2dcontour"
           }
          ],
          "mesh3d": [
           {
            "colorbar": {
             "outlinewidth": 0,
             "ticks": ""
            },
            "type": "mesh3d"
           }
          ],
          "parcoords": [
           {
            "line": {
             "colorbar": {
              "outlinewidth": 0,
              "ticks": ""
             }
            },
            "type": "parcoords"
           }
          ],
          "pie": [
           {
            "automargin": true,
            "type": "pie"
           }
          ],
          "scatter": [
           {
            "marker": {
             "colorbar": {
              "outlinewidth": 0,
              "ticks": ""
             }
            },
            "type": "scatter"
           }
          ],
          "scatter3d": [
           {
            "line": {
             "colorbar": {
              "outlinewidth": 0,
              "ticks": ""
             }
            },
            "marker": {
             "colorbar": {
              "outlinewidth": 0,
              "ticks": ""
             }
            },
            "type": "scatter3d"
           }
          ],
          "scattercarpet": [
           {
            "marker": {
             "colorbar": {
              "outlinewidth": 0,
              "ticks": ""
             }
            },
            "type": "scattercarpet"
           }
          ],
          "scattergeo": [
           {
            "marker": {
             "colorbar": {
              "outlinewidth": 0,
              "ticks": ""
             }
            },
            "type": "scattergeo"
           }
          ],
          "scattergl": [
           {
            "marker": {
             "colorbar": {
              "outlinewidth": 0,
              "ticks": ""
             }
            },
            "type": "scattergl"
           }
          ],
          "scattermapbox": [
           {
            "marker": {
             "colorbar": {
              "outlinewidth": 0,
              "ticks": ""
             }
            },
            "type": "scattermapbox"
           }
          ],
          "scatterpolar": [
           {
            "marker": {
             "colorbar": {
              "outlinewidth": 0,
              "ticks": ""
             }
            },
            "type": "scatterpolar"
           }
          ],
          "scatterpolargl": [
           {
            "marker": {
             "colorbar": {
              "outlinewidth": 0,
              "ticks": ""
             }
            },
            "type": "scatterpolargl"
           }
          ],
          "scatterternary": [
           {
            "marker": {
             "colorbar": {
              "outlinewidth": 0,
              "ticks": ""
             }
            },
            "type": "scatterternary"
           }
          ],
          "surface": [
           {
            "colorbar": {
             "outlinewidth": 0,
             "ticks": ""
            },
            "colorscale": [
             [
              0,
              "#0d0887"
             ],
             [
              0.1111111111111111,
              "#46039f"
             ],
             [
              0.2222222222222222,
              "#7201a8"
             ],
             [
              0.3333333333333333,
              "#9c179e"
             ],
             [
              0.4444444444444444,
              "#bd3786"
             ],
             [
              0.5555555555555556,
              "#d8576b"
             ],
             [
              0.6666666666666666,
              "#ed7953"
             ],
             [
              0.7777777777777778,
              "#fb9f3a"
             ],
             [
              0.8888888888888888,
              "#fdca26"
             ],
             [
              1,
              "#f0f921"
             ]
            ],
            "type": "surface"
           }
          ],
          "table": [
           {
            "cells": {
             "fill": {
              "color": "#EBF0F8"
             },
             "line": {
              "color": "white"
             }
            },
            "header": {
             "fill": {
              "color": "#C8D4E3"
             },
             "line": {
              "color": "white"
             }
            },
            "type": "table"
           }
          ]
         },
         "layout": {
          "annotationdefaults": {
           "arrowcolor": "#2a3f5f",
           "arrowhead": 0,
           "arrowwidth": 1
          },
          "autotypenumbers": "strict",
          "coloraxis": {
           "colorbar": {
            "outlinewidth": 0,
            "ticks": ""
           }
          },
          "colorscale": {
           "diverging": [
            [
             0,
             "#8e0152"
            ],
            [
             0.1,
             "#c51b7d"
            ],
            [
             0.2,
             "#de77ae"
            ],
            [
             0.3,
             "#f1b6da"
            ],
            [
             0.4,
             "#fde0ef"
            ],
            [
             0.5,
             "#f7f7f7"
            ],
            [
             0.6,
             "#e6f5d0"
            ],
            [
             0.7,
             "#b8e186"
            ],
            [
             0.8,
             "#7fbc41"
            ],
            [
             0.9,
             "#4d9221"
            ],
            [
             1,
             "#276419"
            ]
           ],
           "sequential": [
            [
             0,
             "#0d0887"
            ],
            [
             0.1111111111111111,
             "#46039f"
            ],
            [
             0.2222222222222222,
             "#7201a8"
            ],
            [
             0.3333333333333333,
             "#9c179e"
            ],
            [
             0.4444444444444444,
             "#bd3786"
            ],
            [
             0.5555555555555556,
             "#d8576b"
            ],
            [
             0.6666666666666666,
             "#ed7953"
            ],
            [
             0.7777777777777778,
             "#fb9f3a"
            ],
            [
             0.8888888888888888,
             "#fdca26"
            ],
            [
             1,
             "#f0f921"
            ]
           ],
           "sequentialminus": [
            [
             0,
             "#0d0887"
            ],
            [
             0.1111111111111111,
             "#46039f"
            ],
            [
             0.2222222222222222,
             "#7201a8"
            ],
            [
             0.3333333333333333,
             "#9c179e"
            ],
            [
             0.4444444444444444,
             "#bd3786"
            ],
            [
             0.5555555555555556,
             "#d8576b"
            ],
            [
             0.6666666666666666,
             "#ed7953"
            ],
            [
             0.7777777777777778,
             "#fb9f3a"
            ],
            [
             0.8888888888888888,
             "#fdca26"
            ],
            [
             1,
             "#f0f921"
            ]
           ]
          },
          "colorway": [
           "#636efa",
           "#EF553B",
           "#00cc96",
           "#ab63fa",
           "#FFA15A",
           "#19d3f3",
           "#FF6692",
           "#B6E880",
           "#FF97FF",
           "#FECB52"
          ],
          "font": {
           "color": "#2a3f5f"
          },
          "geo": {
           "bgcolor": "white",
           "lakecolor": "white",
           "landcolor": "#E5ECF6",
           "showlakes": true,
           "showland": true,
           "subunitcolor": "white"
          },
          "hoverlabel": {
           "align": "left"
          },
          "hovermode": "closest",
          "mapbox": {
           "style": "light"
          },
          "paper_bgcolor": "white",
          "plot_bgcolor": "#E5ECF6",
          "polar": {
           "angularaxis": {
            "gridcolor": "white",
            "linecolor": "white",
            "ticks": ""
           },
           "bgcolor": "#E5ECF6",
           "radialaxis": {
            "gridcolor": "white",
            "linecolor": "white",
            "ticks": ""
           }
          },
          "scene": {
           "xaxis": {
            "backgroundcolor": "#E5ECF6",
            "gridcolor": "white",
            "gridwidth": 2,
            "linecolor": "white",
            "showbackground": true,
            "ticks": "",
            "zerolinecolor": "white"
           },
           "yaxis": {
            "backgroundcolor": "#E5ECF6",
            "gridcolor": "white",
            "gridwidth": 2,
            "linecolor": "white",
            "showbackground": true,
            "ticks": "",
            "zerolinecolor": "white"
           },
           "zaxis": {
            "backgroundcolor": "#E5ECF6",
            "gridcolor": "white",
            "gridwidth": 2,
            "linecolor": "white",
            "showbackground": true,
            "ticks": "",
            "zerolinecolor": "white"
           }
          },
          "shapedefaults": {
           "line": {
            "color": "#2a3f5f"
           }
          },
          "ternary": {
           "aaxis": {
            "gridcolor": "white",
            "linecolor": "white",
            "ticks": ""
           },
           "baxis": {
            "gridcolor": "white",
            "linecolor": "white",
            "ticks": ""
           },
           "bgcolor": "#E5ECF6",
           "caxis": {
            "gridcolor": "white",
            "linecolor": "white",
            "ticks": ""
           }
          },
          "title": {
           "x": 0.05
          },
          "xaxis": {
           "automargin": true,
           "gridcolor": "white",
           "linecolor": "white",
           "ticks": "",
           "title": {
            "standoff": 15
           },
           "zerolinecolor": "white",
           "zerolinewidth": 2
          },
          "yaxis": {
           "automargin": true,
           "gridcolor": "white",
           "linecolor": "white",
           "ticks": "",
           "title": {
            "standoff": 15
           },
           "zerolinecolor": "white",
           "zerolinewidth": 2
          }
         }
        },
        "title": {
         "text": "Overal Property Market in 5 Cities For Latest Auction "
        }
       }
      },
      "image/png": "[encoded data removed]",
      "text/html": [
       "<div>                            <div id=\"b13c670f-bd1c-4703-89dd-43ce8ed3ca45\" class=\"plotly-graph-div\" style=\"height:500px; width:100%;\"></div>            <script type=\"text/javascript\">                require([\"plotly\"], function(Plotly) {                    window.PLOTLYENV=window.PLOTLYENV || {};                                    if (document.getElementById(\"b13c670f-bd1c-4703-89dd-43ce8ed3ca45\")) {                    Plotly.newPlot(                        \"b13c670f-bd1c-4703-89dd-43ce8ed3ca45\",                        [{\"branchvalues\":\"total\",\"customdata\":[[535398210.0],[54894500.0],[47160500.0],[42589101.0],[522586106.0],[42589101.0],[47160500.0],[54894500.0],[522586106.0],[535398210.0]],\"domain\":{\"x\":[0.0,1.0],\"y\":[0.0,1.0]},\"hovertemplate\":\"labels=%{label}<br>numberSold=%{value}<br>parent=%{parent}<br>id=%{id}<br>totalSales=%{color}<extra></extra>\",\"ids\":[\"Sydney/535398210.0\",\"Canberra/54894500.0\",\"Brisbane/47160500.0\",\"Adelaide/42589101.0\",\"Melbourne/522586106.0\",\"Adelaide\",\"Brisbane\",\"Canberra\",\"Melbourne\",\"Sydney\"],\"labels\":[\"535398210.0\",\"54894500.0\",\"47160500.0\",\"42589101.0\",\"522586106.0\",\"Adelaide\",\"Brisbane\",\"Canberra\",\"Melbourne\",\"Sydney\"],\"marker\":{\"coloraxis\":\"coloraxis\",\"colors\":[535398210.0,54894500.0,47160500.0,42589101.0,522586106.0,42589101.0,47160500.0,54894500.0,522586106.0,535398210.0]},\"name\":\"\",\"parents\":[\"Sydney\",\"Canberra\",\"Brisbane\",\"Adelaide\",\"Melbourne\",\"\",\"\",\"\",\"\",\"\"],\"values\":[478,60,60,63,649,63,60,60,649,478],\"type\":\"sunburst\"}],                        {\"template\":{\"data\":{\"bar\":[{\"error_x\":{\"color\":\"#2a3f5f\"},\"error_y\":{\"color\":\"#2a3f5f\"},\"marker\":{\"line\":{\"color\":\"#E5ECF6\",\"width\":0.5},\"pattern\":{\"fillmode\":\"overlay\",\"size\":10,\"solidity\":0.2}},\"type\":\"bar\"}],\"barpolar\":[{\"marker\":{\"line\":{\"color\":\"#E5ECF6\",\"width\":0.5},\"pattern\":{\"fillmode\":\"overlay\",\"size\":10,\"solidity\":0.2}},\"type\":\"barpolar\"}],\"carpet\":[{\"aaxis\":{\"endlinecolor\":\"#2a3f5f\",\"gridcolor\":\"white\",\"linecolor\":\"white\",\"minorgridcolor\":\"white\",\"startlinecolor\":\"#2a3f5f\"},\"baxis\":{\"endlinecolor\":\"#2a3f5f\",\"gridcolor\":\"white\",\"linecolor\":\"white\",\"minorgridcolor\":\"white\",\"startlinecolor\":\"#2a3f5f\"},\"type\":\"carpet\"}],\"choropleth\":[{\"colorbar\":{\"outlinewidth\":0,\"ticks\":\"\"},\"type\":\"choropleth\"}],\"contour\":[{\"colorbar\":{\"outlinewidth\":0,\"ticks\":\"\"},\"colorscale\":[[0.0,\"#0d0887\"],[0.1111111111111111,\"#46039f\"],[0.2222222222222222,\"#7201a8\"],[0.3333333333333333,\"#9c179e\"],[0.4444444444444444,\"#bd3786\"],[0.5555555555555556,\"#d8576b\"],[0.6666666666666666,\"#ed7953\"],[0.7777777777777778,\"#fb9f3a\"],[0.8888888888888888,\"#fdca26\"],[1.0,\"#f0f921\"]],\"type\":\"contour\"}],\"contourcarpet\":[{\"colorbar\":{\"outlinewidth\":0,\"ticks\":\"\"},\"type\":\"contourcarpet\"}],\"heatmap\":[{\"colorbar\":{\"outlinewidth\":0,\"ticks\":\"\"},\"colorscale\":[[0.0,\"#0d0887\"],[0.1111111111111111,\"#46039f\"],[0.2222222222222222,\"#7201a8\"],[0.3333333333333333,\"#9c179e\"],[0.4444444444444444,\"#bd3786\"],[0.5555555555555556,\"#d8576b\"],[0.6666666666666666,\"#ed7953\"],[0.7777777777777778,\"#fb9f3a\"],[0.8888888888888888,\"#fdca26\"],[1.0,\"#f0f921\"]],\"type\":\"heatmap\"}],\"heatmapgl\":[{\"colorbar\":{\"outlinewidth\":0,\"ticks\":\"\"},\"colorscale\":[[0.0,\"#0d0887\"],[0.1111111111111111,\"#46039f\"],[0.2222222222222222,\"#7201a8\"],[0.3333333333333333,\"#9c179e\"],[0.4444444444444444,\"#bd3786\"],[0.5555555555555556,\"#d8576b\"],[0.6666666666666666,\"#ed7953\"],[0.7777777777777778,\"#fb9f3a\"],[0.8888888888888888,\"#fdca26\"],[1.0,\"#f0f921\"]],\"type\":\"heatmapgl\"}],\"histogram\":[{\"marker\":{\"pattern\":{\"fillmode\":\"overlay\",\"size\":10,\"solidity\":0.2}},\"type\":\"histogram\"}],\"histogram2d\":[{\"colorbar\":{\"outlinewidth\":0,\"ticks\":\"\"},\"colorscale\":[[0.0,\"#0d0887\"],[0.1111111111111111,\"#46039f\"],[0.2222222222222222,\"#7201a8\"],[0.3333333333333333,\"#9c179e\"],[0.4444444444444444,\"#bd3786\"],[0.5555555555555556,\"#d8576b\"],[0.6666666666666666,\"#ed7953\"],[0.7777777777777778,\"#fb9f3a\"],[0.8888888888888888,\"#fdca26\"],[1.0,\"#f0f921\"]],\"type\":\"histogram2d\"}],\"histogram2dcontour\":[{\"colorbar\":{\"outlinewidth\":0,\"ticks\":\"\"},\"colorscale\":[[0.0,\"#0d0887\"],[0.1111111111111111,\"#46039f\"],[0.2222222222222222,\"#7201a8\"],[0.3333333333333333,\"#9c179e\"],[0.4444444444444444,\"#bd3786\"],[0.5555555555555556,\"#d8576b\"],[0.6666666666666666,\"#ed7953\"],[0.7777777777777778,\"#fb9f3a\"],[0.8888888888888888,\"#fdca26\"],[1.0,\"#f0f921\"]],\"type\":\"histogram2dcontour\"}],\"mesh3d\":[{\"colorbar\":{\"outlinewidth\":0,\"ticks\":\"\"},\"type\":\"mesh3d\"}],\"parcoords\":[{\"line\":{\"colorbar\":{\"outlinewidth\":0,\"ticks\":\"\"}},\"type\":\"parcoords\"}],\"pie\":[{\"automargin\":true,\"type\":\"pie\"}],\"scatter\":[{\"marker\":{\"colorbar\":{\"outlinewidth\":0,\"ticks\":\"\"}},\"type\":\"scatter\"}],\"scatter3d\":[{\"line\":{\"colorbar\":{\"outlinewidth\":0,\"ticks\":\"\"}},\"marker\":{\"colorbar\":{\"outlinewidth\":0,\"ticks\":\"\"}},\"type\":\"scatter3d\"}],\"scattercarpet\":[{\"marker\":{\"colorbar\":{\"outlinewidth\":0,\"ticks\":\"\"}},\"type\":\"scattercarpet\"}],\"scattergeo\":[{\"marker\":{\"colorbar\":{\"outlinewidth\":0,\"ticks\":\"\"}},\"type\":\"scattergeo\"}],\"scattergl\":[{\"marker\":{\"colorbar\":{\"outlinewidth\":0,\"ticks\":\"\"}},\"type\":\"scattergl\"}],\"scattermapbox\":[{\"marker\":{\"colorbar\":{\"outlinewidth\":0,\"ticks\":\"\"}},\"type\":\"scattermapbox\"}],\"scatterpolar\":[{\"marker\":{\"colorbar\":{\"outlinewidth\":0,\"ticks\":\"\"}},\"type\":\"scatterpolar\"}],\"scatterpolargl\":[{\"marker\":{\"colorbar\":{\"outlinewidth\":0,\"ticks\":\"\"}},\"type\":\"scatterpolargl\"}],\"scatterternary\":[{\"marker\":{\"colorbar\":{\"outlinewidth\":0,\"ticks\":\"\"}},\"type\":\"scatterternary\"}],\"surface\":[{\"colorbar\":{\"outlinewidth\":0,\"ticks\":\"\"},\"colorscale\":[[0.0,\"#0d0887\"],[0.1111111111111111,\"#46039f\"],[0.2222222222222222,\"#7201a8\"],[0.3333333333333333,\"#9c179e\"],[0.4444444444444444,\"#bd3786\"],[0.5555555555555556,\"#d8576b\"],[0.6666666666666666,\"#ed7953\"],[0.7777777777777778,\"#fb9f3a\"],[0.8888888888888888,\"#fdca26\"],[1.0,\"#f0f921\"]],\"type\":\"surface\"}],\"table\":[{\"cells\":{\"fill\":{\"color\":\"#EBF0F8\"},\"line\":{\"color\":\"white\"}},\"header\":{\"fill\":{\"color\":\"#C8D4E3\"},\"line\":{\"color\":\"white\"}},\"type\":\"table\"}]},\"layout\":{\"annotationdefaults\":{\"arrowcolor\":\"#2a3f5f\",\"arrowhead\":0,\"arrowwidth\":1},\"autotypenumbers\":\"strict\",\"coloraxis\":{\"colorbar\":{\"outlinewidth\":0,\"ticks\":\"\"}},\"colorscale\":{\"diverging\":[[0,\"#8e0152\"],[0.1,\"#c51b7d\"],[0.2,\"#de77ae\"],[0.3,\"#f1b6da\"],[0.4,\"#fde0ef\"],[0.5,\"#f7f7f7\"],[0.6,\"#e6f5d0\"],[0.7,\"#b8e186\"],[0.8,\"#7fbc41\"],[0.9,\"#4d9221\"],[1,\"#276419\"]],\"sequential\":[[0.0,\"#0d0887\"],[0.1111111111111111,\"#46039f\"],[0.2222222222222222,\"#7201a8\"],[0.3333333333333333,\"#9c179e\"],[0.4444444444444444,\"#bd3786\"],[0.5555555555555556,\"#d8576b\"],[0.6666666666666666,\"#ed7953\"],[0.7777777777777778,\"#fb9f3a\"],[0.8888888888888888,\"#fdca26\"],[1.0,\"#f0f921\"]],\"sequentialminus\":[[0.0,\"#0d0887\"],[0.1111111111111111,\"#46039f\"],[0.2222222222222222,\"#7201a8\"],[0.3333333333333333,\"#9c179e\"],[0.4444444444444444,\"#bd3786\"],[0.5555555555555556,\"#d8576b\"],[0.6666666666666666,\"#ed7953\"],[0.7777777777777778,\"#fb9f3a\"],[0.8888888888888888,\"#fdca26\"],[1.0,\"#f0f921\"]]},\"colorway\":[\"#636efa\",\"#EF553B\",\"#00cc96\",\"#ab63fa\",\"#FFA15A\",\"#19d3f3\",\"#FF6692\",\"#B6E880\",\"#FF97FF\",\"#FECB52\"],\"font\":{\"color\":\"#2a3f5f\"},\"geo\":{\"bgcolor\":\"white\",\"lakecolor\":\"white\",\"landcolor\":\"#E5ECF6\",\"showlakes\":true,\"showland\":true,\"subunitcolor\":\"white\"},\"hoverlabel\":{\"align\":\"left\"},\"hovermode\":\"closest\",\"mapbox\":{\"style\":\"light\"},\"paper_bgcolor\":\"white\",\"plot_bgcolor\":\"#E5ECF6\",\"polar\":{\"angularaxis\":{\"gridcolor\":\"white\",\"linecolor\":\"white\",\"ticks\":\"\"},\"bgcolor\":\"#E5ECF6\",\"radialaxis\":{\"gridcolor\":\"white\",\"linecolor\":\"white\",\"ticks\":\"\"}},\"scene\":{\"xaxis\":{\"backgroundcolor\":\"#E5ECF6\",\"gridcolor\":\"white\",\"gridwidth\":2,\"linecolor\":\"white\",\"showbackground\":true,\"ticks\":\"\",\"zerolinecolor\":\"white\"},\"yaxis\":{\"backgroundcolor\":\"#E5ECF6\",\"gridcolor\":\"white\",\"gridwidth\":2,\"linecolor\":\"white\",\"showbackground\":true,\"ticks\":\"\",\"zerolinecolor\":\"white\"},\"zaxis\":{\"backgroundcolor\":\"#E5ECF6\",\"gridcolor\":\"white\",\"gridwidth\":2,\"linecolor\":\"white\",\"showbackground\":true,\"ticks\":\"\",\"zerolinecolor\":\"white\"}},\"shapedefaults\":{\"line\":{\"color\":\"#2a3f5f\"}},\"ternary\":{\"aaxis\":{\"gridcolor\":\"white\",\"linecolor\":\"white\",\"ticks\":\"\"},\"baxis\":{\"gridcolor\":\"white\",\"linecolor\":\"white\",\"ticks\":\"\"},\"bgcolor\":\"#E5ECF6\",\"caxis\":{\"gridcolor\":\"white\",\"linecolor\":\"white\",\"ticks\":\"\"}},\"title\":{\"x\":0.05},\"xaxis\":{\"automargin\":true,\"gridcolor\":\"white\",\"linecolor\":\"white\",\"ticks\":\"\",\"title\":{\"standoff\":15},\"zerolinecolor\":\"white\",\"zerolinewidth\":2},\"yaxis\":{\"automargin\":true,\"gridcolor\":\"white\",\"linecolor\":\"white\",\"ticks\":\"\",\"title\":{\"standoff\":15},\"zerolinecolor\":\"white\",\"zerolinewidth\":2}}},\"coloraxis\":{\"colorbar\":{\"title\":{\"text\":\"totalSales\"}},\"colorscale\":[[0.0,\"#0d0887\"],[0.1111111111111111,\"#46039f\"],[0.2222222222222222,\"#7201a8\"],[0.3333333333333333,\"#9c179e\"],[0.4444444444444444,\"#bd3786\"],[0.5555555555555556,\"#d8576b\"],[0.6666666666666666,\"#ed7953\"],[0.7777777777777778,\"#fb9f3a\"],[0.8888888888888888,\"#fdca26\"],[1.0,\"#f0f921\"]]},\"legend\":{\"tracegroupgap\":0},\"title\":{\"text\":\"Overal Property Market in 5 Cities For Latest Auction \"},\"height\":500},                        {\"responsive\": true}                    ).then(function(){\n",
       "                            \n",
       "var gd = document.getElementById('b13c670f-bd1c-4703-89dd-43ce8ed3ca45');\n",
       "var x = new MutationObserver(function (mutations, observer) {{\n",
       "        var display = window.getComputedStyle(gd).display;\n",
       "        if (!display || display === 'none') {{\n",
       "            console.log([gd, 'removed!']);\n",
       "            Plotly.purge(gd);\n",
       "            observer.disconnect();\n",
       "        }}\n",
       "}});\n",
       "\n",
       "// Listen for the removal of the full notebook cells\n",
       "var notebookContainer = gd.closest('#notebook-container');\n",
       "if (notebookContainer) {{\n",
       "    x.observe(notebookContainer, {childList: true});\n",
       "}}\n",
       "\n",
       "// Listen for the clearing of the current output cell\n",
       "var outputEl = gd.closest('.output');\n",
       "if (outputEl) {{\n",
       "    x.observe(outputEl, {childList: true});\n",
       "}}\n",
       "\n",
       "                        })                };                });            </script>        </div>"
      ]
     },
     "metadata": {},
     "output_type": "display_data"
    }
   ],
   "source": [
    "# Create the sunburst chart using df_combined\n",
    "sunburst_chart = px.sunburst(\n",
    "    df_combined,\n",
    "    path=['city','totalSales'],\n",
    "    values=\"numberSold\",\n",
    "    color='totalSales',\n",
    "    title=\"Overal Property Market in 5 Cities For Latest Auction \",\n",
    "    height=500\n",
    ")\n",
    "sunburst_chart.show()"
   ]
  },
  {
   "cell_type": "code",
   "execution_count": null,
   "id": "c8c49323",
   "metadata": {},
   "outputs": [],
   "source": []
  }
 ],
 "metadata": {
  "kernelspec": {
   "display_name": "Python [conda env:pyvizenv] *",
   "language": "python",
   "name": "conda-env-pyvizenv-py"
  },
  "language_info": {
   "codemirror_mode": {
    "name": "ipython",
    "version": 3
   },
   "file_extension": ".py",
   "mimetype": "text/x-python",
   "name": "python",
   "nbconvert_exporter": "python",
   "pygments_lexer": "ipython3",
   "version": "3.7.11"
  }
 },
 "nbformat": 4,
 "nbformat_minor": 5
}
