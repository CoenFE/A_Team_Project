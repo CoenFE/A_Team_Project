{
 "cells": [
  {
   "cell_type": "code",
   "execution_count": null,
   "id": "2b0ead51",
   "metadata": {},
   "outputs": [],
   "source": [
    "# Fetching property data via Domain API"
   ]
  },
  {
   "cell_type": "code",
   "execution_count": 160,
   "id": "59602aea",
   "metadata": {},
   "outputs": [],
   "source": [
    "# Import libraries and dependencies\n",
    "import os\n",
    "import pandas as pd\n",
    "import requests\n",
    "from pathlib import Path\n",
    "import json\n",
    "import numpy as np\n",
    "import hvplot.pandas\n",
    "import panel as pn\n",
    "import plotly.express as px\n",
    "import random"
   ]
  },
  {
   "cell_type": "code",
   "execution_count": 43,
   "id": "6cf327e8",
   "metadata": {},
   "outputs": [
    {
     "data": {
      "text/plain": [
       "True"
      ]
     },
     "execution_count": 43,
     "metadata": {},
     "output_type": "execute_result"
    }
   ],
   "source": [
    "# Load .env enviroment variables\n",
    "from dotenv import load_dotenv, find_dotenv\n",
    "load_dotenv()"
   ]
  },
  {
   "cell_type": "code",
   "execution_count": 44,
   "id": "005fe179",
   "metadata": {},
   "outputs": [
    {
     "data": {
      "text/plain": [
       "str"
      ]
     },
     "execution_count": 44,
     "metadata": {},
     "output_type": "execute_result"
    }
   ],
   "source": [
    "# Set Domain API key \"\tapi_locations_read\"\n",
    "domain_key = os.getenv(\"Domain_API\")\n",
    "client_id = os.getenv(\"Client_Id\")\n",
    "client_secret = os.getenv(\"Secret_Value\")\n",
    "type(client_secret)"
   ]
  },
  {
   "cell_type": "code",
   "execution_count": 54,
   "id": "fe491746",
   "metadata": {},
   "outputs": [],
   "source": [
    "auth_url = \"https://auth.domain.com.au/v1/connect/token\""
   ]
  },
  {
   "cell_type": "code",
   "execution_count": 127,
   "id": "455f20a4",
   "metadata": {},
   "outputs": [
    {
     "data": {
      "text/html": [
       "<div>\n",
       "<style scoped>\n",
       "    .dataframe tbody tr th:only-of-type {\n",
       "        vertical-align: middle;\n",
       "    }\n",
       "\n",
       "    .dataframe tbody tr th {\n",
       "        vertical-align: top;\n",
       "    }\n",
       "\n",
       "    .dataframe thead th {\n",
       "        text-align: right;\n",
       "    }\n",
       "</style>\n",
       "<table border=\"1\" class=\"dataframe\">\n",
       "  <thead>\n",
       "    <tr style=\"text-align: right;\">\n",
       "      <th></th>\n",
       "      <th>numberListedForAuction</th>\n",
       "      <th>numberWithdrawn</th>\n",
       "      <th>numberUnreported</th>\n",
       "      <th>numberAuctioned</th>\n",
       "      <th>numberSold</th>\n",
       "      <th>totalSales</th>\n",
       "      <th>median</th>\n",
       "      <th>adjClearanceRate</th>\n",
       "    </tr>\n",
       "  </thead>\n",
       "  <tbody>\n",
       "    <tr>\n",
       "      <th>Sydney</th>\n",
       "      <td>785</td>\n",
       "      <td>77</td>\n",
       "      <td>9</td>\n",
       "      <td>561</td>\n",
       "      <td>437</td>\n",
       "      <td>504968750.0</td>\n",
       "      <td>1540000</td>\n",
       "      <td>0.778966</td>\n",
       "    </tr>\n",
       "    <tr>\n",
       "      <th>Melbourne</th>\n",
       "      <td>890</td>\n",
       "      <td>58</td>\n",
       "      <td>4</td>\n",
       "      <td>650</td>\n",
       "      <td>455</td>\n",
       "      <td>388426256.0</td>\n",
       "      <td>990000</td>\n",
       "      <td>0.7</td>\n",
       "    </tr>\n",
       "    <tr>\n",
       "      <th>Brisbane</th>\n",
       "      <td>103</td>\n",
       "      <td>2</td>\n",
       "      <td>2</td>\n",
       "      <td>50</td>\n",
       "      <td>43</td>\n",
       "      <td>37845500.0</td>\n",
       "      <td>1201000</td>\n",
       "      <td>0.86</td>\n",
       "    </tr>\n",
       "    <tr>\n",
       "      <th>Canberra</th>\n",
       "      <td>83</td>\n",
       "      <td>0</td>\n",
       "      <td>0</td>\n",
       "      <td>59</td>\n",
       "      <td>49</td>\n",
       "      <td>44362750.0</td>\n",
       "      <td>1036000</td>\n",
       "      <td>0.830508</td>\n",
       "    </tr>\n",
       "    <tr>\n",
       "      <th>Adelaide</th>\n",
       "      <td>120</td>\n",
       "      <td>4</td>\n",
       "      <td>2</td>\n",
       "      <td>73</td>\n",
       "      <td>58</td>\n",
       "      <td>39600388.0</td>\n",
       "      <td>940000</td>\n",
       "      <td>0.794521</td>\n",
       "    </tr>\n",
       "  </tbody>\n",
       "</table>\n",
       "</div>"
      ],
      "text/plain": [
       "          numberListedForAuction numberWithdrawn numberUnreported  \\\n",
       "Sydney                       785              77                9   \n",
       "Melbourne                    890              58                4   \n",
       "Brisbane                     103               2                2   \n",
       "Canberra                      83               0                0   \n",
       "Adelaide                     120               4                2   \n",
       "\n",
       "          numberAuctioned numberSold   totalSales   median adjClearanceRate  \n",
       "Sydney                561        437  504968750.0  1540000         0.778966  \n",
       "Melbourne             650        455  388426256.0   990000              0.7  \n",
       "Brisbane               50         43   37845500.0  1201000             0.86  \n",
       "Canberra               59         49   44362750.0  1036000         0.830508  \n",
       "Adelaide               73         58   39600388.0   940000         0.794521  "
      ]
     },
     "execution_count": 127,
     "metadata": {},
     "output_type": "execute_result"
    }
   ],
   "source": [
    "response = requests.post(auth_url,\n",
    "        data = {\n",
    "        'client_id':client_id,\n",
    "        'client_secret':client_secret,\n",
    "        'grant_type':'client_credentials',\n",
    "        'scope':\"api_salesresults_read\",\n",
    "        'Content-Type':'text/json'}\n",
    "        )\n",
    "json_res = response.json()\n",
    "access_token=json_res[\"access_token\"]\n",
    "auth = {'Authorization':'Bearer '+access_token}\n",
    "\n",
    "#fetching data for different cities via API\n",
    "cities = [\"Sydney\",\"Melbourne\",\"Brisbane\", \"Canberra\", \"Adelaide\"]\n",
    "df_combined=[]\n",
    "\n",
    "for City in cities:\n",
    "    url_detailed=f'https://api.domain.com.au/v1/salesResults/{City}'\n",
    "    resp = requests.get(url_detailed, headers = auth)\n",
    "    resp = resp.json()\n",
    "    df = pd.DataFrame(resp,index=[0]).T\n",
    "    df.columns=[City]\n",
    "    df_combined.append(df)\n",
    "\n",
    "df_combined = pd.concat(df_combined,axis=1)\n",
    "\n",
    "#Transposing df_combined \n",
    "df_combined = df_combined.transpose()\n",
    "\n",
    "# Dropping avoidable Columns\n",
    "df_combined = df_combined.drop('auctionedDate', axis=1)\n",
    "df_combined = df_combined.drop('lastModifiedDateTime', axis=1)\n",
    "\n",
    "df_combined.head(10)"
   ]
  },
  {
   "cell_type": "code",
   "execution_count": 64,
   "id": "4786ed2b",
   "metadata": {},
   "outputs": [],
   "source": [
    "# # saving the combined dataframe as CSV due to API limitations\n",
    "# df_combined.to_csv(\"cities_combined.csv\")\n",
    "\n",
    "# # reading from CSV file\n",
    "# file_path = Path(\"cities_combined.csv\")\n",
    "# df_imported = pd.DataFrame(pd.read_csv(file_path))\n",
    "# df_imported = df_imported.rename(columns={\"Unnamed: 0\": \"City\"})\n",
    "# df_imported.head(10)"
   ]
  },
  {
   "cell_type": "code",
   "execution_count": 158,
   "id": "459492d9",
   "metadata": {
    "scrolled": true
   },
   "outputs": [
    {
     "data": {
      "image/png": "[encoded data removed]",
      "text/plain": [
       "<Figure size 720x360 with 1 Axes>"
      ]
     },
     "metadata": {
      "needs_background": "light"
     },
     "output_type": "display_data"
    },
    {
     "data": {
      "image/png": "[encoded data removed]",
      "text/plain": [
       "<Figure size 720x360 with 1 Axes>"
      ]
     },
     "metadata": {
      "needs_background": "light"
     },
     "output_type": "display_data"
    },
    {
     "data": {
      "image/png": "[encoded data removed]",
      "text/plain": [
       "<Figure size 720x360 with 1 Axes>"
      ]
     },
     "metadata": {
      "needs_background": "light"
     },
     "output_type": "display_data"
    },
    {
     "data": {
      "image/png": "[encoded data removed]",
      "text/plain": [
       "<Figure size 720x360 with 1 Axes>"
      ]
     },
     "metadata": {
      "needs_background": "light"
     },
     "output_type": "display_data"
    },
    {
     "data": {
      "image/png": "[encoded data removed]",
      "text/plain": [
       "<Figure size 720x360 with 1 Axes>"
      ]
     },
     "metadata": {
      "needs_background": "light"
     },
     "output_type": "display_data"
    },
    {
     "data": {
      "image/png": "[encoded data removed]",
      "text/plain": [
       "<Figure size 720x360 with 1 Axes>"
      ]
     },
     "metadata": {
      "needs_background": "light"
     },
     "output_type": "display_data"
    },
    {
     "data": {
      "image/png": "[encoded data removed]",
      "text/plain": [
       "<Figure size 720x360 with 1 Axes>"
      ]
     },
     "metadata": {
      "needs_background": "light"
     },
     "output_type": "display_data"
    },
    {
     "data": {
      "image/png": "[encoded data removed]",
      "text/plain": [
       "<Figure size 720x360 with 1 Axes>"
      ]
     },
     "metadata": {
      "needs_background": "light"
     },
     "output_type": "display_data"
    }
   ],
   "source": [
    "#creating bar plot using df_combined dataframe\n",
    "\n",
    "for col in df_combined.columns:\n",
    "        colors = [\"#\"+''.join([random.choice('ABCDEF0123456789') for i in range(6)])]        \n",
    "        df_combined[[col]].plot.bar(title=col, color=colors, figsize=(10,5))        "
   ]
  },
  {
   "cell_type": "code",
   "execution_count": 124,
   "id": "b86eb932",
   "metadata": {},
   "outputs": [],
   "source": [
    "#creating_line_chart function\n",
    "def create_line_chart(data, title, xlabel, ylabel, color):    \n",
    "    create_line_chart = data.hvplot.line(title=title, xlabel=xlabel, ylabel=ylabel, color=color, height=400)\n",
    "    return (create_line_chart)"
   ]
  },
  {
   "cell_type": "code",
   "execution_count": 172,
   "id": "e7f30fe5",
   "metadata": {},
   "outputs": [
    {
     "data": {},
     "metadata": {},
     "output_type": "display_data"
    },
    {
     "data": {
      "application/vnd.holoviews_exec.v0+json": "",
      "text/html": [
       "<div id='5294'>\n",
       "\n",
       "\n",
       "\n",
       "\n",
       "\n",
       "  <div class=\"bk-root\" id=\"552f3025-7a16-47c4-ad28-63fd33b42046\" data-root-id=\"5294\"></div>\n",
       "</div>\n",
       "<script type=\"application/javascript\">(function(root) {\n",
       "  function embed_document(root) {\n",
       "    var docs_json = {\"606ef8ff-279d-47b1-bf7a-24c85bcdd921\":{\"defs\":[{\"extends\":null,\"module\":null,\"name\":\"ReactiveHTML1\",\"overrides\":[],\"properties\":[]},{\"extends\":null,\"module\":null,\"name\":\"FlexBox1\",\"overrides\":[],\"properties\":[{\"default\":\"flex-start\",\"kind\":null,\"name\":\"align_content\"},{\"default\":\"flex-start\",\"kind\":null,\"name\":\"align_items\"},{\"default\":\"row\",\"kind\":null,\"name\":\"flex_direction\"},{\"default\":\"wrap\",\"kind\":null,\"name\":\"flex_wrap\"},{\"default\":\"flex-start\",\"kind\":null,\"name\":\"justify_content\"}]},{\"extends\":null,\"module\":null,\"name\":\"TemplateActions1\",\"overrides\":[],\"properties\":[{\"default\":0,\"kind\":null,\"name\":\"open_modal\"},{\"default\":0,\"kind\":null,\"name\":\"close_modal\"}]},{\"extends\":null,\"module\":null,\"name\":\"MaterialTemplateActions1\",\"overrides\":[],\"properties\":[{\"default\":0,\"kind\":null,\"name\":\"open_modal\"},{\"default\":0,\"kind\":null,\"name\":\"close_modal\"}]}],\"roots\":{\"references\":[{\"attributes\":{},\"id\":\"5356\",\"type\":\"LinearScale\"},{\"attributes\":{\"children\":[{\"id\":\"5418\"},{\"id\":\"5416\"}]},\"id\":\"5419\",\"type\":\"Column\"},{\"attributes\":{\"below\":[{\"id\":\"5358\"}],\"center\":[{\"id\":\"5360\"},{\"id\":\"5364\"}],\"height\":400,\"left\":[{\"id\":\"5361\"}],\"margin\":null,\"min_border_bottom\":10,\"min_border_left\":10,\"min_border_right\":10,\"min_border_top\":10,\"renderers\":[{\"id\":\"5384\"}],\"sizing_mode\":\"fixed\",\"title\":{\"id\":\"5350\"},\"toolbar\":{\"id\":\"5371\"},\"toolbar_location\":null,\"width\":700,\"x_range\":{\"id\":\"5296\"},\"x_scale\":{\"id\":\"5354\"},\"y_range\":{\"id\":\"5347\"},\"y_scale\":{\"id\":\"5356\"}},\"id\":\"5349\",\"subtype\":\"Figure\",\"type\":\"Plot\"},{\"attributes\":{\"line_alpha\":0.2,\"line_color\":\"red\",\"line_width\":2,\"x\":{\"field\":\"index\"},\"y\":{\"field\":\"median\"}},\"id\":\"5383\",\"type\":\"Line\"},{\"attributes\":{},\"id\":\"5359\",\"type\":\"CategoricalTicker\"},{\"attributes\":{},\"id\":\"5306\",\"type\":\"LinearScale\"},{\"attributes\":{},\"id\":\"5365\",\"type\":\"SaveTool\"},{\"attributes\":{\"bottom_units\":\"screen\",\"coordinates\":null,\"fill_alpha\":0.5,\"fill_color\":\"lightgrey\",\"group\":null,\"left_units\":\"screen\",\"level\":\"overlay\",\"line_alpha\":1.0,\"line_color\":\"black\",\"line_dash\":[4,4],\"line_width\":2,\"right_units\":\"screen\",\"syncable\":false,\"top_units\":\"screen\"},\"id\":\"5320\",\"type\":\"BoxAnnotation\"},{\"attributes\":{},\"id\":\"5389\",\"type\":\"CategoricalTickFormatter\"},{\"attributes\":{},\"id\":\"5412\",\"type\":\"UnionRenderers\"},{\"attributes\":{\"line_alpha\":0.1,\"line_color\":\"orange\",\"line_width\":2,\"x\":{\"field\":\"index\"},\"y\":{\"field\":\"totalSales\"}},\"id\":\"5332\",\"type\":\"Line\"},{\"attributes\":{\"format\":\"%.0f\"},\"id\":\"5337\",\"type\":\"PrintfTickFormatter\"},{\"attributes\":{},\"id\":\"5317\",\"type\":\"WheelZoomTool\"},{\"attributes\":{\"data\":{\"index\":[\"Sydney\",\"Melbourne\",\"Brisbane\",\"Canberra\",\"Adelaide\"],\"median\":{\"__ndarray__\":\"oH8XADAbDwBoUxIA4M4PAOBXDgA=\",\"dtype\":\"int32\",\"order\":\"little\",\"shape\":[5]}},\"selected\":{\"id\":\"5379\"},\"selection_policy\":{\"id\":\"5412\"}},\"id\":\"5378\",\"type\":\"ColumnDataSource\"},{\"attributes\":{\"coordinates\":null,\"group\":null,\"text\":\"Number of Property Sold Per City\",\"text_color\":\"black\",\"text_font_size\":\"12pt\"},\"id\":\"5300\",\"type\":\"Title\"},{\"attributes\":{},\"id\":\"5367\",\"type\":\"WheelZoomTool\"},{\"attributes\":{},\"id\":\"5315\",\"type\":\"SaveTool\"},{\"attributes\":{},\"id\":\"5369\",\"type\":\"ResetTool\"},{\"attributes\":{\"format\":\"%.0f\"},\"id\":\"5387\",\"type\":\"PrintfTickFormatter\"},{\"attributes\":{},\"id\":\"5402\",\"type\":\"UnionRenderers\"},{\"attributes\":{\"margin\":[5,5,5,5],\"name\":\"HSpacer09976\",\"sizing_mode\":\"stretch_width\"},\"id\":\"5295\",\"type\":\"Spacer\"},{\"attributes\":{},\"id\":\"5319\",\"type\":\"ResetTool\"},{\"attributes\":{\"axis\":{\"id\":\"5308\"},\"coordinates\":null,\"grid_line_color\":null,\"group\":null,\"ticker\":null},\"id\":\"5310\",\"type\":\"Grid\"},{\"attributes\":{\"coordinates\":null,\"group\":null,\"text\":\"Average Sale Price Per City\",\"text_color\":\"black\",\"text_font_size\":\"12pt\"},\"id\":\"5350\",\"type\":\"Title\"},{\"attributes\":{\"axis\":{\"id\":\"5358\"},\"coordinates\":null,\"grid_line_color\":null,\"group\":null,\"ticker\":null},\"id\":\"5360\",\"type\":\"Grid\"},{\"attributes\":{},\"id\":\"5366\",\"type\":\"PanTool\"},{\"attributes\":{\"tools\":[{\"id\":\"5298\"},{\"id\":\"5315\"},{\"id\":\"5316\"},{\"id\":\"5317\"},{\"id\":\"5318\"},{\"id\":\"5319\"}]},\"id\":\"5321\",\"type\":\"Toolbar\"},{\"attributes\":{\"end\":1600000.0,\"reset_end\":1600000.0,\"reset_start\":880000.0,\"start\":880000.0,\"tags\":[[[\"median\",\"median\",null]]]},\"id\":\"5347\",\"type\":\"Range1d\"},{\"attributes\":{\"toolbar\":{\"id\":\"5417\"},\"toolbar_location\":\"above\"},\"id\":\"5418\",\"type\":\"ToolbarBox\"},{\"attributes\":{\"overlay\":{\"id\":\"5320\"}},\"id\":\"5318\",\"type\":\"BoxZoomTool\"},{\"attributes\":{\"line_color\":\"red\",\"line_width\":2,\"x\":{\"field\":\"index\"},\"y\":{\"field\":\"median\"}},\"id\":\"5386\",\"type\":\"Line\"},{\"attributes\":{\"overlay\":{\"id\":\"5370\"}},\"id\":\"5368\",\"type\":\"BoxZoomTool\"},{\"attributes\":{\"callback\":null,\"renderers\":[{\"id\":\"5384\"}],\"tags\":[\"hv_created\"],\"tooltips\":[[\"index\",\"@{index}\"],[\"median\",\"@{median}\"]]},\"id\":\"5348\",\"type\":\"HoverTool\"},{\"attributes\":{\"coordinates\":null,\"data_source\":{\"id\":\"5328\"},\"glyph\":{\"id\":\"5331\"},\"group\":null,\"hover_glyph\":null,\"muted_glyph\":{\"id\":\"5333\"},\"nonselection_glyph\":{\"id\":\"5332\"},\"selection_glyph\":{\"id\":\"5336\"},\"view\":{\"id\":\"5335\"}},\"id\":\"5334\",\"type\":\"GlyphRenderer\"},{\"attributes\":{\"below\":[{\"id\":\"5308\"}],\"center\":[{\"id\":\"5310\"},{\"id\":\"5314\"}],\"height\":400,\"left\":[{\"id\":\"5311\"}],\"margin\":null,\"min_border_bottom\":10,\"min_border_left\":10,\"min_border_right\":10,\"min_border_top\":10,\"renderers\":[{\"id\":\"5334\"}],\"sizing_mode\":\"fixed\",\"title\":{\"id\":\"5300\"},\"toolbar\":{\"id\":\"5321\"},\"toolbar_location\":null,\"width\":700,\"x_range\":{\"id\":\"5296\"},\"x_scale\":{\"id\":\"5304\"},\"y_range\":{\"id\":\"5297\"},\"y_scale\":{\"id\":\"5306\"}},\"id\":\"5299\",\"subtype\":\"Figure\",\"type\":\"Plot\"},{\"attributes\":{\"axis_label\":\"Avarage Price (AUD)\",\"coordinates\":null,\"formatter\":{\"id\":\"5387\"},\"group\":null,\"major_label_policy\":{\"id\":\"5393\"},\"ticker\":{\"id\":\"5362\"}},\"id\":\"5361\",\"type\":\"LinearAxis\"},{\"attributes\":{\"source\":{\"id\":\"5328\"}},\"id\":\"5335\",\"type\":\"CDSView\"},{\"attributes\":{},\"id\":\"5316\",\"type\":\"PanTool\"},{\"attributes\":{\"factors\":[\"Sydney\",\"Melbourne\",\"Brisbane\",\"Canberra\",\"Adelaide\"],\"tags\":[[[\"index\",\"index\",null]]]},\"id\":\"5296\",\"type\":\"FactorRange\"},{\"attributes\":{},\"id\":\"5329\",\"type\":\"Selection\"},{\"attributes\":{\"line_color\":\"red\",\"line_width\":2,\"x\":{\"field\":\"index\"},\"y\":{\"field\":\"median\"}},\"id\":\"5381\",\"type\":\"Line\"},{\"attributes\":{\"margin\":[5,5,5,5],\"name\":\"HSpacer09977\",\"sizing_mode\":\"stretch_width\"},\"id\":\"5582\",\"type\":\"Spacer\"},{\"attributes\":{\"toolbars\":[{\"id\":\"5321\"},{\"id\":\"5371\"}],\"tools\":[{\"id\":\"5298\"},{\"id\":\"5315\"},{\"id\":\"5316\"},{\"id\":\"5317\"},{\"id\":\"5318\"},{\"id\":\"5319\"},{\"id\":\"5348\"},{\"id\":\"5365\"},{\"id\":\"5366\"},{\"id\":\"5367\"},{\"id\":\"5368\"},{\"id\":\"5369\"}]},\"id\":\"5417\",\"type\":\"ProxyToolbar\"},{\"attributes\":{\"data\":{\"index\":[\"Sydney\",\"Melbourne\",\"Brisbane\",\"Canberra\",\"Adelaide\"],\"totalSales\":{\"__ndarray__\":\"AAAALjYZvkEAAAAQ6ia3QQAAAODPC4JBAAAA8F8nhUEAAAAgCOKCQQ==\",\"dtype\":\"float64\",\"order\":\"little\",\"shape\":[5]}},\"selected\":{\"id\":\"5329\"},\"selection_policy\":{\"id\":\"5402\"}},\"id\":\"5328\",\"type\":\"ColumnDataSource\"},{\"attributes\":{\"callback\":null,\"renderers\":[{\"id\":\"5334\"}],\"tags\":[\"hv_created\"],\"tooltips\":[[\"index\",\"@{index}\"],[\"totalSales\",\"@{totalSales}\"]]},\"id\":\"5298\",\"type\":\"HoverTool\"},{\"attributes\":{\"axis_label\":\"City\",\"coordinates\":null,\"formatter\":{\"id\":\"5389\"},\"group\":null,\"major_label_policy\":{\"id\":\"5390\"},\"ticker\":{\"id\":\"5359\"}},\"id\":\"5358\",\"type\":\"CategoricalAxis\"},{\"attributes\":{\"axis\":{\"id\":\"5361\"},\"coordinates\":null,\"dimension\":1,\"grid_line_color\":null,\"group\":null,\"ticker\":null},\"id\":\"5364\",\"type\":\"Grid\"},{\"attributes\":{\"bottom_units\":\"screen\",\"coordinates\":null,\"fill_alpha\":0.5,\"fill_color\":\"lightgrey\",\"group\":null,\"left_units\":\"screen\",\"level\":\"overlay\",\"line_alpha\":1.0,\"line_color\":\"black\",\"line_dash\":[4,4],\"line_width\":2,\"right_units\":\"screen\",\"syncable\":false,\"top_units\":\"screen\"},\"id\":\"5370\",\"type\":\"BoxAnnotation\"},{\"attributes\":{\"line_color\":\"orange\",\"line_width\":2,\"x\":{\"field\":\"index\"},\"y\":{\"field\":\"totalSales\"}},\"id\":\"5336\",\"type\":\"Line\"},{\"attributes\":{\"line_alpha\":0.2,\"line_color\":\"orange\",\"line_width\":2,\"x\":{\"field\":\"index\"},\"y\":{\"field\":\"totalSales\"}},\"id\":\"5333\",\"type\":\"Line\"},{\"attributes\":{\"children\":[[{\"id\":\"5299\"},0,0],[{\"id\":\"5349\"},0,1]]},\"id\":\"5416\",\"type\":\"GridBox\"},{\"attributes\":{\"axis_label\":\"City\",\"coordinates\":null,\"formatter\":{\"id\":\"5339\"},\"group\":null,\"major_label_policy\":{\"id\":\"5340\"},\"ticker\":{\"id\":\"5309\"}},\"id\":\"5308\",\"type\":\"CategoricalAxis\"},{\"attributes\":{\"axis_label\":\"Number of Sales\",\"coordinates\":null,\"formatter\":{\"id\":\"5337\"},\"group\":null,\"major_label_policy\":{\"id\":\"5343\"},\"ticker\":{\"id\":\"5312\"}},\"id\":\"5311\",\"type\":\"LinearAxis\"},{\"attributes\":{},\"id\":\"5339\",\"type\":\"CategoricalTickFormatter\"},{\"attributes\":{},\"id\":\"5390\",\"type\":\"AllLabels\"},{\"attributes\":{\"axis\":{\"id\":\"5311\"},\"coordinates\":null,\"dimension\":1,\"grid_line_color\":null,\"group\":null,\"ticker\":null},\"id\":\"5314\",\"type\":\"Grid\"},{\"attributes\":{\"line_color\":\"orange\",\"line_width\":2,\"x\":{\"field\":\"index\"},\"y\":{\"field\":\"totalSales\"}},\"id\":\"5331\",\"type\":\"Line\"},{\"attributes\":{},\"id\":\"5354\",\"type\":\"CategoricalScale\"},{\"attributes\":{},\"id\":\"5312\",\"type\":\"BasicTicker\"},{\"attributes\":{},\"id\":\"5343\",\"type\":\"AllLabels\"},{\"attributes\":{\"line_alpha\":0.1,\"line_color\":\"red\",\"line_width\":2,\"x\":{\"field\":\"index\"},\"y\":{\"field\":\"median\"}},\"id\":\"5382\",\"type\":\"Line\"},{\"attributes\":{},\"id\":\"5340\",\"type\":\"AllLabels\"},{\"attributes\":{\"children\":[{\"id\":\"5295\"},{\"id\":\"5419\"},{\"id\":\"5582\"}],\"margin\":[0,0,0,0],\"name\":\"Row09972\",\"tags\":[\"embedded\"]},\"id\":\"5294\",\"type\":\"Row\"},{\"attributes\":{\"tools\":[{\"id\":\"5348\"},{\"id\":\"5365\"},{\"id\":\"5366\"},{\"id\":\"5367\"},{\"id\":\"5368\"},{\"id\":\"5369\"}]},\"id\":\"5371\",\"type\":\"Toolbar\"},{\"attributes\":{},\"id\":\"5362\",\"type\":\"BasicTicker\"},{\"attributes\":{},\"id\":\"5393\",\"type\":\"AllLabels\"},{\"attributes\":{},\"id\":\"5304\",\"type\":\"CategoricalScale\"},{\"attributes\":{\"coordinates\":null,\"data_source\":{\"id\":\"5378\"},\"glyph\":{\"id\":\"5381\"},\"group\":null,\"hover_glyph\":null,\"muted_glyph\":{\"id\":\"5383\"},\"nonselection_glyph\":{\"id\":\"5382\"},\"selection_glyph\":{\"id\":\"5386\"},\"view\":{\"id\":\"5385\"}},\"id\":\"5384\",\"type\":\"GlyphRenderer\"},{\"attributes\":{},\"id\":\"5309\",\"type\":\"CategoricalTicker\"},{\"attributes\":{\"end\":551681075.0,\"reset_end\":551681075.0,\"reset_start\":-8866825.0,\"start\":-8866825.0,\"tags\":[[[\"totalSales\",\"totalSales\",null]]]},\"id\":\"5297\",\"type\":\"Range1d\"},{\"attributes\":{\"source\":{\"id\":\"5378\"}},\"id\":\"5385\",\"type\":\"CDSView\"},{\"attributes\":{},\"id\":\"5379\",\"type\":\"Selection\"}],\"root_ids\":[\"5294\"]},\"title\":\"Bokeh Application\",\"version\":\"2.4.2\"}};\n",
       "    var render_items = [{\"docid\":\"606ef8ff-279d-47b1-bf7a-24c85bcdd921\",\"root_ids\":[\"5294\"],\"roots\":{\"5294\":\"552f3025-7a16-47c4-ad28-63fd33b42046\"}}];\n",
       "    root.Bokeh.embed.embed_items_notebook(docs_json, render_items);\n",
       "  }\n",
       "  if (root.Bokeh !== undefined && root.Bokeh.Panel !== undefined) {\n",
       "    embed_document(root);\n",
       "  } else {\n",
       "    var attempts = 0;\n",
       "    var timer = setInterval(function(root) {\n",
       "      if (root.Bokeh !== undefined && root.Bokeh.Panel !== undefined) {\n",
       "        clearInterval(timer);\n",
       "        embed_document(root);\n",
       "      } else if (document.readyState == \"complete\") {\n",
       "        attempts++;\n",
       "        if (attempts > 200) {\n",
       "          clearInterval(timer);\n",
       "          console.log(\"Bokeh: ERROR: Unable to run BokehJS code because BokehJS library is missing\");\n",
       "        }\n",
       "      }\n",
       "    }, 25, root)\n",
       "  }\n",
       "})(window);</script>"
      ],
      "text/plain": [
       ":Layout\n",
       "   .Curve.TotalSales :Curve   [index]   (totalSales)\n",
       "   .Curve.Median     :Curve   [index]   (median)"
      ]
     },
     "execution_count": 172,
     "metadata": {
      "application/vnd.holoviews_exec.v0+json": {
       "id": "5294"
      }
     },
     "output_type": "execute_result"
    }
   ],
   "source": [
    "#creating a Line chart for median price per city using df_combined dataframe\n",
    "median_line_chart = create_line_chart(df_combined[\"median\"],\"Average Sale Price Per City\",\n",
    "                            \"City\", \"Avarage Price (AUD)\", \"red\").opts(yformatter=\"%.0f\")\n",
    "\n",
    "#creating a bar chart for total number of sales per city using df_combined dataframe\n",
    "#sales_bar_chart = df_combined[\"totalSales\"].hvplot.bar(label = 'Number of Property Sold Per City').opts(yformatter=\"%.0f\")\n",
    "                                         \n",
    "sales_line_chart = create_line_chart(df_combined[\"totalSales\"],\"Number of Property Sold Per City\",\n",
    "                            \"City\", \"Number of Sales\", \"orange\").opts(yformatter=\"%.0f\")\n",
    "\n",
    "sales_line_chart + median_line_chart"
   ]
  },
  {
   "cell_type": "code",
   "execution_count": 219,
   "id": "cd34e6b7",
   "metadata": {},
   "outputs": [
    {
     "data": {
      "text/html": [
       "<div>\n",
       "<style scoped>\n",
       "    .dataframe tbody tr th:only-of-type {\n",
       "        vertical-align: middle;\n",
       "    }\n",
       "\n",
       "    .dataframe tbody tr th {\n",
       "        vertical-align: top;\n",
       "    }\n",
       "\n",
       "    .dataframe thead th {\n",
       "        text-align: right;\n",
       "    }\n",
       "</style>\n",
       "<table border=\"1\" class=\"dataframe\">\n",
       "  <thead>\n",
       "    <tr style=\"text-align: right;\">\n",
       "      <th></th>\n",
       "      <th>City</th>\n",
       "      <th>numberListedForAuction</th>\n",
       "      <th>numberWithdrawn</th>\n",
       "      <th>numberUnreported</th>\n",
       "      <th>numberAuctioned</th>\n",
       "      <th>numberSold</th>\n",
       "      <th>totalSales</th>\n",
       "      <th>median</th>\n",
       "      <th>adjClearanceRate</th>\n",
       "    </tr>\n",
       "    <tr>\n",
       "      <th>City</th>\n",
       "      <th></th>\n",
       "      <th></th>\n",
       "      <th></th>\n",
       "      <th></th>\n",
       "      <th></th>\n",
       "      <th></th>\n",
       "      <th></th>\n",
       "      <th></th>\n",
       "      <th></th>\n",
       "    </tr>\n",
       "  </thead>\n",
       "  <tbody>\n",
       "    <tr>\n",
       "      <th>Sydney</th>\n",
       "      <td>Sydney</td>\n",
       "      <td>785</td>\n",
       "      <td>77</td>\n",
       "      <td>9</td>\n",
       "      <td>561</td>\n",
       "      <td>437</td>\n",
       "      <td>504968750</td>\n",
       "      <td>1540000</td>\n",
       "      <td>0.778966</td>\n",
       "    </tr>\n",
       "    <tr>\n",
       "      <th>Melbourne</th>\n",
       "      <td>Melbourne</td>\n",
       "      <td>890</td>\n",
       "      <td>58</td>\n",
       "      <td>4</td>\n",
       "      <td>650</td>\n",
       "      <td>455</td>\n",
       "      <td>388426256</td>\n",
       "      <td>990000</td>\n",
       "      <td>0.700000</td>\n",
       "    </tr>\n",
       "    <tr>\n",
       "      <th>Brisbane</th>\n",
       "      <td>Brisbane</td>\n",
       "      <td>103</td>\n",
       "      <td>2</td>\n",
       "      <td>2</td>\n",
       "      <td>50</td>\n",
       "      <td>43</td>\n",
       "      <td>37845500</td>\n",
       "      <td>1201000</td>\n",
       "      <td>0.860000</td>\n",
       "    </tr>\n",
       "    <tr>\n",
       "      <th>Canberra</th>\n",
       "      <td>Canberra</td>\n",
       "      <td>83</td>\n",
       "      <td>0</td>\n",
       "      <td>0</td>\n",
       "      <td>59</td>\n",
       "      <td>49</td>\n",
       "      <td>44362750</td>\n",
       "      <td>1036000</td>\n",
       "      <td>0.830508</td>\n",
       "    </tr>\n",
       "    <tr>\n",
       "      <th>Adelaide</th>\n",
       "      <td>Adelaide</td>\n",
       "      <td>120</td>\n",
       "      <td>4</td>\n",
       "      <td>2</td>\n",
       "      <td>73</td>\n",
       "      <td>58</td>\n",
       "      <td>39600388</td>\n",
       "      <td>940000</td>\n",
       "      <td>0.794521</td>\n",
       "    </tr>\n",
       "  </tbody>\n",
       "</table>\n",
       "</div>"
      ],
      "text/plain": [
       "                City  numberListedForAuction  numberWithdrawn  \\\n",
       "City                                                            \n",
       "Sydney        Sydney                     785               77   \n",
       "Melbourne  Melbourne                     890               58   \n",
       "Brisbane    Brisbane                     103                2   \n",
       "Canberra    Canberra                      83                0   \n",
       "Adelaide    Adelaide                     120                4   \n",
       "\n",
       "           numberUnreported  numberAuctioned  numberSold  totalSales   median  \\\n",
       "City                                                                            \n",
       "Sydney                    9              561         437   504968750  1540000   \n",
       "Melbourne                 4              650         455   388426256   990000   \n",
       "Brisbane                  2               50          43    37845500  1201000   \n",
       "Canberra                  0               59          49    44362750  1036000   \n",
       "Adelaide                  2               73          58    39600388   940000   \n",
       "\n",
       "           adjClearanceRate  \n",
       "City                         \n",
       "Sydney             0.778966  \n",
       "Melbourne          0.700000  \n",
       "Brisbane           0.860000  \n",
       "Canberra           0.830508  \n",
       "Adelaide           0.794521  "
      ]
     },
     "execution_count": 219,
     "metadata": {},
     "output_type": "execute_result"
    }
   ],
   "source": [
    "# reading from CSV file for sunburst chart\n",
    "file_path = Path(\"cities_combined.csv\")\n",
    "df_imported = pd.DataFrame(pd.read_csv(file_path))\n",
    "df_imported = df_imported.rename(columns={\"Unnamed: 0\": \"City\"})\n",
    "df_imported = df_imported.set_index(df_imported[\"City\"])\n",
    "df_imported.head(10)"
   ]
  },
  {
   "cell_type": "code",
   "execution_count": 220,
   "id": "c7914724",
   "metadata": {},
   "outputs": [
    {
     "data": {
      "application/vnd.plotly.v1+json": {
       "config": {
        "plotlyServerURL": "https://plot.ly"
       },
       "data": [
        {
         "branchvalues": "total",
         "customdata": [
          [
           37845500
          ],
          [
           39600388
          ],
          [
           44362750
          ],
          [
           388426256
          ],
          [
           504968750
          ],
          [
           39600388
          ],
          [
           37845500
          ],
          [
           44362750
          ],
          [
           388426256
          ],
          [
           504968750
          ]
         ],
         "domain": {
          "x": [
           0,
           1
          ],
          "y": [
           0,
           1
          ]
         },
         "hovertemplate": "labels=%{label}<br>numberSold=%{value}<br>parent=%{parent}<br>id=%{id}<br>totalSales=%{color}<extra></extra>",
         "ids": [
          "Brisbane/37845500",
          "Adelaide/39600388",
          "Canberra/44362750",
          "Melbourne/388426256",
          "Sydney/504968750",
          "Adelaide",
          "Brisbane",
          "Canberra",
          "Melbourne",
          "Sydney"
         ],
         "labels": [
          "37845500",
          "39600388",
          "44362750",
          "388426256",
          "504968750",
          "Adelaide",
          "Brisbane",
          "Canberra",
          "Melbourne",
          "Sydney"
         ],
         "marker": {
          "coloraxis": "coloraxis",
          "colors": [
           37845500,
           39600388,
           44362750,
           388426256,
           504968750,
           39600388,
           37845500,
           44362750,
           388426256,
           504968750
          ]
         },
         "name": "",
         "parents": [
          "Brisbane",
          "Adelaide",
          "Canberra",
          "Melbourne",
          "Sydney",
          "",
          "",
          "",
          "",
          ""
         ],
         "type": "sunburst",
         "values": [
          43,
          58,
          49,
          455,
          437,
          58,
          43,
          49,
          455,
          437
         ]
        }
       ],
       "layout": {
        "autosize": true,
        "coloraxis": {
         "colorbar": {
          "title": {
           "text": "totalSales"
          }
         },
         "colorscale": [
          [
           0,
           "#0d0887"
          ],
          [
           0.1111111111111111,
           "#46039f"
          ],
          [
           0.2222222222222222,
           "#7201a8"
          ],
          [
           0.3333333333333333,
           "#9c179e"
          ],
          [
           0.4444444444444444,
           "#bd3786"
          ],
          [
           0.5555555555555556,
           "#d8576b"
          ],
          [
           0.6666666666666666,
           "#ed7953"
          ],
          [
           0.7777777777777778,
           "#fb9f3a"
          ],
          [
           0.8888888888888888,
           "#fdca26"
          ],
          [
           1,
           "#f0f921"
          ]
         ]
        },
        "legend": {
         "tracegroupgap": 0
        },
        "template": {
         "data": {
          "bar": [
           {
            "error_x": {
             "color": "#2a3f5f"
            },
            "error_y": {
             "color": "#2a3f5f"
            },
            "marker": {
             "line": {
              "color": "#E5ECF6",
              "width": 0.5
             },
             "pattern": {
              "fillmode": "overlay",
              "size": 10,
              "solidity": 0.2
             }
            },
            "type": "bar"
           }
          ],
          "barpolar": [
           {
            "marker": {
             "line": {
              "color": "#E5ECF6",
              "width": 0.5
             },
             "pattern": {
              "fillmode": "overlay",
              "size": 10,
              "solidity": 0.2
             }
            },
            "type": "barpolar"
           }
          ],
          "carpet": [
           {
            "aaxis": {
             "endlinecolor": "#2a3f5f",
             "gridcolor": "white",
             "linecolor": "white",
             "minorgridcolor": "white",
             "startlinecolor": "#2a3f5f"
            },
            "baxis": {
             "endlinecolor": "#2a3f5f",
             "gridcolor": "white",
             "linecolor": "white",
             "minorgridcolor": "white",
             "startlinecolor": "#2a3f5f"
            },
            "type": "carpet"
           }
          ],
          "choropleth": [
           {
            "colorbar": {
             "outlinewidth": 0,
             "ticks": ""
            },
            "type": "choropleth"
           }
          ],
          "contour": [
           {
            "colorbar": {
             "outlinewidth": 0,
             "ticks": ""
            },
            "colorscale": [
             [
              0,
              "#0d0887"
             ],
             [
              0.1111111111111111,
              "#46039f"
             ],
             [
              0.2222222222222222,
              "#7201a8"
             ],
             [
              0.3333333333333333,
              "#9c179e"
             ],
             [
              0.4444444444444444,
              "#bd3786"
             ],
             [
              0.5555555555555556,
              "#d8576b"
             ],
             [
              0.6666666666666666,
              "#ed7953"
             ],
             [
              0.7777777777777778,
              "#fb9f3a"
             ],
             [
              0.8888888888888888,
              "#fdca26"
             ],
             [
              1,
              "#f0f921"
             ]
            ],
            "type": "contour"
           }
          ],
          "contourcarpet": [
           {
            "colorbar": {
             "outlinewidth": 0,
             "ticks": ""
            },
            "type": "contourcarpet"
           }
          ],
          "heatmap": [
           {
            "colorbar": {
             "outlinewidth": 0,
             "ticks": ""
            },
            "colorscale": [
             [
              0,
              "#0d0887"
             ],
             [
              0.1111111111111111,
              "#46039f"
             ],
             [
              0.2222222222222222,
              "#7201a8"
             ],
             [
              0.3333333333333333,
              "#9c179e"
             ],
             [
              0.4444444444444444,
              "#bd3786"
             ],
             [
              0.5555555555555556,
              "#d8576b"
             ],
             [
              0.6666666666666666,
              "#ed7953"
             ],
             [
              0.7777777777777778,
              "#fb9f3a"
             ],
             [
              0.8888888888888888,
              "#fdca26"
             ],
             [
              1,
              "#f0f921"
             ]
            ],
            "type": "heatmap"
           }
          ],
          "heatmapgl": [
           {
            "colorbar": {
             "outlinewidth": 0,
             "ticks": ""
            },
            "colorscale": [
             [
              0,
              "#0d0887"
             ],
             [
              0.1111111111111111,
              "#46039f"
             ],
             [
              0.2222222222222222,
              "#7201a8"
             ],
             [
              0.3333333333333333,
              "#9c179e"
             ],
             [
              0.4444444444444444,
              "#bd3786"
             ],
             [
              0.5555555555555556,
              "#d8576b"
             ],
             [
              0.6666666666666666,
              "#ed7953"
             ],
             [
              0.7777777777777778,
              "#fb9f3a"
             ],
             [
              0.8888888888888888,
              "#fdca26"
             ],
             [
              1,
              "#f0f921"
             ]
            ],
            "type": "heatmapgl"
           }
          ],
          "histogram": [
           {
            "marker": {
             "pattern": {
              "fillmode": "overlay",
              "size": 10,
              "solidity": 0.2
             }
            },
            "type": "histogram"
           }
          ],
          "histogram2d": [
           {
            "colorbar": {
             "outlinewidth": 0,
             "ticks": ""
            },
            "colorscale": [
             [
              0,
              "#0d0887"
             ],
             [
              0.1111111111111111,
              "#46039f"
             ],
             [
              0.2222222222222222,
              "#7201a8"
             ],
             [
              0.3333333333333333,
              "#9c179e"
             ],
             [
              0.4444444444444444,
              "#bd3786"
             ],
             [
              0.5555555555555556,
              "#d8576b"
             ],
             [
              0.6666666666666666,
              "#ed7953"
             ],
             [
              0.7777777777777778,
              "#fb9f3a"
             ],
             [
              0.8888888888888888,
              "#fdca26"
             ],
             [
              1,
              "#f0f921"
             ]
            ],
            "type": "histogram2d"
           }
          ],
          "histogram2dcontour": [
           {
            "colorbar": {
             "outlinewidth": 0,
             "ticks": ""
            },
            "colorscale": [
             [
              0,
              "#0d0887"
             ],
             [
              0.1111111111111111,
              "#46039f"
             ],
             [
              0.2222222222222222,
              "#7201a8"
             ],
             [
              0.3333333333333333,
              "#9c179e"
             ],
             [
              0.4444444444444444,
              "#bd3786"
             ],
             [
              0.5555555555555556,
              "#d8576b"
             ],
             [
              0.6666666666666666,
              "#ed7953"
             ],
             [
              0.7777777777777778,
              "#fb9f3a"
             ],
             [
              0.8888888888888888,
              "#fdca26"
             ],
             [
              1,
              "#f0f921"
             ]
            ],
            "type": "histogram2dcontour"
           }
          ],
          "mesh3d": [
           {
            "colorbar": {
             "outlinewidth": 0,
             "ticks": ""
            },
            "type": "mesh3d"
           }
          ],
          "parcoords": [
           {
            "line": {
             "colorbar": {
              "outlinewidth": 0,
              "ticks": ""
             }
            },
            "type": "parcoords"
           }
          ],
          "pie": [
           {
            "automargin": true,
            "type": "pie"
           }
          ],
          "scatter": [
           {
            "marker": {
             "colorbar": {
              "outlinewidth": 0,
              "ticks": ""
             }
            },
            "type": "scatter"
           }
          ],
          "scatter3d": [
           {
            "line": {
             "colorbar": {
              "outlinewidth": 0,
              "ticks": ""
             }
            },
            "marker": {
             "colorbar": {
              "outlinewidth": 0,
              "ticks": ""
             }
            },
            "type": "scatter3d"
           }
          ],
          "scattercarpet": [
           {
            "marker": {
             "colorbar": {
              "outlinewidth": 0,
              "ticks": ""
             }
            },
            "type": "scattercarpet"
           }
          ],
          "scattergeo": [
           {
            "marker": {
             "colorbar": {
              "outlinewidth": 0,
              "ticks": ""
             }
            },
            "type": "scattergeo"
           }
          ],
          "scattergl": [
           {
            "marker": {
             "colorbar": {
              "outlinewidth": 0,
              "ticks": ""
             }
            },
            "type": "scattergl"
           }
          ],
          "scattermapbox": [
           {
            "marker": {
             "colorbar": {
              "outlinewidth": 0,
              "ticks": ""
             }
            },
            "type": "scattermapbox"
           }
          ],
          "scatterpolar": [
           {
            "marker": {
             "colorbar": {
              "outlinewidth": 0,
              "ticks": ""
             }
            },
            "type": "scatterpolar"
           }
          ],
          "scatterpolargl": [
           {
            "marker": {
             "colorbar": {
              "outlinewidth": 0,
              "ticks": ""
             }
            },
            "type": "scatterpolargl"
           }
          ],
          "scatterternary": [
           {
            "marker": {
             "colorbar": {
              "outlinewidth": 0,
              "ticks": ""
             }
            },
            "type": "scatterternary"
           }
          ],
          "surface": [
           {
            "colorbar": {
             "outlinewidth": 0,
             "ticks": ""
            },
            "colorscale": [
             [
              0,
              "#0d0887"
             ],
             [
              0.1111111111111111,
              "#46039f"
             ],
             [
              0.2222222222222222,
              "#7201a8"
             ],
             [
              0.3333333333333333,
              "#9c179e"
             ],
             [
              0.4444444444444444,
              "#bd3786"
             ],
             [
              0.5555555555555556,
              "#d8576b"
             ],
             [
              0.6666666666666666,
              "#ed7953"
             ],
             [
              0.7777777777777778,
              "#fb9f3a"
             ],
             [
              0.8888888888888888,
              "#fdca26"
             ],
             [
              1,
              "#f0f921"
             ]
            ],
            "type": "surface"
           }
          ],
          "table": [
           {
            "cells": {
             "fill": {
              "color": "#EBF0F8"
             },
             "line": {
              "color": "white"
             }
            },
            "header": {
             "fill": {
              "color": "#C8D4E3"
             },
             "line": {
              "color": "white"
             }
            },
            "type": "table"
           }
          ]
         },
         "layout": {
          "annotationdefaults": {
           "arrowcolor": "#2a3f5f",
           "arrowhead": 0,
           "arrowwidth": 1
          },
          "autotypenumbers": "strict",
          "coloraxis": {
           "colorbar": {
            "outlinewidth": 0,
            "ticks": ""
           }
          },
          "colorscale": {
           "diverging": [
            [
             0,
             "#8e0152"
            ],
            [
             0.1,
             "#c51b7d"
            ],
            [
             0.2,
             "#de77ae"
            ],
            [
             0.3,
             "#f1b6da"
            ],
            [
             0.4,
             "#fde0ef"
            ],
            [
             0.5,
             "#f7f7f7"
            ],
            [
             0.6,
             "#e6f5d0"
            ],
            [
             0.7,
             "#b8e186"
            ],
            [
             0.8,
             "#7fbc41"
            ],
            [
             0.9,
             "#4d9221"
            ],
            [
             1,
             "#276419"
            ]
           ],
           "sequential": [
            [
             0,
             "#0d0887"
            ],
            [
             0.1111111111111111,
             "#46039f"
            ],
            [
             0.2222222222222222,
             "#7201a8"
            ],
            [
             0.3333333333333333,
             "#9c179e"
            ],
            [
             0.4444444444444444,
             "#bd3786"
            ],
            [
             0.5555555555555556,
             "#d8576b"
            ],
            [
             0.6666666666666666,
             "#ed7953"
            ],
            [
             0.7777777777777778,
             "#fb9f3a"
            ],
            [
             0.8888888888888888,
             "#fdca26"
            ],
            [
             1,
             "#f0f921"
            ]
           ],
           "sequentialminus": [
            [
             0,
             "#0d0887"
            ],
            [
             0.1111111111111111,
             "#46039f"
            ],
            [
             0.2222222222222222,
             "#7201a8"
            ],
            [
             0.3333333333333333,
             "#9c179e"
            ],
            [
             0.4444444444444444,
             "#bd3786"
            ],
            [
             0.5555555555555556,
             "#d8576b"
            ],
            [
             0.6666666666666666,
             "#ed7953"
            ],
            [
             0.7777777777777778,
             "#fb9f3a"
            ],
            [
             0.8888888888888888,
             "#fdca26"
            ],
            [
             1,
             "#f0f921"
            ]
           ]
          },
          "colorway": [
           "#636efa",
           "#EF553B",
           "#00cc96",
           "#ab63fa",
           "#FFA15A",
           "#19d3f3",
           "#FF6692",
           "#B6E880",
           "#FF97FF",
           "#FECB52"
          ],
          "font": {
           "color": "#2a3f5f"
          },
          "geo": {
           "bgcolor": "white",
           "lakecolor": "white",
           "landcolor": "#E5ECF6",
           "showlakes": true,
           "showland": true,
           "subunitcolor": "white"
          },
          "hoverlabel": {
           "align": "left"
          },
          "hovermode": "closest",
          "mapbox": {
           "style": "light"
          },
          "paper_bgcolor": "white",
          "plot_bgcolor": "#E5ECF6",
          "polar": {
           "angularaxis": {
            "gridcolor": "white",
            "linecolor": "white",
            "ticks": ""
           },
           "bgcolor": "#E5ECF6",
           "radialaxis": {
            "gridcolor": "white",
            "linecolor": "white",
            "ticks": ""
           }
          },
          "scene": {
           "xaxis": {
            "backgroundcolor": "#E5ECF6",
            "gridcolor": "white",
            "gridwidth": 2,
            "linecolor": "white",
            "showbackground": true,
            "ticks": "",
            "zerolinecolor": "white"
           },
           "yaxis": {
            "backgroundcolor": "#E5ECF6",
            "gridcolor": "white",
            "gridwidth": 2,
            "linecolor": "white",
            "showbackground": true,
            "ticks": "",
            "zerolinecolor": "white"
           },
           "zaxis": {
            "backgroundcolor": "#E5ECF6",
            "gridcolor": "white",
            "gridwidth": 2,
            "linecolor": "white",
            "showbackground": true,
            "ticks": "",
            "zerolinecolor": "white"
           }
          },
          "shapedefaults": {
           "line": {
            "color": "#2a3f5f"
           }
          },
          "ternary": {
           "aaxis": {
            "gridcolor": "white",
            "linecolor": "white",
            "ticks": ""
           },
           "baxis": {
            "gridcolor": "white",
            "linecolor": "white",
            "ticks": ""
           },
           "bgcolor": "#E5ECF6",
           "caxis": {
            "gridcolor": "white",
            "linecolor": "white",
            "ticks": ""
           }
          },
          "title": {
           "x": 0.05
          },
          "xaxis": {
           "automargin": true,
           "gridcolor": "white",
           "linecolor": "white",
           "ticks": "",
           "title": {
            "standoff": 15
           },
           "zerolinecolor": "white",
           "zerolinewidth": 2
          },
          "yaxis": {
           "automargin": true,
           "gridcolor": "white",
           "linecolor": "white",
           "ticks": "",
           "title": {
            "standoff": 15
           },
           "zerolinecolor": "white",
           "zerolinewidth": 2
          }
         }
        },
        "title": {
         "text": "Overal Property Market in 5 Cities For Latest Auction "
        }
       }
      },
      "image/png": "[encoded data removed]",
      "text/html": [
       "<div>                            <div id=\"268077bb-ed1f-4c58-a9ed-781067fe540f\" class=\"plotly-graph-div\" style=\"height:700px; width:100%;\"></div>            <script type=\"text/javascript\">                require([\"plotly\"], function(Plotly) {                    window.PLOTLYENV=window.PLOTLYENV || {};                                    if (document.getElementById(\"268077bb-ed1f-4c58-a9ed-781067fe540f\")) {                    Plotly.newPlot(                        \"268077bb-ed1f-4c58-a9ed-781067fe540f\",                        [{\"branchvalues\":\"total\",\"customdata\":[[37845500.0],[39600388.0],[44362750.0],[388426256.0],[504968750.0],[39600388.0],[37845500.0],[44362750.0],[388426256.0],[504968750.0]],\"domain\":{\"x\":[0.0,1.0],\"y\":[0.0,1.0]},\"hovertemplate\":\"labels=%{label}<br>numberSold=%{value}<br>parent=%{parent}<br>id=%{id}<br>totalSales=%{color}<extra></extra>\",\"ids\":[\"Brisbane/37845500\",\"Adelaide/39600388\",\"Canberra/44362750\",\"Melbourne/388426256\",\"Sydney/504968750\",\"Adelaide\",\"Brisbane\",\"Canberra\",\"Melbourne\",\"Sydney\"],\"labels\":[\"37845500\",\"39600388\",\"44362750\",\"388426256\",\"504968750\",\"Adelaide\",\"Brisbane\",\"Canberra\",\"Melbourne\",\"Sydney\"],\"marker\":{\"coloraxis\":\"coloraxis\",\"colors\":[37845500.0,39600388.0,44362750.0,388426256.0,504968750.0,39600388.0,37845500.0,44362750.0,388426256.0,504968750.0]},\"name\":\"\",\"parents\":[\"Brisbane\",\"Adelaide\",\"Canberra\",\"Melbourne\",\"Sydney\",\"\",\"\",\"\",\"\",\"\"],\"values\":[43,58,49,455,437,58,43,49,455,437],\"type\":\"sunburst\"}],                        {\"template\":{\"data\":{\"bar\":[{\"error_x\":{\"color\":\"#2a3f5f\"},\"error_y\":{\"color\":\"#2a3f5f\"},\"marker\":{\"line\":{\"color\":\"#E5ECF6\",\"width\":0.5},\"pattern\":{\"fillmode\":\"overlay\",\"size\":10,\"solidity\":0.2}},\"type\":\"bar\"}],\"barpolar\":[{\"marker\":{\"line\":{\"color\":\"#E5ECF6\",\"width\":0.5},\"pattern\":{\"fillmode\":\"overlay\",\"size\":10,\"solidity\":0.2}},\"type\":\"barpolar\"}],\"carpet\":[{\"aaxis\":{\"endlinecolor\":\"#2a3f5f\",\"gridcolor\":\"white\",\"linecolor\":\"white\",\"minorgridcolor\":\"white\",\"startlinecolor\":\"#2a3f5f\"},\"baxis\":{\"endlinecolor\":\"#2a3f5f\",\"gridcolor\":\"white\",\"linecolor\":\"white\",\"minorgridcolor\":\"white\",\"startlinecolor\":\"#2a3f5f\"},\"type\":\"carpet\"}],\"choropleth\":[{\"colorbar\":{\"outlinewidth\":0,\"ticks\":\"\"},\"type\":\"choropleth\"}],\"contour\":[{\"colorbar\":{\"outlinewidth\":0,\"ticks\":\"\"},\"colorscale\":[[0.0,\"#0d0887\"],[0.1111111111111111,\"#46039f\"],[0.2222222222222222,\"#7201a8\"],[0.3333333333333333,\"#9c179e\"],[0.4444444444444444,\"#bd3786\"],[0.5555555555555556,\"#d8576b\"],[0.6666666666666666,\"#ed7953\"],[0.7777777777777778,\"#fb9f3a\"],[0.8888888888888888,\"#fdca26\"],[1.0,\"#f0f921\"]],\"type\":\"contour\"}],\"contourcarpet\":[{\"colorbar\":{\"outlinewidth\":0,\"ticks\":\"\"},\"type\":\"contourcarpet\"}],\"heatmap\":[{\"colorbar\":{\"outlinewidth\":0,\"ticks\":\"\"},\"colorscale\":[[0.0,\"#0d0887\"],[0.1111111111111111,\"#46039f\"],[0.2222222222222222,\"#7201a8\"],[0.3333333333333333,\"#9c179e\"],[0.4444444444444444,\"#bd3786\"],[0.5555555555555556,\"#d8576b\"],[0.6666666666666666,\"#ed7953\"],[0.7777777777777778,\"#fb9f3a\"],[0.8888888888888888,\"#fdca26\"],[1.0,\"#f0f921\"]],\"type\":\"heatmap\"}],\"heatmapgl\":[{\"colorbar\":{\"outlinewidth\":0,\"ticks\":\"\"},\"colorscale\":[[0.0,\"#0d0887\"],[0.1111111111111111,\"#46039f\"],[0.2222222222222222,\"#7201a8\"],[0.3333333333333333,\"#9c179e\"],[0.4444444444444444,\"#bd3786\"],[0.5555555555555556,\"#d8576b\"],[0.6666666666666666,\"#ed7953\"],[0.7777777777777778,\"#fb9f3a\"],[0.8888888888888888,\"#fdca26\"],[1.0,\"#f0f921\"]],\"type\":\"heatmapgl\"}],\"histogram\":[{\"marker\":{\"pattern\":{\"fillmode\":\"overlay\",\"size\":10,\"solidity\":0.2}},\"type\":\"histogram\"}],\"histogram2d\":[{\"colorbar\":{\"outlinewidth\":0,\"ticks\":\"\"},\"colorscale\":[[0.0,\"#0d0887\"],[0.1111111111111111,\"#46039f\"],[0.2222222222222222,\"#7201a8\"],[0.3333333333333333,\"#9c179e\"],[0.4444444444444444,\"#bd3786\"],[0.5555555555555556,\"#d8576b\"],[0.6666666666666666,\"#ed7953\"],[0.7777777777777778,\"#fb9f3a\"],[0.8888888888888888,\"#fdca26\"],[1.0,\"#f0f921\"]],\"type\":\"histogram2d\"}],\"histogram2dcontour\":[{\"colorbar\":{\"outlinewidth\":0,\"ticks\":\"\"},\"colorscale\":[[0.0,\"#0d0887\"],[0.1111111111111111,\"#46039f\"],[0.2222222222222222,\"#7201a8\"],[0.3333333333333333,\"#9c179e\"],[0.4444444444444444,\"#bd3786\"],[0.5555555555555556,\"#d8576b\"],[0.6666666666666666,\"#ed7953\"],[0.7777777777777778,\"#fb9f3a\"],[0.8888888888888888,\"#fdca26\"],[1.0,\"#f0f921\"]],\"type\":\"histogram2dcontour\"}],\"mesh3d\":[{\"colorbar\":{\"outlinewidth\":0,\"ticks\":\"\"},\"type\":\"mesh3d\"}],\"parcoords\":[{\"line\":{\"colorbar\":{\"outlinewidth\":0,\"ticks\":\"\"}},\"type\":\"parcoords\"}],\"pie\":[{\"automargin\":true,\"type\":\"pie\"}],\"scatter\":[{\"marker\":{\"colorbar\":{\"outlinewidth\":0,\"ticks\":\"\"}},\"type\":\"scatter\"}],\"scatter3d\":[{\"line\":{\"colorbar\":{\"outlinewidth\":0,\"ticks\":\"\"}},\"marker\":{\"colorbar\":{\"outlinewidth\":0,\"ticks\":\"\"}},\"type\":\"scatter3d\"}],\"scattercarpet\":[{\"marker\":{\"colorbar\":{\"outlinewidth\":0,\"ticks\":\"\"}},\"type\":\"scattercarpet\"}],\"scattergeo\":[{\"marker\":{\"colorbar\":{\"outlinewidth\":0,\"ticks\":\"\"}},\"type\":\"scattergeo\"}],\"scattergl\":[{\"marker\":{\"colorbar\":{\"outlinewidth\":0,\"ticks\":\"\"}},\"type\":\"scattergl\"}],\"scattermapbox\":[{\"marker\":{\"colorbar\":{\"outlinewidth\":0,\"ticks\":\"\"}},\"type\":\"scattermapbox\"}],\"scatterpolar\":[{\"marker\":{\"colorbar\":{\"outlinewidth\":0,\"ticks\":\"\"}},\"type\":\"scatterpolar\"}],\"scatterpolargl\":[{\"marker\":{\"colorbar\":{\"outlinewidth\":0,\"ticks\":\"\"}},\"type\":\"scatterpolargl\"}],\"scatterternary\":[{\"marker\":{\"colorbar\":{\"outlinewidth\":0,\"ticks\":\"\"}},\"type\":\"scatterternary\"}],\"surface\":[{\"colorbar\":{\"outlinewidth\":0,\"ticks\":\"\"},\"colorscale\":[[0.0,\"#0d0887\"],[0.1111111111111111,\"#46039f\"],[0.2222222222222222,\"#7201a8\"],[0.3333333333333333,\"#9c179e\"],[0.4444444444444444,\"#bd3786\"],[0.5555555555555556,\"#d8576b\"],[0.6666666666666666,\"#ed7953\"],[0.7777777777777778,\"#fb9f3a\"],[0.8888888888888888,\"#fdca26\"],[1.0,\"#f0f921\"]],\"type\":\"surface\"}],\"table\":[{\"cells\":{\"fill\":{\"color\":\"#EBF0F8\"},\"line\":{\"color\":\"white\"}},\"header\":{\"fill\":{\"color\":\"#C8D4E3\"},\"line\":{\"color\":\"white\"}},\"type\":\"table\"}]},\"layout\":{\"annotationdefaults\":{\"arrowcolor\":\"#2a3f5f\",\"arrowhead\":0,\"arrowwidth\":1},\"autotypenumbers\":\"strict\",\"coloraxis\":{\"colorbar\":{\"outlinewidth\":0,\"ticks\":\"\"}},\"colorscale\":{\"diverging\":[[0,\"#8e0152\"],[0.1,\"#c51b7d\"],[0.2,\"#de77ae\"],[0.3,\"#f1b6da\"],[0.4,\"#fde0ef\"],[0.5,\"#f7f7f7\"],[0.6,\"#e6f5d0\"],[0.7,\"#b8e186\"],[0.8,\"#7fbc41\"],[0.9,\"#4d9221\"],[1,\"#276419\"]],\"sequential\":[[0.0,\"#0d0887\"],[0.1111111111111111,\"#46039f\"],[0.2222222222222222,\"#7201a8\"],[0.3333333333333333,\"#9c179e\"],[0.4444444444444444,\"#bd3786\"],[0.5555555555555556,\"#d8576b\"],[0.6666666666666666,\"#ed7953\"],[0.7777777777777778,\"#fb9f3a\"],[0.8888888888888888,\"#fdca26\"],[1.0,\"#f0f921\"]],\"sequentialminus\":[[0.0,\"#0d0887\"],[0.1111111111111111,\"#46039f\"],[0.2222222222222222,\"#7201a8\"],[0.3333333333333333,\"#9c179e\"],[0.4444444444444444,\"#bd3786\"],[0.5555555555555556,\"#d8576b\"],[0.6666666666666666,\"#ed7953\"],[0.7777777777777778,\"#fb9f3a\"],[0.8888888888888888,\"#fdca26\"],[1.0,\"#f0f921\"]]},\"colorway\":[\"#636efa\",\"#EF553B\",\"#00cc96\",\"#ab63fa\",\"#FFA15A\",\"#19d3f3\",\"#FF6692\",\"#B6E880\",\"#FF97FF\",\"#FECB52\"],\"font\":{\"color\":\"#2a3f5f\"},\"geo\":{\"bgcolor\":\"white\",\"lakecolor\":\"white\",\"landcolor\":\"#E5ECF6\",\"showlakes\":true,\"showland\":true,\"subunitcolor\":\"white\"},\"hoverlabel\":{\"align\":\"left\"},\"hovermode\":\"closest\",\"mapbox\":{\"style\":\"light\"},\"paper_bgcolor\":\"white\",\"plot_bgcolor\":\"#E5ECF6\",\"polar\":{\"angularaxis\":{\"gridcolor\":\"white\",\"linecolor\":\"white\",\"ticks\":\"\"},\"bgcolor\":\"#E5ECF6\",\"radialaxis\":{\"gridcolor\":\"white\",\"linecolor\":\"white\",\"ticks\":\"\"}},\"scene\":{\"xaxis\":{\"backgroundcolor\":\"#E5ECF6\",\"gridcolor\":\"white\",\"gridwidth\":2,\"linecolor\":\"white\",\"showbackground\":true,\"ticks\":\"\",\"zerolinecolor\":\"white\"},\"yaxis\":{\"backgroundcolor\":\"#E5ECF6\",\"gridcolor\":\"white\",\"gridwidth\":2,\"linecolor\":\"white\",\"showbackground\":true,\"ticks\":\"\",\"zerolinecolor\":\"white\"},\"zaxis\":{\"backgroundcolor\":\"#E5ECF6\",\"gridcolor\":\"white\",\"gridwidth\":2,\"linecolor\":\"white\",\"showbackground\":true,\"ticks\":\"\",\"zerolinecolor\":\"white\"}},\"shapedefaults\":{\"line\":{\"color\":\"#2a3f5f\"}},\"ternary\":{\"aaxis\":{\"gridcolor\":\"white\",\"linecolor\":\"white\",\"ticks\":\"\"},\"baxis\":{\"gridcolor\":\"white\",\"linecolor\":\"white\",\"ticks\":\"\"},\"bgcolor\":\"#E5ECF6\",\"caxis\":{\"gridcolor\":\"white\",\"linecolor\":\"white\",\"ticks\":\"\"}},\"title\":{\"x\":0.05},\"xaxis\":{\"automargin\":true,\"gridcolor\":\"white\",\"linecolor\":\"white\",\"ticks\":\"\",\"title\":{\"standoff\":15},\"zerolinecolor\":\"white\",\"zerolinewidth\":2},\"yaxis\":{\"automargin\":true,\"gridcolor\":\"white\",\"linecolor\":\"white\",\"ticks\":\"\",\"title\":{\"standoff\":15},\"zerolinecolor\":\"white\",\"zerolinewidth\":2}}},\"coloraxis\":{\"colorbar\":{\"title\":{\"text\":\"totalSales\"}},\"colorscale\":[[0.0,\"#0d0887\"],[0.1111111111111111,\"#46039f\"],[0.2222222222222222,\"#7201a8\"],[0.3333333333333333,\"#9c179e\"],[0.4444444444444444,\"#bd3786\"],[0.5555555555555556,\"#d8576b\"],[0.6666666666666666,\"#ed7953\"],[0.7777777777777778,\"#fb9f3a\"],[0.8888888888888888,\"#fdca26\"],[1.0,\"#f0f921\"]]},\"legend\":{\"tracegroupgap\":0},\"title\":{\"text\":\"Overal Property Market in 5 Cities For Latest Auction \"},\"height\":700},                        {\"responsive\": true}                    ).then(function(){\n",
       "                            \n",
       "var gd = document.getElementById('268077bb-ed1f-4c58-a9ed-781067fe540f');\n",
       "var x = new MutationObserver(function (mutations, observer) {{\n",
       "        var display = window.getComputedStyle(gd).display;\n",
       "        if (!display || display === 'none') {{\n",
       "            console.log([gd, 'removed!']);\n",
       "            Plotly.purge(gd);\n",
       "            observer.disconnect();\n",
       "        }}\n",
       "}});\n",
       "\n",
       "// Listen for the removal of the full notebook cells\n",
       "var notebookContainer = gd.closest('#notebook-container');\n",
       "if (notebookContainer) {{\n",
       "    x.observe(notebookContainer, {childList: true});\n",
       "}}\n",
       "\n",
       "// Listen for the clearing of the current output cell\n",
       "var outputEl = gd.closest('.output');\n",
       "if (outputEl) {{\n",
       "    x.observe(outputEl, {childList: true});\n",
       "}}\n",
       "\n",
       "                        })                };                });            </script>        </div>"
      ]
     },
     "metadata": {},
     "output_type": "display_data"
    }
   ],
   "source": [
    "# Create the sunburst chart using df_combined\n",
    "sunburst_chart = px.sunburst(\n",
    "    df_imported,\n",
    "    path=['City','totalSales'],\n",
    "    values=\"numberSold\",\n",
    "    color='totalSales',\n",
    "    title=\"Overal Property Market in 5 Cities For Latest Auction \",\n",
    "    height=700\n",
    ")\n",
    "sunburst_chart.show()"
   ]
  },
  {
   "cell_type": "code",
   "execution_count": null,
   "id": "19299680",
   "metadata": {},
   "outputs": [],
   "source": []
  }
 ],
 "metadata": {
  "kernelspec": {
   "display_name": "Python [conda env:pyvizenv] *",
   "language": "python",
   "name": "conda-env-pyvizenv-py"
  },
  "language_info": {
   "codemirror_mode": {
    "name": "ipython",
    "version": 3
   },
   "file_extension": ".py",
   "mimetype": "text/x-python",
   "name": "python",
   "nbconvert_exporter": "python",
   "pygments_lexer": "ipython3",
   "version": "3.7.11"
  }
 },
 "nbformat": 4,
 "nbformat_minor": 5
}
