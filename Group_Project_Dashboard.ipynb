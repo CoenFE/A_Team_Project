{
 "cells": [
  {
   "cell_type": "code",
   "execution_count": 1,
   "id": "60974420",
   "metadata": {},
   "outputs": [],
   "source": [
    "\"\"\" Group-A Dashboard \"\"\""
   ]
  },
  {
   "cell_type": "code",
   "execution_count": 12,
   "id": "5f59062f",
   "metadata": {},
   "outputs": [],
   "source": [
    "# imports\n",
    "import os\n",
    "import requests\n",
    "import json\n",
    "import numpy as np\n",
    "import pandas as pd\n",
    "import hvplot.pandas\n",
    "import matplotlib.pyplot as plt\n",
    "import panel as pn\n",
    "import plotly.express as px\n",
    "from pathlib import Path\n",
    "from dotenv import load_dotenv\n",
    "import random\n",
    "\n",
    "%matplotlib inline\n",
    "import seaborn as sns \n",
    "import yfinance as yf\n",
    "import plotly.graph_objects as go\n",
    "import plotly.figure_factory as ff\n",
    "from MCForecastTools import MCSimulation\n"
   ]
  },
  {
   "cell_type": "code",
   "execution_count": 13,
   "id": "7d340081",
   "metadata": {},
   "outputs": [],
   "source": [
    "\"\"\" IMPORT DATA \"\"\"\n",
    "\n",
    "# reading Property data from CSV file\n",
    "file_path = Path(\"cities_combined.csv\")\n",
    "df_combined = pd.DataFrame(pd.read_csv(file_path))\n",
    "df_combined.set_index('city',inplace=True)\n",
    "#df_combined.head(10)"
   ]
  },
  {
   "cell_type": "code",
   "execution_count": 78,
   "id": "8640b2fc",
   "metadata": {},
   "outputs": [],
   "source": [
    "#Crypto DF\n",
    "file_path = Path(\"crytpo_df.csv\")\n",
    "df_crypto = pd.DataFrame(pd.read_csv(file_path))\n",
    "#df_crypto"
   ]
  },
  {
   "cell_type": "code",
   "execution_count": null,
   "id": "2a783490",
   "metadata": {},
   "outputs": [],
   "source": []
  },
  {
   "cell_type": "code",
   "execution_count": null,
   "id": "4cedede5",
   "metadata": {},
   "outputs": [],
   "source": []
  },
  {
   "cell_type": "code",
   "execution_count": null,
   "id": "41f1a8a1",
   "metadata": {},
   "outputs": [],
   "source": []
  },
  {
   "cell_type": "code",
   "execution_count": null,
   "id": "30014ba5",
   "metadata": {},
   "outputs": [],
   "source": []
  },
  {
   "cell_type": "code",
   "execution_count": null,
   "id": "37aef859",
   "metadata": {},
   "outputs": [],
   "source": []
  },
  {
   "cell_type": "code",
   "execution_count": 4,
   "id": "c951f843",
   "metadata": {},
   "outputs": [
    {
     "data": {
      "text/plain": [
       "' Global Available Data '"
      ]
     },
     "execution_count": 4,
     "metadata": {},
     "output_type": "execute_result"
    }
   ],
   "source": [
    "\"\"\" Global Available Data \"\"\""
   ]
  },
  {
   "cell_type": "code",
   "execution_count": 70,
   "id": "eded756f",
   "metadata": {},
   "outputs": [],
   "source": [
    "#Prep Data for sunburst chart\n",
    "df_combined = df_combined.reset_index()\n",
    "#df_combined"
   ]
  },
  {
   "cell_type": "code",
   "execution_count": null,
   "id": "0f32a51c",
   "metadata": {},
   "outputs": [],
   "source": []
  },
  {
   "cell_type": "code",
   "execution_count": 5,
   "id": "06b5ce2f",
   "metadata": {},
   "outputs": [
    {
     "data": {
      "text/plain": [
       "' Panel Visualization Functions '"
      ]
     },
     "execution_count": 5,
     "metadata": {},
     "output_type": "execute_result"
    }
   ],
   "source": [
    "\"\"\" Panel Visualization Functions \"\"\""
   ]
  },
  {
   "cell_type": "code",
   "execution_count": 152,
   "id": "d10ccfcc",
   "metadata": {},
   "outputs": [],
   "source": [
    "\"\"\" This Cel is for 5th tab \"\"\"\n",
    "\n",
    "#create_line_chart function\n",
    "def create_line_chart(data, title, xlabel, ylabel, color):    \n",
    "    create_line_chart = data.hvplot(title=title, xlabel=xlabel, ylabel=ylabel, color=color, height=400)\n",
    "    return (create_line_chart)\n",
    "\n",
    "sales_line_chart = create_line_chart(df_combined[\"totalSales\"],\"Number of Property Sold Per City\",\n",
    "                            \"City\", \"Number of Sales\", color= '#148503').opts(yformatter=\"%.0f\")\n",
    "\n",
    "#create_bar_chart function\n",
    "def create_bar_chart(data, title, color):\n",
    "    create_bar_chart = data.hvplot.bar(title=title, color=color, height=400)\n",
    "    return (create_bar_chart)\n",
    "\n",
    "#hex_colors = ['#878587', '#d3abea', '#f2a227', , , ,, , '#db6e6e', '#db6ecb', '#6edb91']\n",
    "plot_numberListedForAuction = create_bar_chart(df_combined.iloc[:,0], \"Number of Property Listed For Auction\", color='#726edb').opts(yformatter=\"%.0f\")\n",
    "plot_numberAuctioned = create_bar_chart(df_combined.iloc[:,3], \"Number of Property Auctioned per city\" , color='#043834').opts(yformatter=\"%.0f\")\n",
    "#plot_numberSold = create_bar_chart(df_combined.iloc[:,4], \"Number of Property Sold\" , color='#640587').opts(yformatter=\"%.0f\")\n",
    "plot_totalSales = create_bar_chart(df_combined.iloc[:,5], \"Total Sales ($AUD)\" , color='#c2c36d').opts(yformatter=\"%.0f\")\n",
    "plot_median = create_bar_chart(df_combined.iloc[:,6], \"Median Market Price ($AUD) \" , color='#f0787e').opts(yformatter=\"%.0f\")\n"
   ]
  },
  {
   "cell_type": "code",
   "execution_count": 153,
   "id": "7896ccde",
   "metadata": {},
   "outputs": [],
   "source": [
    "\"\"\" This Cel is for ....th tab \"\"\"\n",
    "\n"
   ]
  },
  {
   "cell_type": "code",
   "execution_count": 154,
   "id": "c766792b",
   "metadata": {},
   "outputs": [],
   "source": [
    "# Create the sunburst chart using df_combined\n",
    "sunburst_chart = px.sunburst(\n",
    "    df_combined,\n",
    "    path=['city','totalSales'],\n",
    "    values=\"numberSold\",\n",
    "    color='totalSales',\n",
    "    title=\"Overal Property Market in 5 Cities For Latest Auction \",\n",
    "    height=500\n",
    ")"
   ]
  },
  {
   "cell_type": "code",
   "execution_count": 155,
   "id": "06969e0c",
   "metadata": {},
   "outputs": [],
   "source": [
    "#\"\"\" Panel Dashboard \"\"\""
   ]
  },
  {
   "cell_type": "code",
   "execution_count": 156,
   "id": "b863a534",
   "metadata": {},
   "outputs": [],
   "source": [
    "# Create a Title for the Dashboard\n",
    "dasboard_title= \"Investor's Return Analysis Based on 3 Assets Portfolio\"\n",
    "\n",
    "# Define a welcome text\n",
    "dashboard_desc = \"This dashboard provides Interactive Visualizations, and Static Charts to help the investors get an oversight about the performance of their portfolio\"\n",
    "\n",
    "# Creating tabs layout for the dashboard\n",
    "welcome_tab = pn.Column(\n",
    "    \"This dashboard provides Interactive Visualizations, and Static Charts to help the investors get an oversight about the performance of their portfolio\") #, map_plot)\n",
    "\n",
    "Crypto_tab = pn.Column(\n",
    "    \"Your Cryptocurrency Basket\")\n",
    "\n",
    "stock_tab = pn.Column(\n",
    "    \"Your AU and US Stocks Basket\")\n",
    "\n",
    "property_tab = pn.Column(\n",
    "        \"AU Property Market Based on the Latest Auctions \", \n",
    "        sales_line_chart + plot_median, \n",
    "        sunburst_chart, \n",
    "        plot_totalSales + plot_numberAuctioned \n",
    ")            \n"
   ]
  },
  {
   "cell_type": "code",
   "execution_count": 157,
   "id": "8182f7bf",
   "metadata": {},
   "outputs": [],
   "source": [
    "# Create the main dashboard\n",
    "dashboard = pn.Tabs(\n",
    "    (\" Welcome! \", welcome_tab),\n",
    "    (\" Crypto Assets \", Crypto_tab ),\n",
    "    (\" AU Stocks \", stock_tab),\n",
    "    (\" US Stocks \", stock_tab),\n",
    "    (\" Recent Property Auctions \", property_tab)    \n",
    ")"
   ]
  },
  {
   "cell_type": "code",
   "execution_count": 158,
   "id": "0e97e9f2",
   "metadata": {},
   "outputs": [
    {
     "data": {},
     "metadata": {},
     "output_type": "display_data"
    },
    {
     "data": {},
     "metadata": {},
     "output_type": "display_data"
    },
    {
     "data": {
      "application/vnd.holoviews_exec.v0+json": "",
      "text/html": [
       "<div id='24875'>\n",
       "\n",
       "\n",
       "\n",
       "\n",
       "\n",
       "  <div class=\"bk-root\" id=\"61e2e9d4-32f9-4928-9896-d74e803a66d1\" data-root-id=\"24875\"></div>\n",
       "</div>\n",
       "<script type=\"application/javascript\">(function(root) {\n",
       "  function embed_document(root) {\n",
       "    var docs_json = {\"c5602d35-c26e-4ce1-9d28-ee9f621a557f\":{\"defs\":[{\"extends\":null,\"module\":null,\"name\":\"ReactiveHTML1\",\"overrides\":[],\"properties\":[]},{\"extends\":null,\"module\":null,\"name\":\"FlexBox1\",\"overrides\":[],\"properties\":[{\"default\":\"flex-start\",\"kind\":null,\"name\":\"align_content\"},{\"default\":\"flex-start\",\"kind\":null,\"name\":\"align_items\"},{\"default\":\"row\",\"kind\":null,\"name\":\"flex_direction\"},{\"default\":\"wrap\",\"kind\":null,\"name\":\"flex_wrap\"},{\"default\":\"flex-start\",\"kind\":null,\"name\":\"justify_content\"}]},{\"extends\":null,\"module\":null,\"name\":\"TemplateActions1\",\"overrides\":[],\"properties\":[{\"default\":0,\"kind\":null,\"name\":\"open_modal\"},{\"default\":0,\"kind\":null,\"name\":\"close_modal\"}]},{\"extends\":null,\"module\":null,\"name\":\"MaterialTemplateActions1\",\"overrides\":[],\"properties\":[{\"default\":0,\"kind\":null,\"name\":\"open_modal\"},{\"default\":0,\"kind\":null,\"name\":\"close_modal\"}]}],\"roots\":{\"references\":[{\"attributes\":{\"toolbar\":{\"id\":\"25300\"},\"toolbar_location\":\"above\"},\"id\":\"25301\",\"type\":\"ToolbarBox\"},{\"attributes\":{\"args\":{\"model\":{\"id\":\"25178\"}},\"code\":\"try { model.visibility = (cb_obj.active == 4); } catch { }\",\"tags\":[\"plotly_tab_fix25178\"]},\"id\":\"25694\",\"type\":\"CustomJS\"},{\"attributes\":{},\"id\":\"25226\",\"type\":\"AllLabels\"},{\"attributes\":{\"css_classes\":[\"markdown\"],\"margin\":[5,5,5,5],\"name\":\"Markdown27103\",\"text\":\"&lt;p&gt;Your AU and US Stocks Basket&lt;/p&gt;\"},\"id\":\"24883\",\"type\":\"panel.models.markup.HTML\"},{\"attributes\":{},\"id\":\"25276\",\"type\":\"AllLabels\"},{\"attributes\":{\"axis_label\":\"\",\"coordinates\":null,\"formatter\":{\"id\":\"25272\"},\"group\":null,\"major_label_policy\":{\"id\":\"25273\"},\"ticker\":{\"id\":\"25242\"}},\"id\":\"25241\",\"type\":\"CategoricalAxis\"},{\"attributes\":{\"line_alpha\":0.2,\"line_color\":\"#148503\",\"line_width\":2,\"x\":{\"field\":\"index\"},\"y\":{\"field\":\"totalSales\"}},\"id\":\"24928\",\"type\":\"Line\"},{\"attributes\":{\"end\":584679120.9,\"reset_end\":584679120.9,\"reset_start\":-6691809.900000006,\"start\":-6691809.900000006,\"tags\":[[[\"totalSales\",\"totalSales\",null]]]},\"id\":\"24891\",\"type\":\"Range1d\"},{\"attributes\":{\"axis\":{\"id\":\"25241\"},\"coordinates\":null,\"grid_line_color\":null,\"group\":null,\"ticker\":null},\"id\":\"25243\",\"type\":\"Grid\"},{\"attributes\":{\"coordinates\":null,\"group\":null,\"text\":\"Number of Property Auctioned per city\",\"text_color\":\"black\",\"text_font_size\":\"12pt\"},\"id\":\"25233\",\"type\":\"Title\"},{\"attributes\":{\"axis\":{\"id\":\"24902\"},\"coordinates\":null,\"grid_line_color\":null,\"group\":null,\"ticker\":null},\"id\":\"24905\",\"type\":\"Grid\"},{\"attributes\":{\"fill_alpha\":{\"value\":0.1},\"fill_color\":{\"value\":\"#043834\"},\"hatch_alpha\":{\"value\":0.1},\"hatch_color\":{\"value\":\"#043834\"},\"line_alpha\":{\"value\":0.1},\"top\":{\"field\":\"numberWithdrawn\"},\"width\":{\"value\":0.8},\"x\":{\"field\":\"index\"}},\"id\":\"25265\",\"type\":\"VBar\"},{\"attributes\":{\"source\":{\"id\":\"24923\"}},\"id\":\"24930\",\"type\":\"CDSView\"},{\"attributes\":{\"format\":\"%.0f\"},\"id\":\"25270\",\"type\":\"PrintfTickFormatter\"},{\"attributes\":{\"child\":{\"id\":\"24888\"},\"name\":\"Column27125\",\"title\":\" Recent Property Auctions \"},\"id\":\"25465\",\"type\":\"Panel\"},{\"attributes\":{\"line_color\":\"#148503\",\"line_width\":2,\"x\":{\"field\":\"index\"},\"y\":{\"field\":\"totalSales\"}},\"id\":\"24926\",\"type\":\"Line\"},{\"attributes\":{},\"id\":\"24935\",\"type\":\"AllLabels\"},{\"attributes\":{},\"id\":\"25245\",\"type\":\"BasicTicker\"},{\"attributes\":{},\"id\":\"25242\",\"type\":\"CategoricalTicker\"},{\"attributes\":{\"end\":104.4,\"reset_end\":104.4,\"reset_start\":0.0,\"tags\":[[[\"numberWithdrawn\",\"numberWithdrawn\",null]]]},\"id\":\"25230\",\"type\":\"Range1d\"},{\"attributes\":{},\"id\":\"24903\",\"type\":\"BasicTicker\"},{\"attributes\":{\"axis_label\":\"\",\"coordinates\":null,\"formatter\":{\"id\":\"25270\"},\"group\":null,\"major_label_policy\":{\"id\":\"25276\"},\"ticker\":{\"id\":\"25245\"}},\"id\":\"25244\",\"type\":\"LinearAxis\"},{\"attributes\":{},\"id\":\"24907\",\"type\":\"BasicTicker\"},{\"attributes\":{\"coordinates\":null,\"group\":null,\"text\":\"Number of Property Sold Per City\",\"text_color\":\"black\",\"text_font_size\":\"12pt\"},\"id\":\"24894\",\"type\":\"Title\"},{\"attributes\":{\"axis\":{\"id\":\"25244\"},\"coordinates\":null,\"dimension\":1,\"grid_line_color\":null,\"group\":null,\"ticker\":null},\"id\":\"25247\",\"type\":\"Grid\"},{\"attributes\":{},\"id\":\"25262\",\"type\":\"Selection\"},{\"attributes\":{\"css_classes\":[\"markdown\"],\"margin\":[5,5,5,5],\"name\":\"Markdown27103\",\"text\":\"&lt;p&gt;Your AU and US Stocks Basket&lt;/p&gt;\"},\"id\":\"24886\",\"type\":\"panel.models.markup.HTML\"},{\"attributes\":{},\"id\":\"24900\",\"type\":\"LinearScale\"},{\"attributes\":{\"bottom\":{\"value\":0},\"fill_alpha\":{\"value\":1.0},\"fill_color\":{\"value\":\"#043834\"},\"hatch_alpha\":{\"value\":1.0},\"hatch_color\":{\"value\":\"#043834\"},\"hatch_scale\":{\"value\":12.0},\"hatch_weight\":{\"value\":1.0},\"line_alpha\":{\"value\":1.0},\"line_cap\":{\"value\":\"butt\"},\"line_color\":{\"value\":\"black\"},\"line_dash\":{\"value\":[]},\"line_dash_offset\":{\"value\":0},\"line_join\":{\"value\":\"bevel\"},\"line_width\":{\"value\":1},\"top\":{\"field\":\"numberWithdrawn\"},\"width\":{\"value\":0.8},\"x\":{\"field\":\"index\"}},\"id\":\"25269\",\"type\":\"VBar\"},{\"attributes\":{\"axis_label\":\"Number of Sales\",\"coordinates\":null,\"formatter\":{\"id\":\"24932\"},\"group\":null,\"major_label_policy\":{\"id\":\"24938\"},\"ticker\":{\"id\":\"24907\"}},\"id\":\"24906\",\"type\":\"LinearAxis\"},{\"attributes\":{\"end\":4.0,\"reset_end\":4.0,\"reset_start\":0.0,\"tags\":[[[\"index\",\"index\",null]]]},\"id\":\"24890\",\"type\":\"Range1d\"},{\"attributes\":{\"axis_label\":\"City\",\"coordinates\":null,\"formatter\":{\"id\":\"24934\"},\"group\":null,\"major_label_policy\":{\"id\":\"24935\"},\"ticker\":{\"id\":\"24903\"}},\"id\":\"24902\",\"type\":\"LinearAxis\"},{\"attributes\":{\"children\":[{\"id\":\"25301\"},{\"id\":\"25299\"}]},\"id\":\"25302\",\"type\":\"Column\"},{\"attributes\":{\"coordinates\":null,\"data_source\":{\"id\":\"25261\"},\"glyph\":{\"id\":\"25264\"},\"group\":null,\"hover_glyph\":null,\"muted_glyph\":{\"id\":\"25266\"},\"nonselection_glyph\":{\"id\":\"25265\"},\"selection_glyph\":{\"id\":\"25269\"},\"view\":{\"id\":\"25268\"}},\"id\":\"25267\",\"type\":\"GlyphRenderer\"},{\"attributes\":{\"line_alpha\":0.1,\"line_color\":\"#148503\",\"line_width\":2,\"x\":{\"field\":\"index\"},\"y\":{\"field\":\"totalSales\"}},\"id\":\"24927\",\"type\":\"Line\"},{\"attributes\":{\"data\":{\"index\":[\"0\",\"1\",\"2\",\"3\",\"4\"],\"numberWithdrawn\":[95,70,7,1,1]},\"selected\":{\"id\":\"25262\"},\"selection_policy\":{\"id\":\"25295\"}},\"id\":\"25261\",\"type\":\"ColumnDataSource\"},{\"attributes\":{\"axis\":{\"id\":\"24906\"},\"coordinates\":null,\"dimension\":1,\"grid_line_color\":null,\"group\":null,\"ticker\":null},\"id\":\"24909\",\"type\":\"Grid\"},{\"attributes\":{\"tools\":[{\"id\":\"25231\"},{\"id\":\"25248\"},{\"id\":\"25249\"},{\"id\":\"25250\"},{\"id\":\"25251\"},{\"id\":\"25252\"}]},\"id\":\"25254\",\"type\":\"Toolbar\"},{\"attributes\":{\"client_comm_id\":\"f5cc1c72075e41c18f5bb9359085c6b4\",\"comm_id\":\"29652aedc3804415829ac180dbe2e880\",\"plot_id\":\"24875\"},\"id\":\"25771\",\"type\":\"panel.models.comm_manager.CommManager\"},{\"attributes\":{\"line_color\":\"#148503\",\"line_width\":2,\"x\":{\"field\":\"index\"},\"y\":{\"field\":\"totalSales\"}},\"id\":\"24931\",\"type\":\"Line\"},{\"attributes\":{\"bottom_units\":\"screen\",\"coordinates\":null,\"fill_alpha\":0.5,\"fill_color\":\"lightgrey\",\"group\":null,\"left_units\":\"screen\",\"level\":\"overlay\",\"line_alpha\":1.0,\"line_color\":\"black\",\"line_dash\":[4,4],\"line_width\":2,\"right_units\":\"screen\",\"syncable\":false,\"top_units\":\"screen\"},\"id\":\"25253\",\"type\":\"BoxAnnotation\"},{\"attributes\":{},\"id\":\"25248\",\"type\":\"SaveTool\"},{\"attributes\":{},\"id\":\"25249\",\"type\":\"PanTool\"},{\"attributes\":{},\"id\":\"25252\",\"type\":\"ResetTool\"},{\"attributes\":{},\"id\":\"25250\",\"type\":\"WheelZoomTool\"},{\"attributes\":{\"coordinates\":null,\"data_source\":{\"id\":\"24923\"},\"glyph\":{\"id\":\"24926\"},\"group\":null,\"hover_glyph\":null,\"muted_glyph\":{\"id\":\"24928\"},\"nonselection_glyph\":{\"id\":\"24927\"},\"selection_glyph\":{\"id\":\"24931\"},\"view\":{\"id\":\"24930\"}},\"id\":\"24929\",\"type\":\"GlyphRenderer\"},{\"attributes\":{\"overlay\":{\"id\":\"25253\"}},\"id\":\"25251\",\"type\":\"BoxZoomTool\"},{\"attributes\":{},\"id\":\"25285\",\"type\":\"UnionRenderers\"},{\"attributes\":{\"fill_alpha\":{\"value\":0.2},\"fill_color\":{\"value\":\"#043834\"},\"hatch_alpha\":{\"value\":0.2},\"hatch_color\":{\"value\":\"#043834\"},\"line_alpha\":{\"value\":0.2},\"top\":{\"field\":\"numberWithdrawn\"},\"width\":{\"value\":0.8},\"x\":{\"field\":\"index\"}},\"id\":\"25266\",\"type\":\"VBar\"},{\"attributes\":{\"children\":[[{\"id\":\"24893\"},0,0],[{\"id\":\"24944\"},0,1]]},\"id\":\"25011\",\"type\":\"GridBox\"},{\"attributes\":{},\"id\":\"24910\",\"type\":\"SaveTool\"},{\"attributes\":{},\"id\":\"24911\",\"type\":\"PanTool\"},{\"attributes\":{\"callback\":null,\"renderers\":[{\"id\":\"25217\"}],\"tags\":[\"hv_created\"],\"tooltips\":[[\"index\",\"@{index}\"],[\"numberAuctioned\",\"@{numberAuctioned}\"]]},\"id\":\"25181\",\"type\":\"HoverTool\"},{\"attributes\":{},\"id\":\"24914\",\"type\":\"ResetTool\"},{\"attributes\":{},\"id\":\"25272\",\"type\":\"CategoricalTickFormatter\"},{\"attributes\":{},\"id\":\"24912\",\"type\":\"WheelZoomTool\"},{\"attributes\":{\"overlay\":{\"id\":\"24915\"}},\"id\":\"24913\",\"type\":\"BoxZoomTool\"},{\"attributes\":{\"format\":\"%.0f\"},\"id\":\"24932\",\"type\":\"PrintfTickFormatter\"},{\"attributes\":{\"js_property_callbacks\":{\"change:active\":[{\"id\":\"25694\"}]},\"margin\":[0,0,0,0],\"tabs\":[{\"id\":\"24878\"},{\"id\":\"24881\"},{\"id\":\"24884\"},{\"id\":\"24887\"},{\"id\":\"25465\"}]},\"id\":\"24875\",\"type\":\"Tabs\"},{\"attributes\":{},\"id\":\"25295\",\"type\":\"UnionRenderers\"},{\"attributes\":{\"toolbars\":[{\"id\":\"25204\"},{\"id\":\"25254\"}],\"tools\":[{\"id\":\"25181\"},{\"id\":\"25198\"},{\"id\":\"25199\"},{\"id\":\"25200\"},{\"id\":\"25201\"},{\"id\":\"25202\"},{\"id\":\"25231\"},{\"id\":\"25248\"},{\"id\":\"25249\"},{\"id\":\"25250\"},{\"id\":\"25251\"},{\"id\":\"25252\"}]},\"id\":\"25300\",\"type\":\"ProxyToolbar\"},{\"attributes\":{\"factors\":[\"0\",\"1\",\"2\",\"3\",\"4\"],\"tags\":[[[\"index\",\"index\",null]]]},\"id\":\"24941\",\"type\":\"FactorRange\"},{\"attributes\":{\"bottom_units\":\"screen\",\"coordinates\":null,\"fill_alpha\":0.5,\"fill_color\":\"lightgrey\",\"group\":null,\"left_units\":\"screen\",\"level\":\"overlay\",\"line_alpha\":1.0,\"line_color\":\"black\",\"line_dash\":[4,4],\"line_width\":2,\"right_units\":\"screen\",\"syncable\":false,\"top_units\":\"screen\"},\"id\":\"24915\",\"type\":\"BoxAnnotation\"},{\"attributes\":{\"source\":{\"id\":\"25261\"}},\"id\":\"25268\",\"type\":\"CDSView\"},{\"attributes\":{},\"id\":\"25273\",\"type\":\"AllLabels\"},{\"attributes\":{},\"id\":\"25467\",\"type\":\"Selection\"},{\"attributes\":{\"children\":[{\"id\":\"24877\"}],\"margin\":[0,0,0,0],\"name\":\"Column27099\"},\"id\":\"24876\",\"type\":\"Column\"},{\"attributes\":{\"css_classes\":[\"markdown\"],\"margin\":[5,5,5,5],\"name\":\"Markdown27111\",\"text\":\"&lt;p&gt;AU Property Market Based on the Latest Auctions &lt;/p&gt;\"},\"id\":\"24889\",\"type\":\"panel.models.markup.HTML\"},{\"attributes\":{\"callback\":null,\"renderers\":[{\"id\":\"24979\"}],\"tags\":[\"hv_created\"],\"tooltips\":[[\"index\",\"@{index}\"],[\"numberSold\",\"@{numberSold}\"]]},\"id\":\"24943\",\"type\":\"HoverTool\"},{\"attributes\":{\"fill_alpha\":{\"value\":0.2},\"fill_color\":{\"value\":\"#f0787e\"},\"hatch_alpha\":{\"value\":0.2},\"hatch_color\":{\"value\":\"#f0787e\"},\"line_alpha\":{\"value\":0.2},\"top\":{\"field\":\"numberSold\"},\"width\":{\"value\":0.8},\"x\":{\"field\":\"index\"}},\"id\":\"24978\",\"type\":\"VBar\"},{\"attributes\":{\"tools\":[{\"id\":\"24943\"},{\"id\":\"24960\"},{\"id\":\"24961\"},{\"id\":\"24962\"},{\"id\":\"24963\"},{\"id\":\"24964\"}]},\"id\":\"24966\",\"type\":\"Toolbar\"},{\"attributes\":{\"children\":[{\"id\":\"25013\"},{\"id\":\"25011\"}]},\"id\":\"25014\",\"type\":\"Column\"},{\"attributes\":{\"children\":[[{\"id\":\"25182\"},0,0],[{\"id\":\"25232\"},0,1]]},\"id\":\"25299\",\"type\":\"GridBox\"},{\"attributes\":{\"tools\":[{\"id\":\"24892\"},{\"id\":\"24910\"},{\"id\":\"24911\"},{\"id\":\"24912\"},{\"id\":\"24913\"},{\"id\":\"24914\"}]},\"id\":\"24916\",\"type\":\"Toolbar\"},{\"attributes\":{\"callback\":null,\"renderers\":[{\"id\":\"25267\"}],\"tags\":[\"hv_created\"],\"tooltips\":[[\"index\",\"@{index}\"],[\"numberWithdrawn\",\"@{numberWithdrawn}\"]]},\"id\":\"25231\",\"type\":\"HoverTool\"},{\"attributes\":{\"coordinates\":null,\"data_source\":{\"id\":\"25211\"},\"glyph\":{\"id\":\"25214\"},\"group\":null,\"hover_glyph\":null,\"muted_glyph\":{\"id\":\"25216\"},\"nonselection_glyph\":{\"id\":\"25215\"},\"selection_glyph\":{\"id\":\"25219\"},\"view\":{\"id\":\"25218\"}},\"id\":\"25217\",\"type\":\"GlyphRenderer\"},{\"attributes\":{},\"id\":\"25237\",\"type\":\"CategoricalScale\"},{\"attributes\":{},\"id\":\"25223\",\"type\":\"AllLabels\"},{\"attributes\":{\"factors\":[\"0\",\"1\",\"2\",\"3\",\"4\"],\"tags\":[[[\"index\",\"index\",null]]]},\"id\":\"25179\",\"type\":\"FactorRange\"},{\"attributes\":{},\"id\":\"24898\",\"type\":\"LinearScale\"},{\"attributes\":{\"end\":974.5,\"reset_end\":974.5,\"reset_start\":0.0,\"tags\":[[[\"numberAuctioned\",\"numberAuctioned\",null]]]},\"id\":\"25180\",\"type\":\"Range1d\"},{\"attributes\":{\"axis_label\":\"\",\"coordinates\":null,\"formatter\":{\"id\":\"25222\"},\"group\":null,\"major_label_policy\":{\"id\":\"25223\"},\"ticker\":{\"id\":\"25192\"}},\"id\":\"25191\",\"type\":\"CategoricalAxis\"},{\"attributes\":{},\"id\":\"24938\",\"type\":\"AllLabels\"},{\"attributes\":{\"fill_alpha\":{\"value\":0.2},\"fill_color\":{\"value\":\"#c2c36d\"},\"hatch_alpha\":{\"value\":0.2},\"hatch_color\":{\"value\":\"#c2c36d\"},\"line_alpha\":{\"value\":0.2},\"top\":{\"field\":\"numberAuctioned\"},\"width\":{\"value\":0.8},\"x\":{\"field\":\"index\"}},\"id\":\"25216\",\"type\":\"VBar\"},{\"attributes\":{\"data\":[{\"branchvalues\":\"total\",\"domain\":{\"x\":[0.0,1.0],\"y\":[0.0,1.0]},\"hovertemplate\":\"labels=%{label}<br>numberSold=%{value}<br>parent=%{parent}<br>id=%{id}<br>totalSales=%{color}<extra></extra>\",\"marker\":{\"coloraxis\":\"coloraxis\"},\"name\":\"\",\"type\":\"sunburst\"}],\"data_sources\":[{\"id\":\"25177\"}],\"layout\":{\"coloraxis\":{\"colorbar\":{\"title\":{\"text\":\"totalSales\"}},\"colorscale\":[[0.0,\"#0d0887\"],[0.1111111111111111,\"#46039f\"],[0.2222222222222222,\"#7201a8\"],[0.3333333333333333,\"#9c179e\"],[0.4444444444444444,\"#bd3786\"],[0.5555555555555556,\"#d8576b\"],[0.6666666666666666,\"#ed7953\"],[0.7777777777777778,\"#fb9f3a\"],[0.8888888888888888,\"#fdca26\"],[1.0,\"#f0f921\"]]},\"height\":500,\"legend\":{\"tracegroupgap\":0},\"template\":{\"data\":{\"bar\":[{\"error_x\":{\"color\":\"#2a3f5f\"},\"error_y\":{\"color\":\"#2a3f5f\"},\"marker\":{\"line\":{\"color\":\"#E5ECF6\",\"width\":0.5},\"pattern\":{\"fillmode\":\"overlay\",\"size\":10,\"solidity\":0.2}},\"type\":\"bar\"}],\"barpolar\":[{\"marker\":{\"line\":{\"color\":\"#E5ECF6\",\"width\":0.5},\"pattern\":{\"fillmode\":\"overlay\",\"size\":10,\"solidity\":0.2}},\"type\":\"barpolar\"}],\"carpet\":[{\"aaxis\":{\"endlinecolor\":\"#2a3f5f\",\"gridcolor\":\"white\",\"linecolor\":\"white\",\"minorgridcolor\":\"white\",\"startlinecolor\":\"#2a3f5f\"},\"baxis\":{\"endlinecolor\":\"#2a3f5f\",\"gridcolor\":\"white\",\"linecolor\":\"white\",\"minorgridcolor\":\"white\",\"startlinecolor\":\"#2a3f5f\"},\"type\":\"carpet\"}],\"choropleth\":[{\"colorbar\":{\"outlinewidth\":0,\"ticks\":\"\"},\"type\":\"choropleth\"}],\"contour\":[{\"colorbar\":{\"outlinewidth\":0,\"ticks\":\"\"},\"colorscale\":[[0.0,\"#0d0887\"],[0.1111111111111111,\"#46039f\"],[0.2222222222222222,\"#7201a8\"],[0.3333333333333333,\"#9c179e\"],[0.4444444444444444,\"#bd3786\"],[0.5555555555555556,\"#d8576b\"],[0.6666666666666666,\"#ed7953\"],[0.7777777777777778,\"#fb9f3a\"],[0.8888888888888888,\"#fdca26\"],[1.0,\"#f0f921\"]],\"type\":\"contour\"}],\"contourcarpet\":[{\"colorbar\":{\"outlinewidth\":0,\"ticks\":\"\"},\"type\":\"contourcarpet\"}],\"heatmap\":[{\"colorbar\":{\"outlinewidth\":0,\"ticks\":\"\"},\"colorscale\":[[0.0,\"#0d0887\"],[0.1111111111111111,\"#46039f\"],[0.2222222222222222,\"#7201a8\"],[0.3333333333333333,\"#9c179e\"],[0.4444444444444444,\"#bd3786\"],[0.5555555555555556,\"#d8576b\"],[0.6666666666666666,\"#ed7953\"],[0.7777777777777778,\"#fb9f3a\"],[0.8888888888888888,\"#fdca26\"],[1.0,\"#f0f921\"]],\"type\":\"heatmap\"}],\"heatmapgl\":[{\"colorbar\":{\"outlinewidth\":0,\"ticks\":\"\"},\"colorscale\":[[0.0,\"#0d0887\"],[0.1111111111111111,\"#46039f\"],[0.2222222222222222,\"#7201a8\"],[0.3333333333333333,\"#9c179e\"],[0.4444444444444444,\"#bd3786\"],[0.5555555555555556,\"#d8576b\"],[0.6666666666666666,\"#ed7953\"],[0.7777777777777778,\"#fb9f3a\"],[0.8888888888888888,\"#fdca26\"],[1.0,\"#f0f921\"]],\"type\":\"heatmapgl\"}],\"histogram\":[{\"marker\":{\"pattern\":{\"fillmode\":\"overlay\",\"size\":10,\"solidity\":0.2}},\"type\":\"histogram\"}],\"histogram2d\":[{\"colorbar\":{\"outlinewidth\":0,\"ticks\":\"\"},\"colorscale\":[[0.0,\"#0d0887\"],[0.1111111111111111,\"#46039f\"],[0.2222222222222222,\"#7201a8\"],[0.3333333333333333,\"#9c179e\"],[0.4444444444444444,\"#bd3786\"],[0.5555555555555556,\"#d8576b\"],[0.6666666666666666,\"#ed7953\"],[0.7777777777777778,\"#fb9f3a\"],[0.8888888888888888,\"#fdca26\"],[1.0,\"#f0f921\"]],\"type\":\"histogram2d\"}],\"histogram2dcontour\":[{\"colorbar\":{\"outlinewidth\":0,\"ticks\":\"\"},\"colorscale\":[[0.0,\"#0d0887\"],[0.1111111111111111,\"#46039f\"],[0.2222222222222222,\"#7201a8\"],[0.3333333333333333,\"#9c179e\"],[0.4444444444444444,\"#bd3786\"],[0.5555555555555556,\"#d8576b\"],[0.6666666666666666,\"#ed7953\"],[0.7777777777777778,\"#fb9f3a\"],[0.8888888888888888,\"#fdca26\"],[1.0,\"#f0f921\"]],\"type\":\"histogram2dcontour\"}],\"mesh3d\":[{\"colorbar\":{\"outlinewidth\":0,\"ticks\":\"\"},\"type\":\"mesh3d\"}],\"parcoords\":[{\"line\":{\"colorbar\":{\"outlinewidth\":0,\"ticks\":\"\"}},\"type\":\"parcoords\"}],\"pie\":[{\"automargin\":true,\"type\":\"pie\"}],\"scatter\":[{\"marker\":{\"colorbar\":{\"outlinewidth\":0,\"ticks\":\"\"}},\"type\":\"scatter\"}],\"scatter3d\":[{\"line\":{\"colorbar\":{\"outlinewidth\":0,\"ticks\":\"\"}},\"marker\":{\"colorbar\":{\"outlinewidth\":0,\"ticks\":\"\"}},\"type\":\"scatter3d\"}],\"scattercarpet\":[{\"marker\":{\"colorbar\":{\"outlinewidth\":0,\"ticks\":\"\"}},\"type\":\"scattercarpet\"}],\"scattergeo\":[{\"marker\":{\"colorbar\":{\"outlinewidth\":0,\"ticks\":\"\"}},\"type\":\"scattergeo\"}],\"scattergl\":[{\"marker\":{\"colorbar\":{\"outlinewidth\":0,\"ticks\":\"\"}},\"type\":\"scattergl\"}],\"scattermapbox\":[{\"marker\":{\"colorbar\":{\"outlinewidth\":0,\"ticks\":\"\"}},\"type\":\"scattermapbox\"}],\"scatterpolar\":[{\"marker\":{\"colorbar\":{\"outlinewidth\":0,\"ticks\":\"\"}},\"type\":\"scatterpolar\"}],\"scatterpolargl\":[{\"marker\":{\"colorbar\":{\"outlinewidth\":0,\"ticks\":\"\"}},\"type\":\"scatterpolargl\"}],\"scatterternary\":[{\"marker\":{\"colorbar\":{\"outlinewidth\":0,\"ticks\":\"\"}},\"type\":\"scatterternary\"}],\"surface\":[{\"colorbar\":{\"outlinewidth\":0,\"ticks\":\"\"},\"colorscale\":[[0.0,\"#0d0887\"],[0.1111111111111111,\"#46039f\"],[0.2222222222222222,\"#7201a8\"],[0.3333333333333333,\"#9c179e\"],[0.4444444444444444,\"#bd3786\"],[0.5555555555555556,\"#d8576b\"],[0.6666666666666666,\"#ed7953\"],[0.7777777777777778,\"#fb9f3a\"],[0.8888888888888888,\"#fdca26\"],[1.0,\"#f0f921\"]],\"type\":\"surface\"}],\"table\":[{\"cells\":{\"fill\":{\"color\":\"#EBF0F8\"},\"line\":{\"color\":\"white\"}},\"header\":{\"fill\":{\"color\":\"#C8D4E3\"},\"line\":{\"color\":\"white\"}},\"type\":\"table\"}]},\"layout\":{\"annotationdefaults\":{\"arrowcolor\":\"#2a3f5f\",\"arrowhead\":0,\"arrowwidth\":1},\"autotypenumbers\":\"strict\",\"coloraxis\":{\"colorbar\":{\"outlinewidth\":0,\"ticks\":\"\"}},\"colorscale\":{\"diverging\":[[0,\"#8e0152\"],[0.1,\"#c51b7d\"],[0.2,\"#de77ae\"],[0.3,\"#f1b6da\"],[0.4,\"#fde0ef\"],[0.5,\"#f7f7f7\"],[0.6,\"#e6f5d0\"],[0.7,\"#b8e186\"],[0.8,\"#7fbc41\"],[0.9,\"#4d9221\"],[1,\"#276419\"]],\"sequential\":[[0.0,\"#0d0887\"],[0.1111111111111111,\"#46039f\"],[0.2222222222222222,\"#7201a8\"],[0.3333333333333333,\"#9c179e\"],[0.4444444444444444,\"#bd3786\"],[0.5555555555555556,\"#d8576b\"],[0.6666666666666666,\"#ed7953\"],[0.7777777777777778,\"#fb9f3a\"],[0.8888888888888888,\"#fdca26\"],[1.0,\"#f0f921\"]],\"sequentialminus\":[[0.0,\"#0d0887\"],[0.1111111111111111,\"#46039f\"],[0.2222222222222222,\"#7201a8\"],[0.3333333333333333,\"#9c179e\"],[0.4444444444444444,\"#bd3786\"],[0.5555555555555556,\"#d8576b\"],[0.6666666666666666,\"#ed7953\"],[0.7777777777777778,\"#fb9f3a\"],[0.8888888888888888,\"#fdca26\"],[1.0,\"#f0f921\"]]},\"colorway\":[\"#636efa\",\"#EF553B\",\"#00cc96\",\"#ab63fa\",\"#FFA15A\",\"#19d3f3\",\"#FF6692\",\"#B6E880\",\"#FF97FF\",\"#FECB52\"],\"font\":{\"color\":\"#2a3f5f\"},\"geo\":{\"bgcolor\":\"white\",\"lakecolor\":\"white\",\"landcolor\":\"#E5ECF6\",\"showlakes\":true,\"showland\":true,\"subunitcolor\":\"white\"},\"hoverlabel\":{\"align\":\"left\"},\"hovermode\":\"closest\",\"mapbox\":{\"style\":\"light\"},\"paper_bgcolor\":\"white\",\"plot_bgcolor\":\"#E5ECF6\",\"polar\":{\"angularaxis\":{\"gridcolor\":\"white\",\"linecolor\":\"white\",\"ticks\":\"\"},\"bgcolor\":\"#E5ECF6\",\"radialaxis\":{\"gridcolor\":\"white\",\"linecolor\":\"white\",\"ticks\":\"\"}},\"scene\":{\"xaxis\":{\"backgroundcolor\":\"#E5ECF6\",\"gridcolor\":\"white\",\"gridwidth\":2,\"linecolor\":\"white\",\"showbackground\":true,\"ticks\":\"\",\"zerolinecolor\":\"white\"},\"yaxis\":{\"backgroundcolor\":\"#E5ECF6\",\"gridcolor\":\"white\",\"gridwidth\":2,\"linecolor\":\"white\",\"showbackground\":true,\"ticks\":\"\",\"zerolinecolor\":\"white\"},\"zaxis\":{\"backgroundcolor\":\"#E5ECF6\",\"gridcolor\":\"white\",\"gridwidth\":2,\"linecolor\":\"white\",\"showbackground\":true,\"ticks\":\"\",\"zerolinecolor\":\"white\"}},\"shapedefaults\":{\"line\":{\"color\":\"#2a3f5f\"}},\"ternary\":{\"aaxis\":{\"gridcolor\":\"white\",\"linecolor\":\"white\",\"ticks\":\"\"},\"baxis\":{\"gridcolor\":\"white\",\"linecolor\":\"white\",\"ticks\":\"\"},\"bgcolor\":\"#E5ECF6\",\"caxis\":{\"gridcolor\":\"white\",\"linecolor\":\"white\",\"ticks\":\"\"}},\"title\":{\"x\":0.05},\"xaxis\":{\"automargin\":true,\"gridcolor\":\"white\",\"linecolor\":\"white\",\"ticks\":\"\",\"title\":{\"standoff\":15},\"zerolinecolor\":\"white\",\"zerolinewidth\":2},\"yaxis\":{\"automargin\":true,\"gridcolor\":\"white\",\"linecolor\":\"white\",\"ticks\":\"\",\"title\":{\"standoff\":15},\"zerolinecolor\":\"white\",\"zerolinewidth\":2}}},\"title\":{\"text\":\"Overal Property Market in 5 Cities For Latest Auction \"}},\"margin\":[5,5,5,5],\"name\":\"Plotly27118\",\"viewport_update_throttle\":200,\"visibility\":false},\"id\":\"25178\",\"type\":\"panel.models.plotly.PlotlyPlot\"},{\"attributes\":{\"data\":{\"index\":[\"0\",\"1\",\"2\",\"3\",\"4\"],\"numberSold\":[478,649,60,60,63]},\"selected\":{\"id\":\"24974\"},\"selection_policy\":{\"id\":\"25007\"}},\"id\":\"24973\",\"type\":\"ColumnDataSource\"},{\"attributes\":{\"children\":[{\"id\":\"24883\"}],\"margin\":[0,0,0,0],\"name\":\"Column27105\"},\"id\":\"24882\",\"type\":\"Column\"},{\"attributes\":{\"data\":{\"customdata\":[{\"__ndarray__\":\"AAAAaN1OhEEAAACg5XyGQQAAACD9LIpBAAAA+gcmv0EAAABCh+m/QQAAAGjdToRBAAAAoOV8hkEAAAAg/SyKQQAAAPoHJr9BAAAAQofpv0E=\",\"dtype\":\"float64\",\"order\":\"little\",\"shape\":[10,1]}],\"ids\":[[\"Adelaide/42589101.0\",\"Brisbane/47160500.0\",\"Canberra/54894500.0\",\"Melbourne/522586106.0\",\"Sydney/535398210.0\",\"Adelaide\",\"Brisbane\",\"Canberra\",\"Melbourne\",\"Sydney\"]],\"labels\":[[\"42589101.0\",\"47160500.0\",\"54894500.0\",\"522586106.0\",\"535398210.0\",\"Adelaide\",\"Brisbane\",\"Canberra\",\"Melbourne\",\"Sydney\"]],\"marker.colors\":[{\"__ndarray__\":\"AAAAaN1OhEEAAACg5XyGQQAAACD9LIpBAAAA+gcmv0EAAABCh+m/QQAAAGjdToRBAAAAoOV8hkEAAAAg/SyKQQAAAPoHJr9BAAAAQofpv0E=\",\"dtype\":\"float64\",\"order\":\"little\",\"shape\":[10]}],\"parents\":[[\"Adelaide\",\"Brisbane\",\"Canberra\",\"Melbourne\",\"Sydney\",\"\",\"\",\"\",\"\",\"\"]],\"values\":[[63,60,60,649,478,63,60,60,649,478]]},\"selected\":{\"id\":\"25467\"},\"selection_policy\":{\"id\":\"25466\"}},\"id\":\"25177\",\"type\":\"ColumnDataSource\"},{\"attributes\":{\"below\":[{\"id\":\"25191\"}],\"center\":[{\"id\":\"25193\"},{\"id\":\"25197\"}],\"height\":400,\"left\":[{\"id\":\"25194\"}],\"margin\":null,\"min_border_bottom\":10,\"min_border_left\":10,\"min_border_right\":10,\"min_border_top\":10,\"renderers\":[{\"id\":\"25217\"}],\"sizing_mode\":\"fixed\",\"title\":{\"id\":\"25183\"},\"toolbar\":{\"id\":\"25204\"},\"toolbar_location\":null,\"width\":700,\"x_range\":{\"id\":\"25179\"},\"x_scale\":{\"id\":\"25187\"},\"y_range\":{\"id\":\"25180\"},\"y_scale\":{\"id\":\"25189\"}},\"id\":\"25182\",\"subtype\":\"Figure\",\"type\":\"Plot\"},{\"attributes\":{\"format\":\"%.0f\"},\"id\":\"24982\",\"type\":\"PrintfTickFormatter\"},{\"attributes\":{},\"id\":\"24988\",\"type\":\"AllLabels\"},{\"attributes\":{},\"id\":\"25187\",\"type\":\"CategoricalScale\"},{\"attributes\":{\"axis\":{\"id\":\"25191\"},\"coordinates\":null,\"grid_line_color\":null,\"group\":null,\"ticker\":null},\"id\":\"25193\",\"type\":\"Grid\"},{\"attributes\":{},\"id\":\"25212\",\"type\":\"Selection\"},{\"attributes\":{\"coordinates\":null,\"group\":null,\"text\":\"Total Sales ($AUD)\",\"text_color\":\"black\",\"text_font_size\":\"12pt\"},\"id\":\"25183\",\"type\":\"Title\"},{\"attributes\":{\"fill_color\":{\"value\":\"#043834\"},\"hatch_color\":{\"value\":\"#043834\"},\"top\":{\"field\":\"numberWithdrawn\"},\"width\":{\"value\":0.8},\"x\":{\"field\":\"index\"}},\"id\":\"25264\",\"type\":\"VBar\"},{\"attributes\":{\"child\":{\"id\":\"24882\"},\"name\":\"Column27105\",\"title\":\" AU Stocks \"},\"id\":\"24884\",\"type\":\"Panel\"},{\"attributes\":{\"below\":[{\"id\":\"24953\"}],\"center\":[{\"id\":\"24955\"},{\"id\":\"24959\"}],\"height\":400,\"left\":[{\"id\":\"24956\"}],\"margin\":null,\"min_border_bottom\":10,\"min_border_left\":10,\"min_border_right\":10,\"min_border_top\":10,\"renderers\":[{\"id\":\"24979\"}],\"sizing_mode\":\"fixed\",\"title\":{\"id\":\"24945\"},\"toolbar\":{\"id\":\"24966\"},\"toolbar_location\":null,\"width\":700,\"x_range\":{\"id\":\"24941\"},\"x_scale\":{\"id\":\"24949\"},\"y_range\":{\"id\":\"24942\"},\"y_scale\":{\"id\":\"24951\"}},\"id\":\"24944\",\"subtype\":\"Figure\",\"type\":\"Plot\"},{\"attributes\":{},\"id\":\"25189\",\"type\":\"LinearScale\"},{\"attributes\":{},\"id\":\"25222\",\"type\":\"CategoricalTickFormatter\"},{\"attributes\":{},\"id\":\"25195\",\"type\":\"BasicTicker\"},{\"attributes\":{\"axis_label\":\"\",\"coordinates\":null,\"formatter\":{\"id\":\"24984\"},\"group\":null,\"major_label_policy\":{\"id\":\"24985\"},\"ticker\":{\"id\":\"24954\"}},\"id\":\"24953\",\"type\":\"CategoricalAxis\"},{\"attributes\":{},\"id\":\"25192\",\"type\":\"CategoricalTicker\"},{\"attributes\":{\"axis\":{\"id\":\"24953\"},\"coordinates\":null,\"grid_line_color\":null,\"group\":null,\"ticker\":null},\"id\":\"24955\",\"type\":\"Grid\"},{\"attributes\":{},\"id\":\"24997\",\"type\":\"UnionRenderers\"},{\"attributes\":{\"coordinates\":null,\"group\":null,\"text\":\"Median Market Price ($AUD)\",\"text_color\":\"black\",\"text_font_size\":\"12pt\"},\"id\":\"24945\",\"type\":\"Title\"},{\"attributes\":{\"axis_label\":\"\",\"coordinates\":null,\"formatter\":{\"id\":\"25220\"},\"group\":null,\"major_label_policy\":{\"id\":\"25226\"},\"ticker\":{\"id\":\"25195\"}},\"id\":\"25194\",\"type\":\"LinearAxis\"},{\"attributes\":{\"child\":{\"id\":\"24885\"},\"name\":\"Column27105\",\"title\":\" US Stocks \"},\"id\":\"24887\",\"type\":\"Panel\"},{\"attributes\":{\"below\":[{\"id\":\"25241\"}],\"center\":[{\"id\":\"25243\"},{\"id\":\"25247\"}],\"height\":400,\"left\":[{\"id\":\"25244\"}],\"margin\":null,\"min_border_bottom\":10,\"min_border_left\":10,\"min_border_right\":10,\"min_border_top\":10,\"renderers\":[{\"id\":\"25267\"}],\"sizing_mode\":\"fixed\",\"title\":{\"id\":\"25233\"},\"toolbar\":{\"id\":\"25254\"},\"toolbar_location\":null,\"width\":700,\"x_range\":{\"id\":\"25229\"},\"x_scale\":{\"id\":\"25237\"},\"y_range\":{\"id\":\"25230\"},\"y_scale\":{\"id\":\"25239\"}},\"id\":\"25232\",\"subtype\":\"Figure\",\"type\":\"Plot\"},{\"attributes\":{\"axis\":{\"id\":\"25194\"},\"coordinates\":null,\"dimension\":1,\"grid_line_color\":null,\"group\":null,\"ticker\":null},\"id\":\"25197\",\"type\":\"Grid\"},{\"attributes\":{\"format\":\"%.0f\"},\"id\":\"25220\",\"type\":\"PrintfTickFormatter\"},{\"attributes\":{\"bottom\":{\"value\":0},\"fill_alpha\":{\"value\":1.0},\"fill_color\":{\"value\":\"#c2c36d\"},\"hatch_alpha\":{\"value\":1.0},\"hatch_color\":{\"value\":\"#c2c36d\"},\"hatch_scale\":{\"value\":12.0},\"hatch_weight\":{\"value\":1.0},\"line_alpha\":{\"value\":1.0},\"line_cap\":{\"value\":\"butt\"},\"line_color\":{\"value\":\"black\"},\"line_dash\":{\"value\":[]},\"line_dash_offset\":{\"value\":0},\"line_join\":{\"value\":\"bevel\"},\"line_width\":{\"value\":1},\"top\":{\"field\":\"numberAuctioned\"},\"width\":{\"value\":0.8},\"x\":{\"field\":\"index\"}},\"id\":\"25219\",\"type\":\"VBar\"},{\"attributes\":{},\"id\":\"24949\",\"type\":\"CategoricalScale\"},{\"attributes\":{},\"id\":\"24951\",\"type\":\"LinearScale\"},{\"attributes\":{\"callback\":null,\"renderers\":[{\"id\":\"24929\"}],\"tags\":[\"hv_created\"],\"tooltips\":[[\"index\",\"@{index}\"],[\"totalSales\",\"@{totalSales}\"]]},\"id\":\"24892\",\"type\":\"HoverTool\"},{\"attributes\":{},\"id\":\"24957\",\"type\":\"BasicTicker\"},{\"attributes\":{},\"id\":\"24924\",\"type\":\"Selection\"},{\"attributes\":{},\"id\":\"24954\",\"type\":\"CategoricalTicker\"},{\"attributes\":{\"reload\":false},\"id\":\"25886\",\"type\":\"panel.models.location.Location\"},{\"attributes\":{},\"id\":\"24974\",\"type\":\"Selection\"},{\"attributes\":{},\"id\":\"25466\",\"type\":\"UnionRenderers\"},{\"attributes\":{\"axis_label\":\"\",\"coordinates\":null,\"formatter\":{\"id\":\"24982\"},\"group\":null,\"major_label_policy\":{\"id\":\"24988\"},\"ticker\":{\"id\":\"24957\"}},\"id\":\"24956\",\"type\":\"LinearAxis\"},{\"attributes\":{\"children\":[{\"id\":\"24889\"},{\"id\":\"25014\"},{\"id\":\"25178\"},{\"id\":\"25302\"}],\"margin\":[0,0,0,0],\"name\":\"Column27125\"},\"id\":\"24888\",\"type\":\"Column\"},{\"attributes\":{\"axis\":{\"id\":\"24956\"},\"coordinates\":null,\"dimension\":1,\"grid_line_color\":null,\"group\":null,\"ticker\":null},\"id\":\"24959\",\"type\":\"Grid\"},{\"attributes\":{\"fill_alpha\":{\"value\":0.1},\"fill_color\":{\"value\":\"#f0787e\"},\"hatch_alpha\":{\"value\":0.1},\"hatch_color\":{\"value\":\"#f0787e\"},\"line_alpha\":{\"value\":0.1},\"top\":{\"field\":\"numberSold\"},\"width\":{\"value\":0.8},\"x\":{\"field\":\"index\"}},\"id\":\"24977\",\"type\":\"VBar\"},{\"attributes\":{\"source\":{\"id\":\"25211\"}},\"id\":\"25218\",\"type\":\"CDSView\"},{\"attributes\":{\"below\":[{\"id\":\"24902\"}],\"center\":[{\"id\":\"24905\"},{\"id\":\"24909\"}],\"height\":400,\"left\":[{\"id\":\"24906\"}],\"margin\":null,\"min_border_bottom\":10,\"min_border_left\":10,\"min_border_right\":10,\"min_border_top\":10,\"renderers\":[{\"id\":\"24929\"}],\"sizing_mode\":\"fixed\",\"title\":{\"id\":\"24894\"},\"toolbar\":{\"id\":\"24916\"},\"toolbar_location\":null,\"width\":700,\"x_range\":{\"id\":\"24890\"},\"x_scale\":{\"id\":\"24898\"},\"y_range\":{\"id\":\"24891\"},\"y_scale\":{\"id\":\"24900\"}},\"id\":\"24893\",\"subtype\":\"Figure\",\"type\":\"Plot\"},{\"attributes\":{},\"id\":\"25198\",\"type\":\"SaveTool\"},{\"attributes\":{\"data\":{\"index\":[\"0\",\"1\",\"2\",\"3\",\"4\"],\"numberAuctioned\":[620,892,80,76,67]},\"selected\":{\"id\":\"25212\"},\"selection_policy\":{\"id\":\"25285\"}},\"id\":\"25211\",\"type\":\"ColumnDataSource\"},{\"attributes\":{},\"id\":\"25199\",\"type\":\"PanTool\"},{\"attributes\":{},\"id\":\"24985\",\"type\":\"AllLabels\"},{\"attributes\":{\"child\":{\"id\":\"24879\"},\"name\":\"Column27102\",\"title\":\" Crypto Assets \"},\"id\":\"24881\",\"type\":\"Panel\"},{\"attributes\":{\"end\":707.9,\"reset_end\":707.9,\"reset_start\":0.0,\"tags\":[[[\"numberSold\",\"numberSold\",null]]]},\"id\":\"24942\",\"type\":\"Range1d\"},{\"attributes\":{},\"id\":\"25202\",\"type\":\"ResetTool\"},{\"attributes\":{},\"id\":\"25200\",\"type\":\"WheelZoomTool\"},{\"attributes\":{},\"id\":\"24984\",\"type\":\"CategoricalTickFormatter\"},{\"attributes\":{},\"id\":\"25007\",\"type\":\"UnionRenderers\"},{\"attributes\":{\"data\":{\"index\":[0,1,2,3,4],\"totalSales\":{\"__ndarray__\":\"AAAAQofpv0EAAAD6Bya/QQAAAKDlfIZBAAAAIP0sikEAAABo3U6EQQ==\",\"dtype\":\"float64\",\"order\":\"little\",\"shape\":[5]}},\"selected\":{\"id\":\"24924\"},\"selection_policy\":{\"id\":\"24997\"}},\"id\":\"24923\",\"type\":\"ColumnDataSource\"},{\"attributes\":{\"bottom\":{\"value\":0},\"fill_alpha\":{\"value\":1.0},\"fill_color\":{\"value\":\"#f0787e\"},\"hatch_alpha\":{\"value\":1.0},\"hatch_color\":{\"value\":\"#f0787e\"},\"hatch_scale\":{\"value\":12.0},\"hatch_weight\":{\"value\":1.0},\"line_alpha\":{\"value\":1.0},\"line_cap\":{\"value\":\"butt\"},\"line_color\":{\"value\":\"black\"},\"line_dash\":{\"value\":[]},\"line_dash_offset\":{\"value\":0},\"line_join\":{\"value\":\"bevel\"},\"line_width\":{\"value\":1},\"top\":{\"field\":\"numberSold\"},\"width\":{\"value\":0.8},\"x\":{\"field\":\"index\"}},\"id\":\"24981\",\"type\":\"VBar\"},{\"attributes\":{\"overlay\":{\"id\":\"25203\"}},\"id\":\"25201\",\"type\":\"BoxZoomTool\"},{\"attributes\":{\"coordinates\":null,\"data_source\":{\"id\":\"24973\"},\"glyph\":{\"id\":\"24976\"},\"group\":null,\"hover_glyph\":null,\"muted_glyph\":{\"id\":\"24978\"},\"nonselection_glyph\":{\"id\":\"24977\"},\"selection_glyph\":{\"id\":\"24981\"},\"view\":{\"id\":\"24980\"}},\"id\":\"24979\",\"type\":\"GlyphRenderer\"},{\"attributes\":{\"children\":[{\"id\":\"24886\"}],\"margin\":[0,0,0,0],\"name\":\"Column27105\"},\"id\":\"24885\",\"type\":\"Column\"},{\"attributes\":{\"toolbar\":{\"id\":\"25012\"},\"toolbar_location\":\"above\"},\"id\":\"25013\",\"type\":\"ToolbarBox\"},{\"attributes\":{\"fill_color\":{\"value\":\"#c2c36d\"},\"hatch_color\":{\"value\":\"#c2c36d\"},\"top\":{\"field\":\"numberAuctioned\"},\"width\":{\"value\":0.8},\"x\":{\"field\":\"index\"}},\"id\":\"25214\",\"type\":\"VBar\"},{\"attributes\":{\"children\":[{\"id\":\"24880\"}],\"margin\":[0,0,0,0],\"name\":\"Column27102\"},\"id\":\"24879\",\"type\":\"Column\"},{\"attributes\":{\"css_classes\":[\"markdown\"],\"margin\":[5,5,5,5],\"name\":\"Markdown27097\",\"text\":\"&lt;p&gt;This dashboard provides Interactive Visualizations, and Static Charts to help the investors get an oversight about the performance of their portfolio&lt;/p&gt;\"},\"id\":\"24877\",\"type\":\"panel.models.markup.HTML\"},{\"attributes\":{},\"id\":\"24960\",\"type\":\"SaveTool\"},{\"attributes\":{},\"id\":\"24961\",\"type\":\"PanTool\"},{\"attributes\":{},\"id\":\"25239\",\"type\":\"LinearScale\"},{\"attributes\":{},\"id\":\"24964\",\"type\":\"ResetTool\"},{\"attributes\":{},\"id\":\"24962\",\"type\":\"WheelZoomTool\"},{\"attributes\":{\"overlay\":{\"id\":\"24965\"}},\"id\":\"24963\",\"type\":\"BoxZoomTool\"},{\"attributes\":{\"child\":{\"id\":\"24876\"},\"name\":\"Column27099\",\"title\":\" Welcome! \"},\"id\":\"24878\",\"type\":\"Panel\"},{\"attributes\":{\"toolbars\":[{\"id\":\"24916\"},{\"id\":\"24966\"}],\"tools\":[{\"id\":\"24892\"},{\"id\":\"24910\"},{\"id\":\"24911\"},{\"id\":\"24912\"},{\"id\":\"24913\"},{\"id\":\"24914\"},{\"id\":\"24943\"},{\"id\":\"24960\"},{\"id\":\"24961\"},{\"id\":\"24962\"},{\"id\":\"24963\"},{\"id\":\"24964\"}]},\"id\":\"25012\",\"type\":\"ProxyToolbar\"},{\"attributes\":{\"tools\":[{\"id\":\"25181\"},{\"id\":\"25198\"},{\"id\":\"25199\"},{\"id\":\"25200\"},{\"id\":\"25201\"},{\"id\":\"25202\"}]},\"id\":\"25204\",\"type\":\"Toolbar\"},{\"attributes\":{\"source\":{\"id\":\"24973\"}},\"id\":\"24980\",\"type\":\"CDSView\"},{\"attributes\":{\"bottom_units\":\"screen\",\"coordinates\":null,\"fill_alpha\":0.5,\"fill_color\":\"lightgrey\",\"group\":null,\"left_units\":\"screen\",\"level\":\"overlay\",\"line_alpha\":1.0,\"line_color\":\"black\",\"line_dash\":[4,4],\"line_width\":2,\"right_units\":\"screen\",\"syncable\":false,\"top_units\":\"screen\"},\"id\":\"25203\",\"type\":\"BoxAnnotation\"},{\"attributes\":{\"factors\":[\"0\",\"1\",\"2\",\"3\",\"4\"],\"tags\":[[[\"index\",\"index\",null]]]},\"id\":\"25229\",\"type\":\"FactorRange\"},{\"attributes\":{\"fill_alpha\":{\"value\":0.1},\"fill_color\":{\"value\":\"#c2c36d\"},\"hatch_alpha\":{\"value\":0.1},\"hatch_color\":{\"value\":\"#c2c36d\"},\"line_alpha\":{\"value\":0.1},\"top\":{\"field\":\"numberAuctioned\"},\"width\":{\"value\":0.8},\"x\":{\"field\":\"index\"}},\"id\":\"25215\",\"type\":\"VBar\"},{\"attributes\":{\"bottom_units\":\"screen\",\"coordinates\":null,\"fill_alpha\":0.5,\"fill_color\":\"lightgrey\",\"group\":null,\"left_units\":\"screen\",\"level\":\"overlay\",\"line_alpha\":1.0,\"line_color\":\"black\",\"line_dash\":[4,4],\"line_width\":2,\"right_units\":\"screen\",\"syncable\":false,\"top_units\":\"screen\"},\"id\":\"24965\",\"type\":\"BoxAnnotation\"},{\"attributes\":{},\"id\":\"24934\",\"type\":\"BasicTickFormatter\"},{\"attributes\":{\"fill_color\":{\"value\":\"#f0787e\"},\"hatch_color\":{\"value\":\"#f0787e\"},\"top\":{\"field\":\"numberSold\"},\"width\":{\"value\":0.8},\"x\":{\"field\":\"index\"}},\"id\":\"24976\",\"type\":\"VBar\"},{\"attributes\":{\"css_classes\":[\"markdown\"],\"margin\":[5,5,5,5],\"name\":\"Markdown27100\",\"text\":\"&lt;p&gt;Your Cryptocurrency Basket&lt;/p&gt;\"},\"id\":\"24880\",\"type\":\"panel.models.markup.HTML\"}],\"root_ids\":[\"24875\",\"25771\",\"25886\"]},\"title\":\"Bokeh Application\",\"version\":\"2.4.2\"}};\n",
       "    var render_items = [{\"docid\":\"c5602d35-c26e-4ce1-9d28-ee9f621a557f\",\"root_ids\":[\"24875\"],\"roots\":{\"24875\":\"61e2e9d4-32f9-4928-9896-d74e803a66d1\"}}];\n",
       "    root.Bokeh.embed.embed_items_notebook(docs_json, render_items);\n",
       "  }\n",
       "  if (root.Bokeh !== undefined && root.Bokeh.Panel !== undefined) {\n",
       "    embed_document(root);\n",
       "  } else {\n",
       "    var attempts = 0;\n",
       "    var timer = setInterval(function(root) {\n",
       "      if (root.Bokeh !== undefined && root.Bokeh.Panel !== undefined) {\n",
       "        clearInterval(timer);\n",
       "        embed_document(root);\n",
       "      } else if (document.readyState == \"complete\") {\n",
       "        attempts++;\n",
       "        if (attempts > 200) {\n",
       "          clearInterval(timer);\n",
       "          console.log(\"Bokeh: ERROR: Unable to run BokehJS code because BokehJS library is missing\");\n",
       "        }\n",
       "      }\n",
       "    }, 25, root)\n",
       "  }\n",
       "})(window);</script>"
      ],
      "text/plain": [
       "Tabs\n",
       "    [0] Column\n",
       "        [0] Markdown(str)\n",
       "    [1] Column\n",
       "        [0] Markdown(str)\n",
       "    [2] Column\n",
       "        [0] Markdown(str)\n",
       "    [3] Column\n",
       "        [0] Markdown(str)\n",
       "    [4] Column\n",
       "        [0] Markdown(str)\n",
       "        [1] HoloViews(Layout)\n",
       "        [2] Plotly(Figure)\n",
       "        [3] HoloViews(Layout)"
      ]
     },
     "execution_count": 158,
     "metadata": {
      "application/vnd.holoviews_exec.v0+json": {
       "id": "24875"
      }
     },
     "output_type": "execute_result"
    }
   ],
   "source": [
    "#Serve the Panel Dashboard\n",
    "dashboard.servable()"
   ]
  },
  {
   "cell_type": "code",
   "execution_count": null,
   "id": "5224301f",
   "metadata": {},
   "outputs": [],
   "source": []
  }
 ],
 "metadata": {
  "kernelspec": {
   "display_name": "Python [conda env:pyvizenv] *",
   "language": "python",
   "name": "conda-env-pyvizenv-py"
  },
  "language_info": {
   "codemirror_mode": {
    "name": "ipython",
    "version": 3
   },
   "file_extension": ".py",
   "mimetype": "text/x-python",
   "name": "python",
   "nbconvert_exporter": "python",
   "pygments_lexer": "ipython3",
   "version": "3.7.11"
  }
 },
 "nbformat": 4,
 "nbformat_minor": 5
}
