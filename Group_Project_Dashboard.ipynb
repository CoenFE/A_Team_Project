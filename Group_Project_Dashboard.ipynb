{
 "cells": [
  {
   "cell_type": "code",
   "execution_count": 1,
   "id": "0770b617",
   "metadata": {},
   "outputs": [],
   "source": [
    "\"\"\" Group-A Dashboard \"\"\""
   ]
  },
  {
   "cell_type": "code",
   "execution_count": 70,
   "id": "c05eb377",
   "metadata": {},
   "outputs": [],
   "source": [
    "# imports\n",
    "import os\n",
    "import requests\n",
    "import json\n",
    "import numpy as np\n",
    "import pandas as pd\n",
    "import hvplot.pandas\n",
    "import matplotlib.pyplot as plt\n",
    "import panel as pn\n",
    "import plotly.express as px\n",
    "from pathlib import Path\n",
    "from dotenv import load_dotenv\n",
    "import random\n",
    "\n",
    "%matplotlib inline\n",
    "import seaborn as sns \n",
    "import plotly.graph_objects as go\n",
    "import plotly.figure_factory as ff\n",
    "\n"
   ]
  },
  {
   "cell_type": "code",
   "execution_count": 71,
   "id": "43f51fc0",
   "metadata": {},
   "outputs": [],
   "source": [
    "\"\"\" IMPORT DATA \"\"\"\n",
    "\n",
    "# reading Property data from CSV file\n",
    "file_path = Path(\"cities_combined.csv\")\n",
    "df_combined = pd.DataFrame(pd.read_csv(file_path))\n",
    "df_combined.set_index('city',inplace=True)\n",
    "#df_combined.head(10)"
   ]
  },
  {
   "cell_type": "code",
   "execution_count": 72,
   "id": "0c02a996",
   "metadata": {},
   "outputs": [],
   "source": [
    "#Crypto DataF\n",
    "file_path = Path(\"crypto_dataframes/crypto_df.csv\")\n",
    "crypto_df = pd.DataFrame(pd.read_csv(file_path))\n",
    "#df_crypto"
   ]
  },
  {
   "cell_type": "code",
   "execution_count": 85,
   "id": "7a023b1d",
   "metadata": {},
   "outputs": [],
   "source": [
    "file_path = Path(\"crypto_dataframes/crypto_daily_returns_df.csv\")\n",
    "crypto_daily_returns_df = pd.DataFrame(pd.read_csv(file_path))\n",
    "#crypto_daily_returns_df"
   ]
  },
  {
   "cell_type": "code",
   "execution_count": null,
   "id": "9faa7f8e",
   "metadata": {},
   "outputs": [],
   "source": []
  },
  {
   "cell_type": "code",
   "execution_count": null,
   "id": "160042d7",
   "metadata": {},
   "outputs": [],
   "source": []
  },
  {
   "cell_type": "code",
   "execution_count": null,
   "id": "c260dda0",
   "metadata": {},
   "outputs": [],
   "source": []
  },
  {
   "cell_type": "code",
   "execution_count": null,
   "id": "d2e654e8",
   "metadata": {},
   "outputs": [],
   "source": []
  },
  {
   "cell_type": "code",
   "execution_count": null,
   "id": "0f94c2d9",
   "metadata": {},
   "outputs": [],
   "source": []
  },
  {
   "cell_type": "code",
   "execution_count": 73,
   "id": "3288ecfb",
   "metadata": {},
   "outputs": [],
   "source": [
    "#Prep Data for sunburst chart\n",
    "df_combined = df_combined.reset_index()\n",
    "#df_combined"
   ]
  },
  {
   "cell_type": "code",
   "execution_count": null,
   "id": "16ae4f23",
   "metadata": {},
   "outputs": [],
   "source": []
  },
  {
   "cell_type": "code",
   "execution_count": 40,
   "id": "af768ec1",
   "metadata": {},
   "outputs": [
    {
     "data": {
      "text/plain": [
       "' Panel Visualization Functions '"
      ]
     },
     "execution_count": 40,
     "metadata": {},
     "output_type": "execute_result"
    }
   ],
   "source": [
    "\"\"\" Panel Visualization Functions \"\"\""
   ]
  },
  {
   "cell_type": "code",
   "execution_count": 86,
   "id": "fd87f529",
   "metadata": {},
   "outputs": [
    {
     "ename": "DataError",
     "evalue": "No numeric types to aggregate",
     "output_type": "error",
     "traceback": [
      "\u001b[1;31m---------------------------------------------------------------------------\u001b[0m",
      "\u001b[1;31mDataError\u001b[0m                                 Traceback (most recent call last)",
      "\u001b[1;32m~\\AppData\\Local\\Temp/ipykernel_9208/2214102506.py\u001b[0m in \u001b[0;36m<module>\u001b[1;34m\u001b[0m\n\u001b[0;32m      1\u001b[0m \u001b[1;34m\"\"\" This Cel is for crypto tab \"\"\"\u001b[0m\u001b[1;33m\u001b[0m\u001b[1;33m\u001b[0m\u001b[0m\n\u001b[0;32m      2\u001b[0m \u001b[1;31m#plotting a 21 day rolling window of the standard deviation\u001b[0m\u001b[1;33m\u001b[0m\u001b[1;33m\u001b[0m\u001b[1;33m\u001b[0m\u001b[0m\n\u001b[1;32m----> 3\u001b[1;33m \u001b[0mchart_crypto_daily_returns_df\u001b[0m\u001b[1;33m=\u001b[0m \u001b[0mcrypto_daily_returns_df\u001b[0m\u001b[1;33m.\u001b[0m\u001b[0mrolling\u001b[0m\u001b[1;33m(\u001b[0m\u001b[0mwindow\u001b[0m\u001b[1;33m=\u001b[0m\u001b[1;36m21\u001b[0m\u001b[1;33m)\u001b[0m\u001b[1;33m.\u001b[0m\u001b[0mstd\u001b[0m\u001b[1;33m(\u001b[0m\u001b[1;33m)\u001b[0m\u001b[1;33m.\u001b[0m\u001b[0mplot\u001b[0m\u001b[1;33m(\u001b[0m\u001b[0mfigsize\u001b[0m\u001b[1;33m=\u001b[0m\u001b[1;33m(\u001b[0m\u001b[1;36m20\u001b[0m\u001b[1;33m,\u001b[0m\u001b[1;36m10\u001b[0m\u001b[1;33m)\u001b[0m\u001b[1;33m,\u001b[0m\u001b[0mtitle\u001b[0m \u001b[1;33m=\u001b[0m \u001b[1;34m\"Rolling Standard Deviation 21 day Window\"\u001b[0m\u001b[1;33m)\u001b[0m\u001b[1;33m\u001b[0m\u001b[1;33m\u001b[0m\u001b[0m\n\u001b[0m",
      "\u001b[1;32m~\\anaconda3\\envs\\pyvizenv\\lib\\site-packages\\pandas\\core\\window\\rolling.py\u001b[0m in \u001b[0;36mstd\u001b[1;34m(self, ddof, *args, **kwargs)\u001b[0m\n\u001b[0;32m   1943\u001b[0m     \u001b[1;32mdef\u001b[0m \u001b[0mstd\u001b[0m\u001b[1;33m(\u001b[0m\u001b[0mself\u001b[0m\u001b[1;33m,\u001b[0m \u001b[0mddof\u001b[0m\u001b[1;33m:\u001b[0m \u001b[0mint\u001b[0m \u001b[1;33m=\u001b[0m \u001b[1;36m1\u001b[0m\u001b[1;33m,\u001b[0m \u001b[1;33m*\u001b[0m\u001b[0margs\u001b[0m\u001b[1;33m,\u001b[0m \u001b[1;33m**\u001b[0m\u001b[0mkwargs\u001b[0m\u001b[1;33m)\u001b[0m\u001b[1;33m:\u001b[0m\u001b[1;33m\u001b[0m\u001b[1;33m\u001b[0m\u001b[0m\n\u001b[0;32m   1944\u001b[0m         \u001b[0mnv\u001b[0m\u001b[1;33m.\u001b[0m\u001b[0mvalidate_rolling_func\u001b[0m\u001b[1;33m(\u001b[0m\u001b[1;34m\"std\"\u001b[0m\u001b[1;33m,\u001b[0m \u001b[0margs\u001b[0m\u001b[1;33m,\u001b[0m \u001b[0mkwargs\u001b[0m\u001b[1;33m)\u001b[0m\u001b[1;33m\u001b[0m\u001b[1;33m\u001b[0m\u001b[0m\n\u001b[1;32m-> 1945\u001b[1;33m         \u001b[1;32mreturn\u001b[0m \u001b[0msuper\u001b[0m\u001b[1;33m(\u001b[0m\u001b[1;33m)\u001b[0m\u001b[1;33m.\u001b[0m\u001b[0mstd\u001b[0m\u001b[1;33m(\u001b[0m\u001b[0mddof\u001b[0m\u001b[1;33m=\u001b[0m\u001b[0mddof\u001b[0m\u001b[1;33m,\u001b[0m \u001b[1;33m**\u001b[0m\u001b[0mkwargs\u001b[0m\u001b[1;33m)\u001b[0m\u001b[1;33m\u001b[0m\u001b[1;33m\u001b[0m\u001b[0m\n\u001b[0m\u001b[0;32m   1946\u001b[0m \u001b[1;33m\u001b[0m\u001b[0m\n\u001b[0;32m   1947\u001b[0m     @doc(\n",
      "\u001b[1;32m~\\anaconda3\\envs\\pyvizenv\\lib\\site-packages\\pandas\\core\\window\\rolling.py\u001b[0m in \u001b[0;36mstd\u001b[1;34m(self, ddof, *args, **kwargs)\u001b[0m\n\u001b[0;32m   1340\u001b[0m             \u001b[0mzsqrt_func\u001b[0m\u001b[1;33m,\u001b[0m\u001b[1;33m\u001b[0m\u001b[1;33m\u001b[0m\u001b[0m\n\u001b[0;32m   1341\u001b[0m             \u001b[0mname\u001b[0m\u001b[1;33m=\u001b[0m\u001b[1;34m\"std\"\u001b[0m\u001b[1;33m,\u001b[0m\u001b[1;33m\u001b[0m\u001b[1;33m\u001b[0m\u001b[0m\n\u001b[1;32m-> 1342\u001b[1;33m             \u001b[1;33m**\u001b[0m\u001b[0mkwargs\u001b[0m\u001b[1;33m,\u001b[0m\u001b[1;33m\u001b[0m\u001b[1;33m\u001b[0m\u001b[0m\n\u001b[0m\u001b[0;32m   1343\u001b[0m         )\n\u001b[0;32m   1344\u001b[0m \u001b[1;33m\u001b[0m\u001b[0m\n",
      "\u001b[1;32m~\\anaconda3\\envs\\pyvizenv\\lib\\site-packages\\pandas\\core\\window\\rolling.py\u001b[0m in \u001b[0;36m_apply\u001b[1;34m(self, func, name, numba_cache_key, **kwargs)\u001b[0m\n\u001b[0;32m    543\u001b[0m \u001b[1;33m\u001b[0m\u001b[0m\n\u001b[0;32m    544\u001b[0m         \u001b[1;32mif\u001b[0m \u001b[0mself\u001b[0m\u001b[1;33m.\u001b[0m\u001b[0mmethod\u001b[0m \u001b[1;33m==\u001b[0m \u001b[1;34m\"single\"\u001b[0m\u001b[1;33m:\u001b[0m\u001b[1;33m\u001b[0m\u001b[1;33m\u001b[0m\u001b[0m\n\u001b[1;32m--> 545\u001b[1;33m             \u001b[1;32mreturn\u001b[0m \u001b[0mself\u001b[0m\u001b[1;33m.\u001b[0m\u001b[0m_apply_blockwise\u001b[0m\u001b[1;33m(\u001b[0m\u001b[0mhomogeneous_func\u001b[0m\u001b[1;33m,\u001b[0m \u001b[0mname\u001b[0m\u001b[1;33m)\u001b[0m\u001b[1;33m\u001b[0m\u001b[1;33m\u001b[0m\u001b[0m\n\u001b[0m\u001b[0;32m    546\u001b[0m         \u001b[1;32melse\u001b[0m\u001b[1;33m:\u001b[0m\u001b[1;33m\u001b[0m\u001b[1;33m\u001b[0m\u001b[0m\n\u001b[0;32m    547\u001b[0m             \u001b[1;32mreturn\u001b[0m \u001b[0mself\u001b[0m\u001b[1;33m.\u001b[0m\u001b[0m_apply_tablewise\u001b[0m\u001b[1;33m(\u001b[0m\u001b[0mhomogeneous_func\u001b[0m\u001b[1;33m,\u001b[0m \u001b[0mname\u001b[0m\u001b[1;33m)\u001b[0m\u001b[1;33m\u001b[0m\u001b[1;33m\u001b[0m\u001b[0m\n",
      "\u001b[1;32m~\\anaconda3\\envs\\pyvizenv\\lib\\site-packages\\pandas\\core\\window\\rolling.py\u001b[0m in \u001b[0;36m_apply_blockwise\u001b[1;34m(self, homogeneous_func, name)\u001b[0m\n\u001b[0;32m    442\u001b[0m         \u001b[0mout\u001b[0m \u001b[1;33m=\u001b[0m \u001b[0mobj\u001b[0m\u001b[1;33m.\u001b[0m\u001b[0m_constructor\u001b[0m\u001b[1;33m(\u001b[0m\u001b[0mnew_mgr\u001b[0m\u001b[1;33m)\u001b[0m\u001b[1;33m\u001b[0m\u001b[1;33m\u001b[0m\u001b[0m\n\u001b[0;32m    443\u001b[0m \u001b[1;33m\u001b[0m\u001b[0m\n\u001b[1;32m--> 444\u001b[1;33m         \u001b[1;32mreturn\u001b[0m \u001b[0mself\u001b[0m\u001b[1;33m.\u001b[0m\u001b[0m_resolve_output\u001b[0m\u001b[1;33m(\u001b[0m\u001b[0mout\u001b[0m\u001b[1;33m,\u001b[0m \u001b[0mobj\u001b[0m\u001b[1;33m)\u001b[0m\u001b[1;33m\u001b[0m\u001b[1;33m\u001b[0m\u001b[0m\n\u001b[0m\u001b[0;32m    445\u001b[0m \u001b[1;33m\u001b[0m\u001b[0m\n\u001b[0;32m    446\u001b[0m     def _apply_tablewise(\n",
      "\u001b[1;32m~\\anaconda3\\envs\\pyvizenv\\lib\\site-packages\\pandas\\core\\window\\rolling.py\u001b[0m in \u001b[0;36m_resolve_output\u001b[1;34m(self, out, obj)\u001b[0m\n\u001b[0;32m    369\u001b[0m         \u001b[1;34m\"\"\"Validate and finalize result.\"\"\"\u001b[0m\u001b[1;33m\u001b[0m\u001b[1;33m\u001b[0m\u001b[0m\n\u001b[0;32m    370\u001b[0m         \u001b[1;32mif\u001b[0m \u001b[0mout\u001b[0m\u001b[1;33m.\u001b[0m\u001b[0mshape\u001b[0m\u001b[1;33m[\u001b[0m\u001b[1;36m1\u001b[0m\u001b[1;33m]\u001b[0m \u001b[1;33m==\u001b[0m \u001b[1;36m0\u001b[0m \u001b[1;32mand\u001b[0m \u001b[0mobj\u001b[0m\u001b[1;33m.\u001b[0m\u001b[0mshape\u001b[0m\u001b[1;33m[\u001b[0m\u001b[1;36m1\u001b[0m\u001b[1;33m]\u001b[0m \u001b[1;33m>\u001b[0m \u001b[1;36m0\u001b[0m\u001b[1;33m:\u001b[0m\u001b[1;33m\u001b[0m\u001b[1;33m\u001b[0m\u001b[0m\n\u001b[1;32m--> 371\u001b[1;33m             \u001b[1;32mraise\u001b[0m \u001b[0mDataError\u001b[0m\u001b[1;33m(\u001b[0m\u001b[1;34m\"No numeric types to aggregate\"\u001b[0m\u001b[1;33m)\u001b[0m\u001b[1;33m\u001b[0m\u001b[1;33m\u001b[0m\u001b[0m\n\u001b[0m\u001b[0;32m    372\u001b[0m         \u001b[1;32melif\u001b[0m \u001b[0mout\u001b[0m\u001b[1;33m.\u001b[0m\u001b[0mshape\u001b[0m\u001b[1;33m[\u001b[0m\u001b[1;36m1\u001b[0m\u001b[1;33m]\u001b[0m \u001b[1;33m==\u001b[0m \u001b[1;36m0\u001b[0m\u001b[1;33m:\u001b[0m\u001b[1;33m\u001b[0m\u001b[1;33m\u001b[0m\u001b[0m\n\u001b[0;32m    373\u001b[0m             \u001b[1;32mreturn\u001b[0m \u001b[0mobj\u001b[0m\u001b[1;33m.\u001b[0m\u001b[0mastype\u001b[0m\u001b[1;33m(\u001b[0m\u001b[1;34m\"float64\"\u001b[0m\u001b[1;33m)\u001b[0m\u001b[1;33m\u001b[0m\u001b[1;33m\u001b[0m\u001b[0m\n",
      "\u001b[1;31mDataError\u001b[0m: No numeric types to aggregate"
     ]
    }
   ],
   "source": [
    "\"\"\" This Cel is for crypto tab \"\"\"\n",
    "#plotting a 21 day rolling window of the standard deviation \n",
    "chart_crypto_daily_returns_df= crypto_daily_returns_df.rolling(window=21).std().plot(figsize=(20,10),title = \"Rolling Standard Deviation 21 day Window\")\n",
    "#chart_crypto_daily_returns_df"
   ]
  },
  {
   "cell_type": "code",
   "execution_count": 74,
   "id": "11ab5a53",
   "metadata": {},
   "outputs": [],
   "source": [
    "\"\"\" This Cel is for 5th tab \"\"\"\n",
    "\n",
    "#create_line_chart function\n",
    "def create_line_chart(data, title, xlabel, ylabel, color):    \n",
    "    create_line_chart = data.hvplot(title=title, xlabel=xlabel, ylabel=ylabel, color=color, height=400)\n",
    "    return (create_line_chart)\n",
    "\n",
    "sales_line_chart = create_line_chart(df_combined[\"totalSales\"],\"Number of Property Sold Per City\",\n",
    "                            \"City\", \"Number of Sales\", color= '#148503').opts(yformatter=\"%.0f\")\n",
    "\n",
    "#create_bar_chart function\n",
    "def create_bar_chart(data, title, color):\n",
    "    create_bar_chart = data.hvplot.bar(title=title, color=color, height=400)\n",
    "    return (create_bar_chart)\n",
    "\n",
    "#hex_colors = ['#878587', '#d3abea', '#f2a227', , , ,, , '#db6e6e', '#db6ecb', '#6edb91']\n",
    "plot_numberListedForAuction = create_bar_chart(df_combined.iloc[:,0], \"Number of Property Listed For Auction\", color='#726edb').opts(yformatter=\"%.0f\")\n",
    "plot_numberAuctioned = create_bar_chart(df_combined.iloc[:,3], \"Number of Property Auctioned per city\" , color='#043834').opts(yformatter=\"%.0f\")\n",
    "#plot_numberSold = create_bar_chart(df_combined.iloc[:,4], \"Number of Property Sold\" , color='#640587').opts(yformatter=\"%.0f\")\n",
    "plot_totalSales = create_bar_chart(df_combined.iloc[:,5], \"Total Sales ($AUD)\" , color='#c2c36d').opts(yformatter=\"%.0f\")\n",
    "plot_median = create_bar_chart(df_combined.iloc[:,6], \"Median Market Price ($AUD) \" , color='#f0787e').opts(yformatter=\"%.0f\")\n"
   ]
  },
  {
   "cell_type": "code",
   "execution_count": 75,
   "id": "7eeadf95",
   "metadata": {},
   "outputs": [],
   "source": [
    "# Create the sunburst chart using df_combined\n",
    "sunburst_chart = px.sunburst(\n",
    "    df_combined,\n",
    "    path=['city','totalSales'],\n",
    "    values=\"numberSold\",\n",
    "    color='totalSales',\n",
    "    title=\"Overal Property Market in 5 Cities For Latest Auction \",\n",
    "    height=500\n",
    ")\n",
    "#sunburst_chart.show()"
   ]
  },
  {
   "cell_type": "code",
   "execution_count": 44,
   "id": "7a6234fa",
   "metadata": {},
   "outputs": [],
   "source": [
    "#\"\"\" Panel Dashboard \"\"\""
   ]
  },
  {
   "cell_type": "code",
   "execution_count": 76,
   "id": "dd5529cc",
   "metadata": {},
   "outputs": [],
   "source": [
    "# Create a Title for the Dashboard\n",
    "dasboard_title= \"Investor's Return Analysis Based on 3 Assets Portfolio\"\n",
    "\n",
    "# Define a welcome text\n",
    "dashboard_desc = \"This dashboard provides Interactive Visualizations, and Static Charts to help the investors get an oversight about the performance of their portfolio\"\n",
    "\n",
    "# Creating tabs layout for the dashboard\n",
    "welcome_tab = pn.Column(\n",
    "    \"This dashboard provides Interactive Visualizations, and Static Charts to help the investors get an oversight about the performance of their portfolio\") #, map_plot)\n",
    "\n",
    "Crypto_tab = pn.Column(\n",
    "    \"Your Cryptocurrency Basket\")\n",
    "\n",
    "stock_tab = pn.Column(\n",
    "    \"Your AU and US Stocks Basket\")\n",
    "\n",
    "property_tab = pn.Column(\n",
    "        \"AU Property Market Based on the Latest Auctions \", \n",
    "        sales_line_chart + plot_median, \n",
    "        sunburst_chart,\n",
    "        plot_totalSales + plot_numberAuctioned \n",
    ")            \n"
   ]
  },
  {
   "cell_type": "code",
   "execution_count": 77,
   "id": "8f47459a",
   "metadata": {},
   "outputs": [],
   "source": [
    "# Create the main dashboard\n",
    "dashboard = pn.Tabs(\n",
    "    (\" Welcome! \", welcome_tab),\n",
    "    (\" Crypto Assets \", Crypto_tab ),\n",
    "    (\" AU Stocks \", stock_tab),\n",
    "    (\" US Stocks \", stock_tab),\n",
    "    (\" Recent Property Auctions \", property_tab)    \n",
    ")"
   ]
  },
  {
   "cell_type": "code",
   "execution_count": 78,
   "id": "97308c4f",
   "metadata": {},
   "outputs": [
    {
     "data": {},
     "metadata": {},
     "output_type": "display_data"
    },
    {
     "data": {},
     "metadata": {},
     "output_type": "display_data"
    },
    {
     "data": {
      "application/vnd.holoviews_exec.v0+json": "",
      "text/html": [
       "<div id='11076'>\n",
       "\n",
       "\n",
       "\n",
       "\n",
       "\n",
       "  <div class=\"bk-root\" id=\"b4945e52-9925-4a87-be82-1f19e374b8c6\" data-root-id=\"11076\"></div>\n",
       "</div>\n",
       "<script type=\"application/javascript\">(function(root) {\n",
       "  function embed_document(root) {\n",
       "    var docs_json = {\"9b3804ff-f404-456d-bff1-2a0400aae076\":{\"defs\":[{\"extends\":null,\"module\":null,\"name\":\"ReactiveHTML1\",\"overrides\":[],\"properties\":[]},{\"extends\":null,\"module\":null,\"name\":\"FlexBox1\",\"overrides\":[],\"properties\":[{\"default\":\"flex-start\",\"kind\":null,\"name\":\"align_content\"},{\"default\":\"flex-start\",\"kind\":null,\"name\":\"align_items\"},{\"default\":\"row\",\"kind\":null,\"name\":\"flex_direction\"},{\"default\":\"wrap\",\"kind\":null,\"name\":\"flex_wrap\"},{\"default\":\"flex-start\",\"kind\":null,\"name\":\"justify_content\"}]},{\"extends\":null,\"module\":null,\"name\":\"TemplateActions1\",\"overrides\":[],\"properties\":[{\"default\":0,\"kind\":null,\"name\":\"open_modal\"},{\"default\":0,\"kind\":null,\"name\":\"close_modal\"}]},{\"extends\":null,\"module\":null,\"name\":\"MaterialTemplateActions1\",\"overrides\":[],\"properties\":[{\"default\":0,\"kind\":null,\"name\":\"open_modal\"},{\"default\":0,\"kind\":null,\"name\":\"close_modal\"}]}],\"roots\":{\"references\":[{\"attributes\":{\"tools\":[{\"id\":\"11093\"},{\"id\":\"11111\"},{\"id\":\"11112\"},{\"id\":\"11113\"},{\"id\":\"11114\"},{\"id\":\"11115\"}]},\"id\":\"11117\",\"type\":\"Toolbar\"},{\"attributes\":{},\"id\":\"11422\",\"type\":\"CategoricalTickFormatter\"},{\"attributes\":{\"callback\":null,\"renderers\":[{\"id\":\"11179\"}],\"tags\":[\"hv_created\"],\"tooltips\":[[\"index\",\"@{index}\"],[\"totalSales\",\"@{totalSales}\"]]},\"id\":\"11143\",\"type\":\"HoverTool\"},{\"attributes\":{\"bottom_units\":\"screen\",\"coordinates\":null,\"fill_alpha\":0.5,\"fill_color\":\"lightgrey\",\"group\":null,\"left_units\":\"screen\",\"level\":\"overlay\",\"line_alpha\":1.0,\"line_color\":\"black\",\"line_dash\":[4,4],\"line_width\":2,\"right_units\":\"screen\",\"syncable\":false,\"top_units\":\"screen\"},\"id\":\"11116\",\"type\":\"BoxAnnotation\"},{\"attributes\":{\"children\":[{\"id\":\"11090\"},{\"id\":\"11214\"},{\"id\":\"11378\"},{\"id\":\"11502\"}],\"margin\":[0,0,0,0],\"name\":\"Column08430\"},\"id\":\"11089\",\"type\":\"Column\"},{\"attributes\":{\"format\":\"%.0f\"},\"id\":\"11182\",\"type\":\"PrintfTickFormatter\"},{\"attributes\":{\"factors\":[\"0\",\"1\",\"2\",\"3\",\"4\"],\"tags\":[[[\"index\",\"index\",null]]]},\"id\":\"11142\",\"type\":\"FactorRange\"},{\"attributes\":{\"format\":\"%.0f\"},\"id\":\"11470\",\"type\":\"PrintfTickFormatter\"},{\"attributes\":{},\"id\":\"11188\",\"type\":\"AllLabels\"},{\"attributes\":{},\"id\":\"11476\",\"type\":\"AllLabels\"},{\"attributes\":{\"data\":[{\"branchvalues\":\"total\",\"domain\":{\"x\":[0.0,1.0],\"y\":[0.0,1.0]},\"hovertemplate\":\"labels=%{label}<br>numberSold=%{value}<br>parent=%{parent}<br>id=%{id}<br>totalSales=%{color}<extra></extra>\",\"marker\":{\"coloraxis\":\"coloraxis\"},\"name\":\"\",\"type\":\"sunburst\"}],\"data_sources\":[{\"id\":\"11377\"}],\"layout\":{\"coloraxis\":{\"colorbar\":{\"title\":{\"text\":\"totalSales\"}},\"colorscale\":[[0.0,\"#0d0887\"],[0.1111111111111111,\"#46039f\"],[0.2222222222222222,\"#7201a8\"],[0.3333333333333333,\"#9c179e\"],[0.4444444444444444,\"#bd3786\"],[0.5555555555555556,\"#d8576b\"],[0.6666666666666666,\"#ed7953\"],[0.7777777777777778,\"#fb9f3a\"],[0.8888888888888888,\"#fdca26\"],[1.0,\"#f0f921\"]]},\"height\":500,\"legend\":{\"tracegroupgap\":0},\"template\":{\"data\":{\"bar\":[{\"error_x\":{\"color\":\"#2a3f5f\"},\"error_y\":{\"color\":\"#2a3f5f\"},\"marker\":{\"line\":{\"color\":\"#E5ECF6\",\"width\":0.5},\"pattern\":{\"fillmode\":\"overlay\",\"size\":10,\"solidity\":0.2}},\"type\":\"bar\"}],\"barpolar\":[{\"marker\":{\"line\":{\"color\":\"#E5ECF6\",\"width\":0.5},\"pattern\":{\"fillmode\":\"overlay\",\"size\":10,\"solidity\":0.2}},\"type\":\"barpolar\"}],\"carpet\":[{\"aaxis\":{\"endlinecolor\":\"#2a3f5f\",\"gridcolor\":\"white\",\"linecolor\":\"white\",\"minorgridcolor\":\"white\",\"startlinecolor\":\"#2a3f5f\"},\"baxis\":{\"endlinecolor\":\"#2a3f5f\",\"gridcolor\":\"white\",\"linecolor\":\"white\",\"minorgridcolor\":\"white\",\"startlinecolor\":\"#2a3f5f\"},\"type\":\"carpet\"}],\"choropleth\":[{\"colorbar\":{\"outlinewidth\":0,\"ticks\":\"\"},\"type\":\"choropleth\"}],\"contour\":[{\"colorbar\":{\"outlinewidth\":0,\"ticks\":\"\"},\"colorscale\":[[0.0,\"#0d0887\"],[0.1111111111111111,\"#46039f\"],[0.2222222222222222,\"#7201a8\"],[0.3333333333333333,\"#9c179e\"],[0.4444444444444444,\"#bd3786\"],[0.5555555555555556,\"#d8576b\"],[0.6666666666666666,\"#ed7953\"],[0.7777777777777778,\"#fb9f3a\"],[0.8888888888888888,\"#fdca26\"],[1.0,\"#f0f921\"]],\"type\":\"contour\"}],\"contourcarpet\":[{\"colorbar\":{\"outlinewidth\":0,\"ticks\":\"\"},\"type\":\"contourcarpet\"}],\"heatmap\":[{\"colorbar\":{\"outlinewidth\":0,\"ticks\":\"\"},\"colorscale\":[[0.0,\"#0d0887\"],[0.1111111111111111,\"#46039f\"],[0.2222222222222222,\"#7201a8\"],[0.3333333333333333,\"#9c179e\"],[0.4444444444444444,\"#bd3786\"],[0.5555555555555556,\"#d8576b\"],[0.6666666666666666,\"#ed7953\"],[0.7777777777777778,\"#fb9f3a\"],[0.8888888888888888,\"#fdca26\"],[1.0,\"#f0f921\"]],\"type\":\"heatmap\"}],\"heatmapgl\":[{\"colorbar\":{\"outlinewidth\":0,\"ticks\":\"\"},\"colorscale\":[[0.0,\"#0d0887\"],[0.1111111111111111,\"#46039f\"],[0.2222222222222222,\"#7201a8\"],[0.3333333333333333,\"#9c179e\"],[0.4444444444444444,\"#bd3786\"],[0.5555555555555556,\"#d8576b\"],[0.6666666666666666,\"#ed7953\"],[0.7777777777777778,\"#fb9f3a\"],[0.8888888888888888,\"#fdca26\"],[1.0,\"#f0f921\"]],\"type\":\"heatmapgl\"}],\"histogram\":[{\"marker\":{\"pattern\":{\"fillmode\":\"overlay\",\"size\":10,\"solidity\":0.2}},\"type\":\"histogram\"}],\"histogram2d\":[{\"colorbar\":{\"outlinewidth\":0,\"ticks\":\"\"},\"colorscale\":[[0.0,\"#0d0887\"],[0.1111111111111111,\"#46039f\"],[0.2222222222222222,\"#7201a8\"],[0.3333333333333333,\"#9c179e\"],[0.4444444444444444,\"#bd3786\"],[0.5555555555555556,\"#d8576b\"],[0.6666666666666666,\"#ed7953\"],[0.7777777777777778,\"#fb9f3a\"],[0.8888888888888888,\"#fdca26\"],[1.0,\"#f0f921\"]],\"type\":\"histogram2d\"}],\"histogram2dcontour\":[{\"colorbar\":{\"outlinewidth\":0,\"ticks\":\"\"},\"colorscale\":[[0.0,\"#0d0887\"],[0.1111111111111111,\"#46039f\"],[0.2222222222222222,\"#7201a8\"],[0.3333333333333333,\"#9c179e\"],[0.4444444444444444,\"#bd3786\"],[0.5555555555555556,\"#d8576b\"],[0.6666666666666666,\"#ed7953\"],[0.7777777777777778,\"#fb9f3a\"],[0.8888888888888888,\"#fdca26\"],[1.0,\"#f0f921\"]],\"type\":\"histogram2dcontour\"}],\"mesh3d\":[{\"colorbar\":{\"outlinewidth\":0,\"ticks\":\"\"},\"type\":\"mesh3d\"}],\"parcoords\":[{\"line\":{\"colorbar\":{\"outlinewidth\":0,\"ticks\":\"\"}},\"type\":\"parcoords\"}],\"pie\":[{\"automargin\":true,\"type\":\"pie\"}],\"scatter\":[{\"marker\":{\"colorbar\":{\"outlinewidth\":0,\"ticks\":\"\"}},\"type\":\"scatter\"}],\"scatter3d\":[{\"line\":{\"colorbar\":{\"outlinewidth\":0,\"ticks\":\"\"}},\"marker\":{\"colorbar\":{\"outlinewidth\":0,\"ticks\":\"\"}},\"type\":\"scatter3d\"}],\"scattercarpet\":[{\"marker\":{\"colorbar\":{\"outlinewidth\":0,\"ticks\":\"\"}},\"type\":\"scattercarpet\"}],\"scattergeo\":[{\"marker\":{\"colorbar\":{\"outlinewidth\":0,\"ticks\":\"\"}},\"type\":\"scattergeo\"}],\"scattergl\":[{\"marker\":{\"colorbar\":{\"outlinewidth\":0,\"ticks\":\"\"}},\"type\":\"scattergl\"}],\"scattermapbox\":[{\"marker\":{\"colorbar\":{\"outlinewidth\":0,\"ticks\":\"\"}},\"type\":\"scattermapbox\"}],\"scatterpolar\":[{\"marker\":{\"colorbar\":{\"outlinewidth\":0,\"ticks\":\"\"}},\"type\":\"scatterpolar\"}],\"scatterpolargl\":[{\"marker\":{\"colorbar\":{\"outlinewidth\":0,\"ticks\":\"\"}},\"type\":\"scatterpolargl\"}],\"scatterternary\":[{\"marker\":{\"colorbar\":{\"outlinewidth\":0,\"ticks\":\"\"}},\"type\":\"scatterternary\"}],\"surface\":[{\"colorbar\":{\"outlinewidth\":0,\"ticks\":\"\"},\"colorscale\":[[0.0,\"#0d0887\"],[0.1111111111111111,\"#46039f\"],[0.2222222222222222,\"#7201a8\"],[0.3333333333333333,\"#9c179e\"],[0.4444444444444444,\"#bd3786\"],[0.5555555555555556,\"#d8576b\"],[0.6666666666666666,\"#ed7953\"],[0.7777777777777778,\"#fb9f3a\"],[0.8888888888888888,\"#fdca26\"],[1.0,\"#f0f921\"]],\"type\":\"surface\"}],\"table\":[{\"cells\":{\"fill\":{\"color\":\"#EBF0F8\"},\"line\":{\"color\":\"white\"}},\"header\":{\"fill\":{\"color\":\"#C8D4E3\"},\"line\":{\"color\":\"white\"}},\"type\":\"table\"}]},\"layout\":{\"annotationdefaults\":{\"arrowcolor\":\"#2a3f5f\",\"arrowhead\":0,\"arrowwidth\":1},\"autotypenumbers\":\"strict\",\"coloraxis\":{\"colorbar\":{\"outlinewidth\":0,\"ticks\":\"\"}},\"colorscale\":{\"diverging\":[[0,\"#8e0152\"],[0.1,\"#c51b7d\"],[0.2,\"#de77ae\"],[0.3,\"#f1b6da\"],[0.4,\"#fde0ef\"],[0.5,\"#f7f7f7\"],[0.6,\"#e6f5d0\"],[0.7,\"#b8e186\"],[0.8,\"#7fbc41\"],[0.9,\"#4d9221\"],[1,\"#276419\"]],\"sequential\":[[0.0,\"#0d0887\"],[0.1111111111111111,\"#46039f\"],[0.2222222222222222,\"#7201a8\"],[0.3333333333333333,\"#9c179e\"],[0.4444444444444444,\"#bd3786\"],[0.5555555555555556,\"#d8576b\"],[0.6666666666666666,\"#ed7953\"],[0.7777777777777778,\"#fb9f3a\"],[0.8888888888888888,\"#fdca26\"],[1.0,\"#f0f921\"]],\"sequentialminus\":[[0.0,\"#0d0887\"],[0.1111111111111111,\"#46039f\"],[0.2222222222222222,\"#7201a8\"],[0.3333333333333333,\"#9c179e\"],[0.4444444444444444,\"#bd3786\"],[0.5555555555555556,\"#d8576b\"],[0.6666666666666666,\"#ed7953\"],[0.7777777777777778,\"#fb9f3a\"],[0.8888888888888888,\"#fdca26\"],[1.0,\"#f0f921\"]]},\"colorway\":[\"#636efa\",\"#EF553B\",\"#00cc96\",\"#ab63fa\",\"#FFA15A\",\"#19d3f3\",\"#FF6692\",\"#B6E880\",\"#FF97FF\",\"#FECB52\"],\"font\":{\"color\":\"#2a3f5f\"},\"geo\":{\"bgcolor\":\"white\",\"lakecolor\":\"white\",\"landcolor\":\"#E5ECF6\",\"showlakes\":true,\"showland\":true,\"subunitcolor\":\"white\"},\"hoverlabel\":{\"align\":\"left\"},\"hovermode\":\"closest\",\"mapbox\":{\"style\":\"light\"},\"paper_bgcolor\":\"white\",\"plot_bgcolor\":\"#E5ECF6\",\"polar\":{\"angularaxis\":{\"gridcolor\":\"white\",\"linecolor\":\"white\",\"ticks\":\"\"},\"bgcolor\":\"#E5ECF6\",\"radialaxis\":{\"gridcolor\":\"white\",\"linecolor\":\"white\",\"ticks\":\"\"}},\"scene\":{\"xaxis\":{\"backgroundcolor\":\"#E5ECF6\",\"gridcolor\":\"white\",\"gridwidth\":2,\"linecolor\":\"white\",\"showbackground\":true,\"ticks\":\"\",\"zerolinecolor\":\"white\"},\"yaxis\":{\"backgroundcolor\":\"#E5ECF6\",\"gridcolor\":\"white\",\"gridwidth\":2,\"linecolor\":\"white\",\"showbackground\":true,\"ticks\":\"\",\"zerolinecolor\":\"white\"},\"zaxis\":{\"backgroundcolor\":\"#E5ECF6\",\"gridcolor\":\"white\",\"gridwidth\":2,\"linecolor\":\"white\",\"showbackground\":true,\"ticks\":\"\",\"zerolinecolor\":\"white\"}},\"shapedefaults\":{\"line\":{\"color\":\"#2a3f5f\"}},\"ternary\":{\"aaxis\":{\"gridcolor\":\"white\",\"linecolor\":\"white\",\"ticks\":\"\"},\"baxis\":{\"gridcolor\":\"white\",\"linecolor\":\"white\",\"ticks\":\"\"},\"bgcolor\":\"#E5ECF6\",\"caxis\":{\"gridcolor\":\"white\",\"linecolor\":\"white\",\"ticks\":\"\"}},\"title\":{\"x\":0.05},\"xaxis\":{\"automargin\":true,\"gridcolor\":\"white\",\"linecolor\":\"white\",\"ticks\":\"\",\"title\":{\"standoff\":15},\"zerolinecolor\":\"white\",\"zerolinewidth\":2},\"yaxis\":{\"automargin\":true,\"gridcolor\":\"white\",\"linecolor\":\"white\",\"ticks\":\"\",\"title\":{\"standoff\":15},\"zerolinecolor\":\"white\",\"zerolinewidth\":2}}},\"title\":{\"text\":\"Overal Property Market in 5 Cities For Latest Auction \"}},\"margin\":[5,5,5,5],\"name\":\"Plotly08423\",\"viewport_update_throttle\":200,\"visibility\":false},\"id\":\"11378\",\"type\":\"panel.models.plotly.PlotlyPlot\"},{\"attributes\":{\"child\":{\"id\":\"11083\"},\"name\":\"Column08410\",\"title\":\" AU Stocks \"},\"id\":\"11085\",\"type\":\"Panel\"},{\"attributes\":{\"data\":{\"customdata\":[{\"__ndarray__\":\"AAAAaN1OhEEAAACg5XyGQQAAACD9LIpBAAAA+gcmv0EAAABCh+m/QQAAAGjdToRBAAAAoOV8hkEAAAAg/SyKQQAAAPoHJr9BAAAAQofpv0E=\",\"dtype\":\"float64\",\"order\":\"little\",\"shape\":[10,1]}],\"ids\":[[\"Adelaide/42589101\",\"Brisbane/47160500\",\"Canberra/54894500\",\"Melbourne/522586106\",\"Sydney/535398210\",\"Adelaide\",\"Brisbane\",\"Canberra\",\"Melbourne\",\"Sydney\"]],\"labels\":[[\"42589101\",\"47160500\",\"54894500\",\"522586106\",\"535398210\",\"Adelaide\",\"Brisbane\",\"Canberra\",\"Melbourne\",\"Sydney\"]],\"marker.colors\":[{\"__ndarray__\":\"AAAAaN1OhEEAAACg5XyGQQAAACD9LIpBAAAA+gcmv0EAAABCh+m/QQAAAGjdToRBAAAAoOV8hkEAAAAg/SyKQQAAAPoHJr9BAAAAQofpv0E=\",\"dtype\":\"float64\",\"order\":\"little\",\"shape\":[10]}],\"parents\":[[\"Adelaide\",\"Brisbane\",\"Canberra\",\"Melbourne\",\"Sydney\",\"\",\"\",\"\",\"\",\"\"]],\"values\":[[63,60,60,649,478,63,60,60,649,478]]},\"selected\":{\"id\":\"11667\"},\"selection_policy\":{\"id\":\"11666\"}},\"id\":\"11377\",\"type\":\"ColumnDataSource\"},{\"attributes\":{},\"id\":\"11151\",\"type\":\"LinearScale\"},{\"attributes\":{\"axis_label\":\"\",\"coordinates\":null,\"formatter\":{\"id\":\"11472\"},\"group\":null,\"major_label_policy\":{\"id\":\"11473\"},\"ticker\":{\"id\":\"11442\"}},\"id\":\"11441\",\"type\":\"CategoricalAxis\"},{\"attributes\":{\"source\":{\"id\":\"11173\"}},\"id\":\"11180\",\"type\":\"CDSView\"},{\"attributes\":{},\"id\":\"11174\",\"type\":\"Selection\"},{\"attributes\":{\"coordinates\":null,\"group\":null,\"text\":\"Median Market Price ($AUD)\",\"text_color\":\"black\",\"text_font_size\":\"12pt\"},\"id\":\"11145\",\"type\":\"Title\"},{\"attributes\":{\"axis\":{\"id\":\"11441\"},\"coordinates\":null,\"grid_line_color\":null,\"group\":null,\"ticker\":null},\"id\":\"11443\",\"type\":\"Grid\"},{\"attributes\":{},\"id\":\"11185\",\"type\":\"AllLabels\"},{\"attributes\":{\"toolbar\":{\"id\":\"11500\"},\"toolbar_location\":\"above\"},\"id\":\"11501\",\"type\":\"ToolbarBox\"},{\"attributes\":{\"toolbars\":[{\"id\":\"11117\"},{\"id\":\"11166\"}],\"tools\":[{\"id\":\"11093\"},{\"id\":\"11111\"},{\"id\":\"11112\"},{\"id\":\"11113\"},{\"id\":\"11114\"},{\"id\":\"11115\"},{\"id\":\"11143\"},{\"id\":\"11160\"},{\"id\":\"11161\"},{\"id\":\"11162\"},{\"id\":\"11163\"},{\"id\":\"11164\"}]},\"id\":\"11212\",\"type\":\"ProxyToolbar\"},{\"attributes\":{\"axis\":{\"id\":\"11153\"},\"coordinates\":null,\"grid_line_color\":null,\"group\":null,\"ticker\":null},\"id\":\"11155\",\"type\":\"Grid\"},{\"attributes\":{\"coordinates\":null,\"group\":null,\"text\":\"Number of Property Auctioned per city\",\"text_color\":\"black\",\"text_font_size\":\"12pt\"},\"id\":\"11433\",\"type\":\"Title\"},{\"attributes\":{\"children\":[{\"id\":\"11501\"},{\"id\":\"11499\"}]},\"id\":\"11502\",\"type\":\"Column\"},{\"attributes\":{\"axis_label\":\"\",\"coordinates\":null,\"formatter\":{\"id\":\"11184\"},\"group\":null,\"major_label_policy\":{\"id\":\"11185\"},\"ticker\":{\"id\":\"11154\"}},\"id\":\"11153\",\"type\":\"CategoricalAxis\"},{\"attributes\":{\"axis_label\":\"\",\"coordinates\":null,\"formatter\":{\"id\":\"11182\"},\"group\":null,\"major_label_policy\":{\"id\":\"11188\"},\"ticker\":{\"id\":\"11157\"}},\"id\":\"11156\",\"type\":\"LinearAxis\"},{\"attributes\":{\"source\":{\"id\":\"11461\"}},\"id\":\"11468\",\"type\":\"CDSView\"},{\"attributes\":{\"fill_alpha\":{\"value\":0.1},\"fill_color\":{\"value\":\"#f0787e\"},\"hatch_alpha\":{\"value\":0.1},\"hatch_color\":{\"value\":\"#f0787e\"},\"line_alpha\":{\"value\":0.1},\"top\":{\"field\":\"totalSales\"},\"width\":{\"value\":0.8},\"x\":{\"field\":\"index\"}},\"id\":\"11177\",\"type\":\"VBar\"},{\"attributes\":{},\"id\":\"11154\",\"type\":\"CategoricalTicker\"},{\"attributes\":{},\"id\":\"11445\",\"type\":\"BasicTicker\"},{\"attributes\":{},\"id\":\"11442\",\"type\":\"CategoricalTicker\"},{\"attributes\":{\"below\":[{\"id\":\"11441\"}],\"center\":[{\"id\":\"11443\"},{\"id\":\"11447\"}],\"height\":400,\"left\":[{\"id\":\"11444\"}],\"margin\":null,\"min_border_bottom\":10,\"min_border_left\":10,\"min_border_right\":10,\"min_border_top\":10,\"renderers\":[{\"id\":\"11467\"}],\"sizing_mode\":\"fixed\",\"title\":{\"id\":\"11433\"},\"toolbar\":{\"id\":\"11454\"},\"toolbar_location\":null,\"width\":700,\"x_range\":{\"id\":\"11429\"},\"x_scale\":{\"id\":\"11437\"},\"y_range\":{\"id\":\"11430\"},\"y_scale\":{\"id\":\"11439\"}},\"id\":\"11432\",\"subtype\":\"Figure\",\"type\":\"Plot\"},{\"attributes\":{},\"id\":\"11157\",\"type\":\"BasicTicker\"},{\"attributes\":{},\"id\":\"11666\",\"type\":\"UnionRenderers\"},{\"attributes\":{\"axis_label\":\"\",\"coordinates\":null,\"formatter\":{\"id\":\"11470\"},\"group\":null,\"major_label_policy\":{\"id\":\"11476\"},\"ticker\":{\"id\":\"11445\"}},\"id\":\"11444\",\"type\":\"LinearAxis\"},{\"attributes\":{\"axis\":{\"id\":\"11156\"},\"coordinates\":null,\"dimension\":1,\"grid_line_color\":null,\"group\":null,\"ticker\":null},\"id\":\"11159\",\"type\":\"Grid\"},{\"attributes\":{\"fill_color\":{\"value\":\"#f0787e\"},\"hatch_color\":{\"value\":\"#f0787e\"},\"top\":{\"field\":\"totalSales\"},\"width\":{\"value\":0.8},\"x\":{\"field\":\"index\"}},\"id\":\"11176\",\"type\":\"VBar\"},{\"attributes\":{\"child\":{\"id\":\"11077\"},\"name\":\"Column08404\",\"title\":\" Welcome! \"},\"id\":\"11079\",\"type\":\"Panel\"},{\"attributes\":{\"child\":{\"id\":\"11086\"},\"name\":\"Column08410\",\"title\":\" US Stocks \"},\"id\":\"11088\",\"type\":\"Panel\"},{\"attributes\":{\"axis\":{\"id\":\"11444\"},\"coordinates\":null,\"dimension\":1,\"grid_line_color\":null,\"group\":null,\"ticker\":null},\"id\":\"11447\",\"type\":\"Grid\"},{\"attributes\":{\"fill_alpha\":{\"value\":0.2},\"fill_color\":{\"value\":\"#f0787e\"},\"hatch_alpha\":{\"value\":0.2},\"hatch_color\":{\"value\":\"#f0787e\"},\"line_alpha\":{\"value\":0.2},\"top\":{\"field\":\"totalSales\"},\"width\":{\"value\":0.8},\"x\":{\"field\":\"index\"}},\"id\":\"11178\",\"type\":\"VBar\"},{\"attributes\":{\"css_classes\":[\"markdown\"],\"margin\":[5,5,5,5],\"name\":\"Markdown08408\",\"text\":\"&lt;p&gt;Your AU and US Stocks Basket&lt;/p&gt;\"},\"id\":\"11084\",\"type\":\"panel.models.markup.HTML\"},{\"attributes\":{\"fill_alpha\":{\"value\":0.2},\"fill_color\":{\"value\":\"#043834\"},\"hatch_alpha\":{\"value\":0.2},\"hatch_color\":{\"value\":\"#043834\"},\"line_alpha\":{\"value\":0.2},\"top\":{\"field\":\"numberUnreported\"},\"width\":{\"value\":0.8},\"x\":{\"field\":\"index\"}},\"id\":\"11466\",\"type\":\"VBar\"},{\"attributes\":{},\"id\":\"11667\",\"type\":\"Selection\"},{\"attributes\":{\"below\":[{\"id\":\"11103\"}],\"center\":[{\"id\":\"11106\"},{\"id\":\"11110\"}],\"height\":400,\"left\":[{\"id\":\"11107\"}],\"margin\":null,\"min_border_bottom\":10,\"min_border_left\":10,\"min_border_right\":10,\"min_border_top\":10,\"renderers\":[{\"id\":\"11130\"}],\"sizing_mode\":\"fixed\",\"title\":{\"id\":\"11095\"},\"toolbar\":{\"id\":\"11117\"},\"toolbar_location\":null,\"width\":700,\"x_range\":{\"id\":\"11091\"},\"x_scale\":{\"id\":\"11099\"},\"y_range\":{\"id\":\"11092\"},\"y_scale\":{\"id\":\"11101\"}},\"id\":\"11094\",\"subtype\":\"Figure\",\"type\":\"Plot\"},{\"attributes\":{\"axis_label\":\"City\",\"coordinates\":null,\"formatter\":{\"id\":\"11135\"},\"group\":null,\"major_label_policy\":{\"id\":\"11136\"},\"ticker\":{\"id\":\"11104\"}},\"id\":\"11103\",\"type\":\"LinearAxis\"},{\"attributes\":{\"coordinates\":null,\"data_source\":{\"id\":\"11173\"},\"glyph\":{\"id\":\"11176\"},\"group\":null,\"hover_glyph\":null,\"muted_glyph\":{\"id\":\"11178\"},\"nonselection_glyph\":{\"id\":\"11177\"},\"selection_glyph\":{\"id\":\"11181\"},\"view\":{\"id\":\"11180\"}},\"id\":\"11179\",\"type\":\"GlyphRenderer\"},{\"attributes\":{\"tools\":[{\"id\":\"11143\"},{\"id\":\"11160\"},{\"id\":\"11161\"},{\"id\":\"11162\"},{\"id\":\"11163\"},{\"id\":\"11164\"}]},\"id\":\"11166\",\"type\":\"Toolbar\"},{\"attributes\":{\"coordinates\":null,\"data_source\":{\"id\":\"11461\"},\"glyph\":{\"id\":\"11464\"},\"group\":null,\"hover_glyph\":null,\"muted_glyph\":{\"id\":\"11466\"},\"nonselection_glyph\":{\"id\":\"11465\"},\"selection_glyph\":{\"id\":\"11469\"},\"view\":{\"id\":\"11468\"}},\"id\":\"11467\",\"type\":\"GlyphRenderer\"},{\"attributes\":{},\"id\":\"11197\",\"type\":\"UnionRenderers\"},{\"attributes\":{\"bottom_units\":\"screen\",\"coordinates\":null,\"fill_alpha\":0.5,\"fill_color\":\"lightgrey\",\"group\":null,\"left_units\":\"screen\",\"level\":\"overlay\",\"line_alpha\":1.0,\"line_color\":\"black\",\"line_dash\":[4,4],\"line_width\":2,\"right_units\":\"screen\",\"syncable\":false,\"top_units\":\"screen\"},\"id\":\"11165\",\"type\":\"BoxAnnotation\"},{\"attributes\":{\"data\":{\"index\":[\"0\",\"1\",\"2\",\"3\",\"4\"],\"numberSold\":[478,649,60,60,63]},\"selected\":{\"id\":\"11412\"},\"selection_policy\":{\"id\":\"11485\"}},\"id\":\"11411\",\"type\":\"ColumnDataSource\"},{\"attributes\":{},\"id\":\"11160\",\"type\":\"SaveTool\"},{\"attributes\":{\"bottom_units\":\"screen\",\"coordinates\":null,\"fill_alpha\":0.5,\"fill_color\":\"lightgrey\",\"group\":null,\"left_units\":\"screen\",\"level\":\"overlay\",\"line_alpha\":1.0,\"line_color\":\"black\",\"line_dash\":[4,4],\"line_width\":2,\"right_units\":\"screen\",\"syncable\":false,\"top_units\":\"screen\"},\"id\":\"11453\",\"type\":\"BoxAnnotation\"},{\"attributes\":{},\"id\":\"11161\",\"type\":\"PanTool\"},{\"attributes\":{},\"id\":\"11448\",\"type\":\"SaveTool\"},{\"attributes\":{},\"id\":\"11164\",\"type\":\"ResetTool\"},{\"attributes\":{},\"id\":\"11449\",\"type\":\"PanTool\"},{\"attributes\":{},\"id\":\"11412\",\"type\":\"Selection\"},{\"attributes\":{},\"id\":\"11162\",\"type\":\"WheelZoomTool\"},{\"attributes\":{},\"id\":\"11452\",\"type\":\"ResetTool\"},{\"attributes\":{},\"id\":\"11450\",\"type\":\"WheelZoomTool\"},{\"attributes\":{\"css_classes\":[\"markdown\"],\"margin\":[5,5,5,5],\"name\":\"Markdown08416\",\"text\":\"&lt;p&gt;AU Property Market Based on the Latest Auctions &lt;/p&gt;\"},\"id\":\"11090\",\"type\":\"panel.models.markup.HTML\"},{\"attributes\":{\"overlay\":{\"id\":\"11165\"}},\"id\":\"11163\",\"type\":\"BoxZoomTool\"},{\"attributes\":{},\"id\":\"11485\",\"type\":\"UnionRenderers\"},{\"attributes\":{\"overlay\":{\"id\":\"11453\"}},\"id\":\"11451\",\"type\":\"BoxZoomTool\"},{\"attributes\":{\"bottom\":{\"value\":0},\"fill_alpha\":{\"value\":1.0},\"fill_color\":{\"value\":\"#f0787e\"},\"hatch_alpha\":{\"value\":1.0},\"hatch_color\":{\"value\":\"#f0787e\"},\"hatch_scale\":{\"value\":12.0},\"hatch_weight\":{\"value\":1.0},\"line_alpha\":{\"value\":1.0},\"line_cap\":{\"value\":\"butt\"},\"line_color\":{\"value\":\"black\"},\"line_dash\":{\"value\":[]},\"line_dash_offset\":{\"value\":0},\"line_join\":{\"value\":\"bevel\"},\"line_width\":{\"value\":1},\"top\":{\"field\":\"totalSales\"},\"width\":{\"value\":0.8},\"x\":{\"field\":\"index\"}},\"id\":\"11181\",\"type\":\"VBar\"},{\"attributes\":{\"factors\":[\"0\",\"1\",\"2\",\"3\",\"4\"],\"tags\":[[[\"index\",\"index\",null]]]},\"id\":\"11429\",\"type\":\"FactorRange\"},{\"attributes\":{\"bottom\":{\"value\":0},\"fill_alpha\":{\"value\":1.0},\"fill_color\":{\"value\":\"#043834\"},\"hatch_alpha\":{\"value\":1.0},\"hatch_color\":{\"value\":\"#043834\"},\"hatch_scale\":{\"value\":12.0},\"hatch_weight\":{\"value\":1.0},\"line_alpha\":{\"value\":1.0},\"line_cap\":{\"value\":\"butt\"},\"line_color\":{\"value\":\"black\"},\"line_dash\":{\"value\":[]},\"line_dash_offset\":{\"value\":0},\"line_join\":{\"value\":\"bevel\"},\"line_width\":{\"value\":1},\"top\":{\"field\":\"numberUnreported\"},\"width\":{\"value\":0.8},\"x\":{\"field\":\"index\"}},\"id\":\"11469\",\"type\":\"VBar\"},{\"attributes\":{\"callback\":null,\"renderers\":[{\"id\":\"11417\"}],\"tags\":[\"hv_created\"],\"tooltips\":[[\"index\",\"@{index}\"],[\"numberSold\",\"@{numberSold}\"]]},\"id\":\"11381\",\"type\":\"HoverTool\"},{\"attributes\":{\"toolbars\":[{\"id\":\"11404\"},{\"id\":\"11454\"}],\"tools\":[{\"id\":\"11381\"},{\"id\":\"11398\"},{\"id\":\"11399\"},{\"id\":\"11400\"},{\"id\":\"11401\"},{\"id\":\"11402\"},{\"id\":\"11431\"},{\"id\":\"11448\"},{\"id\":\"11449\"},{\"id\":\"11450\"},{\"id\":\"11451\"},{\"id\":\"11452\"}]},\"id\":\"11500\",\"type\":\"ProxyToolbar\"},{\"attributes\":{\"line_color\":\"#148503\",\"line_width\":2,\"x\":{\"field\":\"index\"},\"y\":{\"field\":\"totalSales\"}},\"id\":\"11127\",\"type\":\"Line\"},{\"attributes\":{\"client_comm_id\":\"db2bab5c6bdd4a44bd934123e2018328\",\"comm_id\":\"e422e5ca6c384f64bdc33bd18a17029a\",\"plot_id\":\"11076\"},\"id\":\"11971\",\"type\":\"panel.models.comm_manager.CommManager\"},{\"attributes\":{\"child\":{\"id\":\"11089\"},\"name\":\"Column08430\",\"title\":\" Recent Property Auctions \"},\"id\":\"11665\",\"type\":\"Panel\"},{\"attributes\":{\"toolbar\":{\"id\":\"11212\"},\"toolbar_location\":\"above\"},\"id\":\"11213\",\"type\":\"ToolbarBox\"},{\"attributes\":{\"data\":{\"index\":[\"0\",\"1\",\"2\",\"3\",\"4\"],\"numberUnreported\":[8,10,2,1,3]},\"selected\":{\"id\":\"11462\"},\"selection_policy\":{\"id\":\"11495\"}},\"id\":\"11461\",\"type\":\"ColumnDataSource\"},{\"attributes\":{\"tools\":[{\"id\":\"11431\"},{\"id\":\"11448\"},{\"id\":\"11449\"},{\"id\":\"11450\"},{\"id\":\"11451\"},{\"id\":\"11452\"}]},\"id\":\"11454\",\"type\":\"Toolbar\"},{\"attributes\":{\"children\":[{\"id\":\"11213\"},{\"id\":\"11211\"}]},\"id\":\"11214\",\"type\":\"Column\"},{\"attributes\":{},\"id\":\"11149\",\"type\":\"CategoricalScale\"},{\"attributes\":{\"below\":[{\"id\":\"11391\"}],\"center\":[{\"id\":\"11393\"},{\"id\":\"11397\"}],\"height\":400,\"left\":[{\"id\":\"11394\"}],\"margin\":null,\"min_border_bottom\":10,\"min_border_left\":10,\"min_border_right\":10,\"min_border_top\":10,\"renderers\":[{\"id\":\"11417\"}],\"sizing_mode\":\"fixed\",\"title\":{\"id\":\"11383\"},\"toolbar\":{\"id\":\"11404\"},\"toolbar_location\":null,\"width\":700,\"x_range\":{\"id\":\"11379\"},\"x_scale\":{\"id\":\"11387\"},\"y_range\":{\"id\":\"11380\"},\"y_scale\":{\"id\":\"11389\"}},\"id\":\"11382\",\"subtype\":\"Figure\",\"type\":\"Plot\"},{\"attributes\":{},\"id\":\"11184\",\"type\":\"CategoricalTickFormatter\"},{\"attributes\":{},\"id\":\"11426\",\"type\":\"AllLabels\"},{\"attributes\":{\"tools\":[{\"id\":\"11381\"},{\"id\":\"11398\"},{\"id\":\"11399\"},{\"id\":\"11400\"},{\"id\":\"11401\"},{\"id\":\"11402\"}]},\"id\":\"11404\",\"type\":\"Toolbar\"},{\"attributes\":{\"format\":\"%.0f\"},\"id\":\"11420\",\"type\":\"PrintfTickFormatter\"},{\"attributes\":{\"children\":[[{\"id\":\"11382\"},0,0],[{\"id\":\"11432\"},0,1]]},\"id\":\"11499\",\"type\":\"GridBox\"},{\"attributes\":{\"fill_alpha\":{\"value\":0.2},\"fill_color\":{\"value\":\"#c2c36d\"},\"hatch_alpha\":{\"value\":0.2},\"hatch_color\":{\"value\":\"#c2c36d\"},\"line_alpha\":{\"value\":0.2},\"top\":{\"field\":\"numberSold\"},\"width\":{\"value\":0.8},\"x\":{\"field\":\"index\"}},\"id\":\"11416\",\"type\":\"VBar\"},{\"attributes\":{\"css_classes\":[\"markdown\"],\"margin\":[5,5,5,5],\"name\":\"Markdown08402\",\"text\":\"&lt;p&gt;This dashboard provides Interactive Visualizations, and Static Charts to help the investors get an oversight about the performance of their portfolio&lt;/p&gt;\"},\"id\":\"11078\",\"type\":\"panel.models.markup.HTML\"},{\"attributes\":{\"callback\":null,\"renderers\":[{\"id\":\"11467\"}],\"tags\":[\"hv_created\"],\"tooltips\":[[\"index\",\"@{index}\"],[\"numberUnreported\",\"@{numberUnreported}\"]]},\"id\":\"11431\",\"type\":\"HoverTool\"},{\"attributes\":{},\"id\":\"11423\",\"type\":\"AllLabels\"},{\"attributes\":{},\"id\":\"11462\",\"type\":\"Selection\"},{\"attributes\":{\"children\":[{\"id\":\"11081\"}],\"margin\":[0,0,0,0],\"name\":\"Column08407\"},\"id\":\"11080\",\"type\":\"Column\"},{\"attributes\":{\"overlay\":{\"id\":\"11403\"}},\"id\":\"11401\",\"type\":\"BoxZoomTool\"},{\"attributes\":{\"factors\":[\"0\",\"1\",\"2\",\"3\",\"4\"],\"tags\":[[[\"index\",\"index\",null]]]},\"id\":\"11379\",\"type\":\"FactorRange\"},{\"attributes\":{},\"id\":\"11135\",\"type\":\"BasicTickFormatter\"},{\"attributes\":{\"end\":707.9,\"reset_end\":707.9,\"reset_start\":0.0,\"tags\":[[[\"numberSold\",\"numberSold\",null]]]},\"id\":\"11380\",\"type\":\"Range1d\"},{\"attributes\":{\"js_property_callbacks\":{\"change:active\":[{\"id\":\"11894\"}]},\"margin\":[0,0,0,0],\"tabs\":[{\"id\":\"11079\"},{\"id\":\"11082\"},{\"id\":\"11085\"},{\"id\":\"11088\"},{\"id\":\"11665\"}]},\"id\":\"11076\",\"type\":\"Tabs\"},{\"attributes\":{},\"id\":\"11400\",\"type\":\"WheelZoomTool\"},{\"attributes\":{},\"id\":\"11402\",\"type\":\"ResetTool\"},{\"attributes\":{},\"id\":\"11399\",\"type\":\"PanTool\"},{\"attributes\":{},\"id\":\"11439\",\"type\":\"LinearScale\"},{\"attributes\":{\"coordinates\":null,\"data_source\":{\"id\":\"11124\"},\"glyph\":{\"id\":\"11127\"},\"group\":null,\"hover_glyph\":null,\"muted_glyph\":{\"id\":\"11129\"},\"nonselection_glyph\":{\"id\":\"11128\"},\"selection_glyph\":{\"id\":\"11132\"},\"view\":{\"id\":\"11131\"}},\"id\":\"11130\",\"type\":\"GlyphRenderer\"},{\"attributes\":{},\"id\":\"11398\",\"type\":\"SaveTool\"},{\"attributes\":{\"end\":10.9,\"reset_end\":10.9,\"reset_start\":0.0,\"tags\":[[[\"numberUnreported\",\"numberUnreported\",null]]]},\"id\":\"11430\",\"type\":\"Range1d\"},{\"attributes\":{\"bottom_units\":\"screen\",\"coordinates\":null,\"fill_alpha\":0.5,\"fill_color\":\"lightgrey\",\"group\":null,\"left_units\":\"screen\",\"level\":\"overlay\",\"line_alpha\":1.0,\"line_color\":\"black\",\"line_dash\":[4,4],\"line_width\":2,\"right_units\":\"screen\",\"syncable\":false,\"top_units\":\"screen\"},\"id\":\"11403\",\"type\":\"BoxAnnotation\"},{\"attributes\":{},\"id\":\"11437\",\"type\":\"CategoricalScale\"},{\"attributes\":{\"source\":{\"id\":\"11124\"}},\"id\":\"11131\",\"type\":\"CDSView\"},{\"attributes\":{\"fill_color\":{\"value\":\"#c2c36d\"},\"hatch_color\":{\"value\":\"#c2c36d\"},\"top\":{\"field\":\"numberSold\"},\"width\":{\"value\":0.8},\"x\":{\"field\":\"index\"}},\"id\":\"11414\",\"type\":\"VBar\"},{\"attributes\":{\"end\":584679120.9,\"reset_end\":584679120.9,\"reset_start\":-6691809.900000006,\"start\":-6691809.900000006,\"tags\":[[[\"totalSales\",\"totalSales\",null]]]},\"id\":\"11092\",\"type\":\"Range1d\"},{\"attributes\":{\"children\":[{\"id\":\"11078\"}],\"margin\":[0,0,0,0],\"name\":\"Column08404\"},\"id\":\"11077\",\"type\":\"Column\"},{\"attributes\":{\"source\":{\"id\":\"11411\"}},\"id\":\"11418\",\"type\":\"CDSView\"},{\"attributes\":{\"css_classes\":[\"markdown\"],\"margin\":[5,5,5,5],\"name\":\"Markdown08408\",\"text\":\"&lt;p&gt;Your AU and US Stocks Basket&lt;/p&gt;\"},\"id\":\"11087\",\"type\":\"panel.models.markup.HTML\"},{\"attributes\":{\"coordinates\":null,\"group\":null,\"text\":\"Number of Property Sold Per City\",\"text_color\":\"black\",\"text_font_size\":\"12pt\"},\"id\":\"11095\",\"type\":\"Title\"},{\"attributes\":{\"coordinates\":null,\"data_source\":{\"id\":\"11411\"},\"glyph\":{\"id\":\"11414\"},\"group\":null,\"hover_glyph\":null,\"muted_glyph\":{\"id\":\"11416\"},\"nonselection_glyph\":{\"id\":\"11415\"},\"selection_glyph\":{\"id\":\"11419\"},\"view\":{\"id\":\"11418\"}},\"id\":\"11417\",\"type\":\"GlyphRenderer\"},{\"attributes\":{},\"id\":\"11473\",\"type\":\"AllLabels\"},{\"attributes\":{\"line_alpha\":0.2,\"line_color\":\"#148503\",\"line_width\":2,\"x\":{\"field\":\"index\"},\"y\":{\"field\":\"totalSales\"}},\"id\":\"11129\",\"type\":\"Line\"},{\"attributes\":{\"args\":{\"model\":{\"id\":\"11378\"}},\"code\":\"try { model.visibility = (cb_obj.active == 4); } catch { }\",\"tags\":[\"plotly_tab_fix11378\"]},\"id\":\"11894\",\"type\":\"CustomJS\"},{\"attributes\":{\"axis\":{\"id\":\"11394\"},\"coordinates\":null,\"dimension\":1,\"grid_line_color\":null,\"group\":null,\"ticker\":null},\"id\":\"11397\",\"type\":\"Grid\"},{\"attributes\":{},\"id\":\"11099\",\"type\":\"LinearScale\"},{\"attributes\":{\"axis_label\":\"\",\"coordinates\":null,\"formatter\":{\"id\":\"11420\"},\"group\":null,\"major_label_policy\":{\"id\":\"11426\"},\"ticker\":{\"id\":\"11395\"}},\"id\":\"11394\",\"type\":\"LinearAxis\"},{\"attributes\":{\"axis\":{\"id\":\"11103\"},\"coordinates\":null,\"grid_line_color\":null,\"group\":null,\"ticker\":null},\"id\":\"11106\",\"type\":\"Grid\"},{\"attributes\":{\"fill_color\":{\"value\":\"#043834\"},\"hatch_color\":{\"value\":\"#043834\"},\"top\":{\"field\":\"numberUnreported\"},\"width\":{\"value\":0.8},\"x\":{\"field\":\"index\"}},\"id\":\"11464\",\"type\":\"VBar\"},{\"attributes\":{},\"id\":\"11108\",\"type\":\"BasicTicker\"},{\"attributes\":{},\"id\":\"11392\",\"type\":\"CategoricalTicker\"},{\"attributes\":{},\"id\":\"11125\",\"type\":\"Selection\"},{\"attributes\":{},\"id\":\"11207\",\"type\":\"UnionRenderers\"},{\"attributes\":{\"axis_label\":\"Number of Sales\",\"coordinates\":null,\"formatter\":{\"id\":\"11133\"},\"group\":null,\"major_label_policy\":{\"id\":\"11139\"},\"ticker\":{\"id\":\"11108\"}},\"id\":\"11107\",\"type\":\"LinearAxis\"},{\"attributes\":{},\"id\":\"11395\",\"type\":\"BasicTicker\"},{\"attributes\":{},\"id\":\"11389\",\"type\":\"LinearScale\"},{\"attributes\":{\"data\":{\"index\":[\"0\",\"1\",\"2\",\"3\",\"4\"],\"totalSales\":[535398210,522586106,47160500,54894500,42589101]},\"selected\":{\"id\":\"11174\"},\"selection_policy\":{\"id\":\"11207\"}},\"id\":\"11173\",\"type\":\"ColumnDataSource\"},{\"attributes\":{\"child\":{\"id\":\"11080\"},\"name\":\"Column08407\",\"title\":\" Crypto Assets \"},\"id\":\"11082\",\"type\":\"Panel\"},{\"attributes\":{},\"id\":\"11101\",\"type\":\"LinearScale\"},{\"attributes\":{\"end\":4.0,\"reset_end\":4.0,\"reset_start\":0.0,\"tags\":[[[\"index\",\"index\",null]]]},\"id\":\"11091\",\"type\":\"Range1d\"},{\"attributes\":{},\"id\":\"11472\",\"type\":\"CategoricalTickFormatter\"},{\"attributes\":{\"callback\":null,\"renderers\":[{\"id\":\"11130\"}],\"tags\":[\"hv_created\"],\"tooltips\":[[\"index\",\"@{index}\"],[\"totalSales\",\"@{totalSales}\"]]},\"id\":\"11093\",\"type\":\"HoverTool\"},{\"attributes\":{},\"id\":\"11104\",\"type\":\"BasicTicker\"},{\"attributes\":{\"children\":[{\"id\":\"11087\"}],\"margin\":[0,0,0,0],\"name\":\"Column08410\"},\"id\":\"11086\",\"type\":\"Column\"},{\"attributes\":{\"axis_label\":\"\",\"coordinates\":null,\"formatter\":{\"id\":\"11422\"},\"group\":null,\"major_label_policy\":{\"id\":\"11423\"},\"ticker\":{\"id\":\"11392\"}},\"id\":\"11391\",\"type\":\"CategoricalAxis\"},{\"attributes\":{\"children\":[{\"id\":\"11084\"}],\"margin\":[0,0,0,0],\"name\":\"Column08410\"},\"id\":\"11083\",\"type\":\"Column\"},{\"attributes\":{\"axis\":{\"id\":\"11391\"},\"coordinates\":null,\"grid_line_color\":null,\"group\":null,\"ticker\":null},\"id\":\"11393\",\"type\":\"Grid\"},{\"attributes\":{},\"id\":\"11139\",\"type\":\"AllLabels\"},{\"attributes\":{\"axis\":{\"id\":\"11107\"},\"coordinates\":null,\"dimension\":1,\"grid_line_color\":null,\"group\":null,\"ticker\":null},\"id\":\"11110\",\"type\":\"Grid\"},{\"attributes\":{},\"id\":\"11387\",\"type\":\"CategoricalScale\"},{\"attributes\":{\"below\":[{\"id\":\"11153\"}],\"center\":[{\"id\":\"11155\"},{\"id\":\"11159\"}],\"height\":400,\"left\":[{\"id\":\"11156\"}],\"margin\":null,\"min_border_bottom\":10,\"min_border_left\":10,\"min_border_right\":10,\"min_border_top\":10,\"renderers\":[{\"id\":\"11179\"}],\"sizing_mode\":\"fixed\",\"title\":{\"id\":\"11145\"},\"toolbar\":{\"id\":\"11166\"},\"toolbar_location\":null,\"width\":700,\"x_range\":{\"id\":\"11142\"},\"x_scale\":{\"id\":\"11149\"},\"y_range\":{\"id\":\"11092\"},\"y_scale\":{\"id\":\"11151\"}},\"id\":\"11144\",\"subtype\":\"Figure\",\"type\":\"Plot\"},{\"attributes\":{\"line_color\":\"#148503\",\"line_width\":2,\"x\":{\"field\":\"index\"},\"y\":{\"field\":\"totalSales\"}},\"id\":\"11132\",\"type\":\"Line\"},{\"attributes\":{\"reload\":false},\"id\":\"12086\",\"type\":\"panel.models.location.Location\"},{\"attributes\":{\"data\":{\"index\":[0,1,2,3,4],\"totalSales\":[535398210,522586106,47160500,54894500,42589101]},\"selected\":{\"id\":\"11125\"},\"selection_policy\":{\"id\":\"11197\"}},\"id\":\"11124\",\"type\":\"ColumnDataSource\"},{\"attributes\":{\"line_alpha\":0.1,\"line_color\":\"#148503\",\"line_width\":2,\"x\":{\"field\":\"index\"},\"y\":{\"field\":\"totalSales\"}},\"id\":\"11128\",\"type\":\"Line\"},{\"attributes\":{\"fill_alpha\":{\"value\":0.1},\"fill_color\":{\"value\":\"#c2c36d\"},\"hatch_alpha\":{\"value\":0.1},\"hatch_color\":{\"value\":\"#c2c36d\"},\"line_alpha\":{\"value\":0.1},\"top\":{\"field\":\"numberSold\"},\"width\":{\"value\":0.8},\"x\":{\"field\":\"index\"}},\"id\":\"11415\",\"type\":\"VBar\"},{\"attributes\":{\"coordinates\":null,\"group\":null,\"text\":\"Total Sales ($AUD)\",\"text_color\":\"black\",\"text_font_size\":\"12pt\"},\"id\":\"11383\",\"type\":\"Title\"},{\"attributes\":{},\"id\":\"11136\",\"type\":\"AllLabels\"},{\"attributes\":{\"children\":[[{\"id\":\"11094\"},0,0],[{\"id\":\"11144\"},0,1]]},\"id\":\"11211\",\"type\":\"GridBox\"},{\"attributes\":{},\"id\":\"11111\",\"type\":\"SaveTool\"},{\"attributes\":{},\"id\":\"11112\",\"type\":\"PanTool\"},{\"attributes\":{},\"id\":\"11115\",\"type\":\"ResetTool\"},{\"attributes\":{\"bottom\":{\"value\":0},\"fill_alpha\":{\"value\":1.0},\"fill_color\":{\"value\":\"#c2c36d\"},\"hatch_alpha\":{\"value\":1.0},\"hatch_color\":{\"value\":\"#c2c36d\"},\"hatch_scale\":{\"value\":12.0},\"hatch_weight\":{\"value\":1.0},\"line_alpha\":{\"value\":1.0},\"line_cap\":{\"value\":\"butt\"},\"line_color\":{\"value\":\"black\"},\"line_dash\":{\"value\":[]},\"line_dash_offset\":{\"value\":0},\"line_join\":{\"value\":\"bevel\"},\"line_width\":{\"value\":1},\"top\":{\"field\":\"numberSold\"},\"width\":{\"value\":0.8},\"x\":{\"field\":\"index\"}},\"id\":\"11419\",\"type\":\"VBar\"},{\"attributes\":{\"fill_alpha\":{\"value\":0.1},\"fill_color\":{\"value\":\"#043834\"},\"hatch_alpha\":{\"value\":0.1},\"hatch_color\":{\"value\":\"#043834\"},\"line_alpha\":{\"value\":0.1},\"top\":{\"field\":\"numberUnreported\"},\"width\":{\"value\":0.8},\"x\":{\"field\":\"index\"}},\"id\":\"11465\",\"type\":\"VBar\"},{\"attributes\":{},\"id\":\"11113\",\"type\":\"WheelZoomTool\"},{\"attributes\":{\"overlay\":{\"id\":\"11116\"}},\"id\":\"11114\",\"type\":\"BoxZoomTool\"},{\"attributes\":{},\"id\":\"11495\",\"type\":\"UnionRenderers\"},{\"attributes\":{\"css_classes\":[\"markdown\"],\"margin\":[5,5,5,5],\"name\":\"Markdown08405\",\"text\":\"&lt;p&gt;Your Cryptocurrency Basket&lt;/p&gt;\"},\"id\":\"11081\",\"type\":\"panel.models.markup.HTML\"},{\"attributes\":{\"format\":\"%.0f\"},\"id\":\"11133\",\"type\":\"PrintfTickFormatter\"}],\"root_ids\":[\"11076\",\"11971\",\"12086\"]},\"title\":\"Bokeh Application\",\"version\":\"2.4.2\"}};\n",
       "    var render_items = [{\"docid\":\"9b3804ff-f404-456d-bff1-2a0400aae076\",\"root_ids\":[\"11076\"],\"roots\":{\"11076\":\"b4945e52-9925-4a87-be82-1f19e374b8c6\"}}];\n",
       "    root.Bokeh.embed.embed_items_notebook(docs_json, render_items);\n",
       "  }\n",
       "  if (root.Bokeh !== undefined && root.Bokeh.Panel !== undefined) {\n",
       "    embed_document(root);\n",
       "  } else {\n",
       "    var attempts = 0;\n",
       "    var timer = setInterval(function(root) {\n",
       "      if (root.Bokeh !== undefined && root.Bokeh.Panel !== undefined) {\n",
       "        clearInterval(timer);\n",
       "        embed_document(root);\n",
       "      } else if (document.readyState == \"complete\") {\n",
       "        attempts++;\n",
       "        if (attempts > 200) {\n",
       "          clearInterval(timer);\n",
       "          console.log(\"Bokeh: ERROR: Unable to run BokehJS code because BokehJS library is missing\");\n",
       "        }\n",
       "      }\n",
       "    }, 25, root)\n",
       "  }\n",
       "})(window);</script>"
      ],
      "text/plain": [
       "Tabs\n",
       "    [0] Column\n",
       "        [0] Markdown(str)\n",
       "    [1] Column\n",
       "        [0] Markdown(str)\n",
       "    [2] Column\n",
       "        [0] Markdown(str)\n",
       "    [3] Column\n",
       "        [0] Markdown(str)\n",
       "    [4] Column\n",
       "        [0] Markdown(str)\n",
       "        [1] HoloViews(Layout)\n",
       "        [2] Plotly(Figure)\n",
       "        [3] HoloViews(Layout)"
      ]
     },
     "execution_count": 78,
     "metadata": {
      "application/vnd.holoviews_exec.v0+json": {
       "id": "11076"
      }
     },
     "output_type": "execute_result"
    }
   ],
   "source": [
    "#Serve the Panel Dashboard\n",
    "dashboard.servable()"
   ]
  },
  {
   "cell_type": "code",
   "execution_count": null,
   "id": "10967db0",
   "metadata": {},
   "outputs": [],
   "source": []
  }
 ],
 "metadata": {
  "kernelspec": {
   "display_name": "Python [conda env:pyvizenv]",
   "language": "python",
   "name": "conda-env-pyvizenv-py"
  },
  "language_info": {
   "codemirror_mode": {
    "name": "ipython",
    "version": 3
   },
   "file_extension": ".py",
   "mimetype": "text/x-python",
   "name": "python",
   "nbconvert_exporter": "python",
   "pygments_lexer": "ipython3",
   "version": "3.7.11"
  }
 },
 "nbformat": 4,
 "nbformat_minor": 5
}
