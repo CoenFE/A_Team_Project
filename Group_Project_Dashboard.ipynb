{
 "cells": [
  {
   "cell_type": "code",
   "execution_count": 1,
   "id": "19de41d8",
   "metadata": {},
   "outputs": [],
   "source": [
    "\"\"\" Group-A Dashboard \"\"\""
   ]
  },
  {
   "cell_type": "code",
   "execution_count": 12,
   "id": "d6d3a01b",
   "metadata": {},
   "outputs": [],
   "source": [
    "# imports\n",
    "import os\n",
    "import requests\n",
    "import json\n",
    "import numpy as np\n",
    "import pandas as pd\n",
    "import hvplot.pandas\n",
    "import matplotlib.pyplot as plt\n",
    "import panel as pn\n",
    "import plotly.express as px\n",
    "from pathlib import Path\n",
    "from dotenv import load_dotenv\n",
    "import random"
   ]
  },
  {
   "cell_type": "code",
   "execution_count": 13,
   "id": "509a063d",
   "metadata": {},
   "outputs": [],
   "source": [
    "\"\"\" IMPORT DATA \"\"\"\n",
    "\n",
    "# reading Property data from CSV file\n",
    "file_path = Path(\"cities_combined.csv\")\n",
    "df_combined = pd.DataFrame(pd.read_csv(file_path))\n",
    "df_combined.set_index('city',inplace=True)\n",
    "#df_combined.head(10)\n"
   ]
  },
  {
   "cell_type": "code",
   "execution_count": 4,
   "id": "cb889f81",
   "metadata": {},
   "outputs": [
    {
     "data": {
      "text/plain": [
       "' Global Available Data '"
      ]
     },
     "execution_count": 4,
     "metadata": {},
     "output_type": "execute_result"
    }
   ],
   "source": [
    "\"\"\" Global Available Data \"\"\""
   ]
  },
  {
   "cell_type": "code",
   "execution_count": null,
   "id": "9b768bf2",
   "metadata": {},
   "outputs": [],
   "source": []
  },
  {
   "cell_type": "code",
   "execution_count": null,
   "id": "a3689170",
   "metadata": {},
   "outputs": [],
   "source": []
  },
  {
   "cell_type": "code",
   "execution_count": 5,
   "id": "c03c4ccc",
   "metadata": {},
   "outputs": [
    {
     "data": {
      "text/plain": [
       "' Panel Visualization Functions '"
      ]
     },
     "execution_count": 5,
     "metadata": {},
     "output_type": "execute_result"
    }
   ],
   "source": [
    "\"\"\" Panel Visualization Functions \"\"\""
   ]
  },
  {
   "cell_type": "code",
   "execution_count": 65,
   "id": "a370e212",
   "metadata": {},
   "outputs": [],
   "source": [
    "\"\"\" This Cel is for 5th tab \"\"\"\n",
    "\n",
    "#create_line_chart function\n",
    "def create_line_chart(data, title, xlabel, ylabel, color):    \n",
    "    create_line_chart = data.hvplot(title=title, xlabel=xlabel, ylabel=ylabel, color=color, height=400)\n",
    "    return (create_line_chart)\n",
    "\n",
    "sales_line_chart = create_line_chart(df_combined[\"totalSales\"],\"Number of Property Sold Per City\",\n",
    "                            \"City\", \"Number of Sales\", \"orange\").opts(yformatter=\"%.0f\")\n",
    "\n",
    "\n",
    "#sales_line_chart"
   ]
  },
  {
   "cell_type": "code",
   "execution_count": 53,
   "id": "d5ff5cec",
   "metadata": {},
   "outputs": [],
   "source": [
    "\"\"\" This Cel is for 5th tab \"\"\"\n",
    "\n",
    "#create_bar_chart function\n",
    "def create_bar_chart(data, title, color):\n",
    "    create_bar_chart = data.hvplot.bar(title=title, color=color, height=400)\n",
    "    return (create_bar_chart)\n",
    "\n",
    "\n",
    "#hex_colors = ['#878587', '#d3abea', '#f2a227', '#f0db08', '#148503', '#0a6940','#043834', '#726edb', '#db6e6e', '#db6ecb', '#6edb91']\n",
    "plot_numberListedForAuction = create_bar_chart(df_combined.iloc[:,0], \"Number Listed For Auction\", color='#f5a841').opts(yformatter=\"%.0f\")\n",
    "plot_numberWithdrawn = create_bar_chart(df_combined.iloc[:,1], \"Number Withdrawn\" , color='#5ac5bc').opts(yformatter=\"%.0f\")\n",
    "plot_numberUnreported = create_bar_chart(df_combined.iloc[:,2], \"Number Unreported\" , color='#ee65a3').opts(yformatter=\"%.0f\")\n",
    "plot_numberAuctioned = create_bar_chart(df_combined.iloc[:,3], \"Number Auctioned\" , color='#f5e34b').opts(yformatter=\"%.0f\")\n",
    "plot_numberSold = create_bar_chart(df_combined.iloc[:,4], \"Number Sold\" , color='#640587').opts(yformatter=\"%.0f\")\n",
    "plot_totalSales = create_bar_chart(df_combined.iloc[:,5], \"Total Sales\" , color='#c2c36d').opts(yformatter=\"%.0f\")\n",
    "plot_median = create_bar_chart(df_combined.iloc[:,6], \"Median\" , color='#f0787e').opts(yformatter=\"%.0f\")\n",
    "plot_adjClearanceRate = create_bar_chart(df_combined.iloc[:,7], \"Adj. Clearance Rate\" , color='#2e003a').opts(yformatter=\"%.0f\")\n"
   ]
  },
  {
   "cell_type": "code",
   "execution_count": null,
   "id": "17fe099f",
   "metadata": {},
   "outputs": [],
   "source": []
  },
  {
   "cell_type": "code",
   "execution_count": null,
   "id": "90bd9440",
   "metadata": {},
   "outputs": [],
   "source": [
    "\n"
   ]
  },
  {
   "cell_type": "code",
   "execution_count": null,
   "id": "468f876a",
   "metadata": {},
   "outputs": [],
   "source": []
  },
  {
   "cell_type": "code",
   "execution_count": 48,
   "id": "99306b92",
   "metadata": {},
   "outputs": [],
   "source": [
    "#\"\"\" Panel Dashboard \"\"\""
   ]
  },
  {
   "cell_type": "code",
   "execution_count": 66,
   "id": "3bf6455e",
   "metadata": {},
   "outputs": [],
   "source": [
    "# Create a Title for the Dashboard\n",
    "dasboard_title= \"Investor's Return Analysis Based on 3 Assets Portfolio\"\n",
    "\n",
    "# Define a welcome text\n",
    "dashboard_desc = \"This dashboard provides Interactive Visualizations, and Static Charts to help the investors get an oversight about the performance of their portfolio\"\n",
    "\n",
    "# Creating tabs layout for the dashboard\n",
    "welcome_tab = pn.Column(\n",
    "    \"This dashboard provides Interactive Visualizations, and Static Charts to help the investors get an oversight about the performance of their portfolio\") #, map_plot)\n",
    "\n",
    "Crypto_tab = pn.Column(\n",
    "    \"Your Cryptocurrency Basket\")#, owned_dwellings_line, rented_dwellings_line, avg_house_bar)\n",
    "\n",
    "stock_tab = pn.Column(\n",
    "    \"Your AU and US Stocks Basket\")#, average_value_line_plot, num_dwell_type_plot, dwellings_plot_row)\n",
    "\n",
    "property_tab_1 = pn.Column(\n",
    "        \"AU Property Market Based on the Latest Auctions \", \n",
    "        sales_line_chart + plot_median,        \n",
    "        plot_numberAuctioned + plot_numberSold\n",
    ")        \n",
    "    \n"
   ]
  },
  {
   "cell_type": "code",
   "execution_count": 67,
   "id": "c048c78b",
   "metadata": {},
   "outputs": [],
   "source": [
    "# Create the main dashboard\n",
    "dashboard = pn.Tabs(\n",
    "    (\" Welcome! \", welcome_tab),\n",
    "    (\" Crypto Assets \", Crypto_tab ),\n",
    "    (\" AU Stocks \", stock_tab),\n",
    "    (\" US Stocks \", stock_tab),\n",
    "    (\" Recent Property Auctions \", property_tab_1)    \n",
    ")"
   ]
  },
  {
   "cell_type": "code",
   "execution_count": 68,
   "id": "6dc4f59e",
   "metadata": {},
   "outputs": [
    {
     "data": {},
     "metadata": {},
     "output_type": "display_data"
    },
    {
     "data": {},
     "metadata": {},
     "output_type": "display_data"
    },
    {
     "data": {
      "application/vnd.holoviews_exec.v0+json": "",
      "text/html": [
       "<div id='10702'>\n",
       "\n",
       "\n",
       "\n",
       "\n",
       "\n",
       "  <div class=\"bk-root\" id=\"f9edd8fb-6897-4dc4-b889-bb51d9803619\" data-root-id=\"10702\"></div>\n",
       "</div>\n",
       "<script type=\"application/javascript\">(function(root) {\n",
       "  function embed_document(root) {\n",
       "    var docs_json = {\"ceac61ef-68fc-49a7-983c-aa7a196942bb\":{\"defs\":[{\"extends\":null,\"module\":null,\"name\":\"ReactiveHTML1\",\"overrides\":[],\"properties\":[]},{\"extends\":null,\"module\":null,\"name\":\"FlexBox1\",\"overrides\":[],\"properties\":[{\"default\":\"flex-start\",\"kind\":null,\"name\":\"align_content\"},{\"default\":\"flex-start\",\"kind\":null,\"name\":\"align_items\"},{\"default\":\"row\",\"kind\":null,\"name\":\"flex_direction\"},{\"default\":\"wrap\",\"kind\":null,\"name\":\"flex_wrap\"},{\"default\":\"flex-start\",\"kind\":null,\"name\":\"justify_content\"}]},{\"extends\":null,\"module\":null,\"name\":\"TemplateActions1\",\"overrides\":[],\"properties\":[{\"default\":0,\"kind\":null,\"name\":\"open_modal\"},{\"default\":0,\"kind\":null,\"name\":\"close_modal\"}]},{\"extends\":null,\"module\":null,\"name\":\"MaterialTemplateActions1\",\"overrides\":[],\"properties\":[{\"default\":0,\"kind\":null,\"name\":\"open_modal\"},{\"default\":0,\"kind\":null,\"name\":\"close_modal\"}]}],\"roots\":{\"references\":[{\"attributes\":{\"axis_label\":\"Number of Sales\",\"coordinates\":null,\"formatter\":{\"id\":\"10758\"},\"group\":null,\"major_label_policy\":{\"id\":\"10764\"},\"ticker\":{\"id\":\"10733\"}},\"id\":\"10732\",\"type\":\"LinearAxis\"},{\"attributes\":{\"coordinates\":null,\"group\":null,\"text\":\"Number Auctioned\",\"text_color\":\"black\",\"text_font_size\":\"12pt\"},\"id\":\"11007\",\"type\":\"Title\"},{\"attributes\":{},\"id\":\"10733\",\"type\":\"BasicTicker\"},{\"attributes\":{\"axis\":{\"id\":\"10732\"},\"coordinates\":null,\"dimension\":1,\"grid_line_color\":null,\"group\":null,\"ticker\":null},\"id\":\"10735\",\"type\":\"Grid\"},{\"attributes\":{},\"id\":\"11061\",\"type\":\"CategoricalScale\"},{\"attributes\":{\"line_alpha\":0.1,\"line_color\":\"orange\",\"line_width\":2,\"x\":{\"field\":\"city\"},\"y\":{\"field\":\"totalSales\"}},\"id\":\"10753\",\"type\":\"Line\"},{\"attributes\":{\"fill_alpha\":{\"value\":0.1},\"fill_color\":{\"value\":\"#f0787e\"},\"hatch_alpha\":{\"value\":0.1},\"hatch_color\":{\"value\":\"#f0787e\"},\"line_alpha\":{\"value\":0.1},\"top\":{\"field\":\"median\"},\"width\":{\"value\":0.8},\"x\":{\"field\":\"city\"}},\"id\":\"10803\",\"type\":\"VBar\"},{\"attributes\":{\"coordinates\":null,\"data_source\":{\"id\":\"10749\"},\"glyph\":{\"id\":\"10752\"},\"group\":null,\"hover_glyph\":null,\"muted_glyph\":{\"id\":\"10754\"},\"nonselection_glyph\":{\"id\":\"10753\"},\"selection_glyph\":{\"id\":\"10757\"},\"view\":{\"id\":\"10756\"}},\"id\":\"10755\",\"type\":\"GlyphRenderer\"},{\"attributes\":{\"axis\":{\"id\":\"11015\"},\"coordinates\":null,\"grid_line_color\":null,\"group\":null,\"ticker\":null},\"id\":\"11017\",\"type\":\"Grid\"},{\"attributes\":{\"children\":[{\"id\":\"10710\"}],\"margin\":[0,0,0,0],\"name\":\"Column15134\"},\"id\":\"10709\",\"type\":\"Column\"},{\"attributes\":{},\"id\":\"10775\",\"type\":\"CategoricalScale\"},{\"attributes\":{\"data\":{\"city\":[\"Sydney\",\"Melbourne\",\"Brisbane\",\"Canberra\",\"Adelaide\"],\"totalSales\":{\"__ndarray__\":\"AAAAQofpv0EAAAD6Bya/QQAAAKDlfIZBAAAAIP0sikEAAABo3U6EQQ==\",\"dtype\":\"float64\",\"order\":\"little\",\"shape\":[5]}},\"selected\":{\"id\":\"10750\"},\"selection_policy\":{\"id\":\"10823\"}},\"id\":\"10749\",\"type\":\"ColumnDataSource\"},{\"attributes\":{\"source\":{\"id\":\"11035\"}},\"id\":\"11042\",\"type\":\"CDSView\"},{\"attributes\":{\"axis_label\":\"city\",\"coordinates\":null,\"formatter\":{\"id\":\"10810\"},\"group\":null,\"major_label_policy\":{\"id\":\"10811\"},\"ticker\":{\"id\":\"10780\"}},\"id\":\"10779\",\"type\":\"CategoricalAxis\"},{\"attributes\":{\"line_color\":\"orange\",\"line_width\":2,\"x\":{\"field\":\"city\"},\"y\":{\"field\":\"totalSales\"}},\"id\":\"10757\",\"type\":\"Line\"},{\"attributes\":{\"source\":{\"id\":\"10749\"}},\"id\":\"10756\",\"type\":\"CDSView\"},{\"attributes\":{\"end\":707.9,\"reset_end\":707.9,\"reset_start\":0.0,\"tags\":[[[\"numberSold\",\"numberSold\",null]]]},\"id\":\"11054\",\"type\":\"Range1d\"},{\"attributes\":{\"bottom_units\":\"screen\",\"coordinates\":null,\"fill_alpha\":0.5,\"fill_color\":\"lightgrey\",\"group\":null,\"left_units\":\"screen\",\"level\":\"overlay\",\"line_alpha\":1.0,\"line_color\":\"black\",\"line_dash\":[4,4],\"line_width\":2,\"right_units\":\"screen\",\"syncable\":false,\"top_units\":\"screen\"},\"id\":\"10741\",\"type\":\"BoxAnnotation\"},{\"attributes\":{\"fill_alpha\":{\"value\":0.2},\"fill_color\":{\"value\":\"#f5e34b\"},\"hatch_alpha\":{\"value\":0.2},\"hatch_color\":{\"value\":\"#f5e34b\"},\"line_alpha\":{\"value\":0.2},\"top\":{\"field\":\"numberAuctioned\"},\"width\":{\"value\":0.8},\"x\":{\"field\":\"city\"}},\"id\":\"11040\",\"type\":\"VBar\"},{\"attributes\":{},\"id\":\"10736\",\"type\":\"SaveTool\"},{\"attributes\":{},\"id\":\"10737\",\"type\":\"PanTool\"},{\"attributes\":{},\"id\":\"11013\",\"type\":\"LinearScale\"},{\"attributes\":{},\"id\":\"10740\",\"type\":\"ResetTool\"},{\"attributes\":{\"fill_alpha\":{\"value\":0.2},\"fill_color\":{\"value\":\"#640587\"},\"hatch_alpha\":{\"value\":0.2},\"hatch_color\":{\"value\":\"#640587\"},\"line_alpha\":{\"value\":0.2},\"top\":{\"field\":\"numberSold\"},\"width\":{\"value\":0.8},\"x\":{\"field\":\"city\"}},\"id\":\"11090\",\"type\":\"VBar\"},{\"attributes\":{},\"id\":\"10738\",\"type\":\"WheelZoomTool\"},{\"attributes\":{},\"id\":\"10777\",\"type\":\"LinearScale\"},{\"attributes\":{\"client_comm_id\":\"516b18a85c7f4d2294a52898958182e7\",\"comm_id\":\"927b4a13a35d42eab259e3c028afb6fb\",\"plot_id\":\"10702\"},\"id\":\"11398\",\"type\":\"panel.models.comm_manager.CommManager\"},{\"attributes\":{\"css_classes\":[\"markdown\"],\"margin\":[5,5,5,5],\"name\":\"Markdown15140\",\"text\":\"&lt;p&gt;AU Property Market Based on the Latest Auctions &lt;/p&gt;\"},\"id\":\"10716\",\"type\":\"panel.models.markup.HTML\"},{\"attributes\":{\"children\":[[{\"id\":\"11006\"},0,0],[{\"id\":\"11056\"},0,1]]},\"id\":\"11123\",\"type\":\"GridBox\"},{\"attributes\":{\"overlay\":{\"id\":\"10741\"}},\"id\":\"10739\",\"type\":\"BoxZoomTool\"},{\"attributes\":{\"fill_color\":{\"value\":\"#f0787e\"},\"hatch_color\":{\"value\":\"#f0787e\"},\"top\":{\"field\":\"median\"},\"width\":{\"value\":0.8},\"x\":{\"field\":\"city\"}},\"id\":\"10802\",\"type\":\"VBar\"},{\"attributes\":{\"margin\":[0,0,0,0],\"tabs\":[{\"id\":\"10705\"},{\"id\":\"10708\"},{\"id\":\"10711\"},{\"id\":\"10714\"},{\"id\":\"11289\"}]},\"id\":\"10702\",\"type\":\"Tabs\"},{\"attributes\":{\"data\":{\"city\":[\"Sydney\",\"Melbourne\",\"Brisbane\",\"Canberra\",\"Adelaide\"],\"numberSold\":[478,649,60,60,63]},\"selected\":{\"id\":\"11086\"},\"selection_policy\":{\"id\":\"11119\"}},\"id\":\"11085\",\"type\":\"ColumnDataSource\"},{\"attributes\":{\"css_classes\":[\"markdown\"],\"margin\":[5,5,5,5],\"name\":\"Markdown15126\",\"text\":\"&lt;p&gt;This dashboard provides Interactive Visualizations, and Static Charts to help the investors get an oversight about the performance of their portfolio&lt;/p&gt;\"},\"id\":\"10704\",\"type\":\"panel.models.markup.HTML\"},{\"attributes\":{\"axis_label\":\"city\",\"coordinates\":null,\"formatter\":{\"id\":\"11046\"},\"group\":null,\"major_label_policy\":{\"id\":\"11047\"},\"ticker\":{\"id\":\"11016\"}},\"id\":\"11015\",\"type\":\"CategoricalAxis\"},{\"attributes\":{},\"id\":\"11047\",\"type\":\"AllLabels\"},{\"attributes\":{\"callback\":null,\"renderers\":[{\"id\":\"10755\"}],\"tags\":[\"hv_created\"],\"tooltips\":[[\"city\",\"@{city}\"],[\"totalSales\",\"@{totalSales}\"]]},\"id\":\"10719\",\"type\":\"HoverTool\"},{\"attributes\":{\"callback\":null,\"renderers\":[{\"id\":\"10805\"}],\"tags\":[\"hv_created\"],\"tooltips\":[[\"city\",\"@{city}\"],[\"median\",\"@{median}\"]]},\"id\":\"10769\",\"type\":\"HoverTool\"},{\"attributes\":{},\"id\":\"11086\",\"type\":\"Selection\"},{\"attributes\":{\"toolbar\":{\"id\":\"10838\"},\"toolbar_location\":\"above\"},\"id\":\"10839\",\"type\":\"ToolbarBox\"},{\"attributes\":{\"tools\":[{\"id\":\"10719\"},{\"id\":\"10736\"},{\"id\":\"10737\"},{\"id\":\"10738\"},{\"id\":\"10739\"},{\"id\":\"10740\"}]},\"id\":\"10742\",\"type\":\"Toolbar\"},{\"attributes\":{},\"id\":\"11046\",\"type\":\"CategoricalTickFormatter\"},{\"attributes\":{\"child\":{\"id\":\"10703\"},\"name\":\"Column15128\",\"title\":\" Welcome! \"},\"id\":\"10705\",\"type\":\"Panel\"},{\"attributes\":{\"coordinates\":null,\"group\":null,\"text\":\"Median\",\"text_color\":\"black\",\"text_font_size\":\"12pt\"},\"id\":\"10771\",\"type\":\"Title\"},{\"attributes\":{\"coordinates\":null,\"group\":null,\"text\":\"Number Sold\",\"text_color\":\"black\",\"text_font_size\":\"12pt\"},\"id\":\"11057\",\"type\":\"Title\"},{\"attributes\":{},\"id\":\"10760\",\"type\":\"CategoricalTickFormatter\"},{\"attributes\":{\"format\":\"%.0f\"},\"id\":\"10758\",\"type\":\"PrintfTickFormatter\"},{\"attributes\":{\"below\":[{\"id\":\"11015\"}],\"center\":[{\"id\":\"11017\"},{\"id\":\"11021\"}],\"height\":400,\"left\":[{\"id\":\"11018\"}],\"margin\":null,\"min_border_bottom\":10,\"min_border_left\":10,\"min_border_right\":10,\"min_border_top\":10,\"renderers\":[{\"id\":\"11041\"}],\"sizing_mode\":\"fixed\",\"title\":{\"id\":\"11007\"},\"toolbar\":{\"id\":\"11028\"},\"toolbar_location\":null,\"width\":700,\"x_range\":{\"id\":\"10717\"},\"x_scale\":{\"id\":\"11011\"},\"y_range\":{\"id\":\"11004\"},\"y_scale\":{\"id\":\"11013\"}},\"id\":\"11006\",\"subtype\":\"Figure\",\"type\":\"Plot\"},{\"attributes\":{},\"id\":\"11011\",\"type\":\"CategoricalScale\"},{\"attributes\":{\"below\":[{\"id\":\"10729\"}],\"center\":[{\"id\":\"10731\"},{\"id\":\"10735\"}],\"height\":400,\"left\":[{\"id\":\"10732\"}],\"margin\":null,\"min_border_bottom\":10,\"min_border_left\":10,\"min_border_right\":10,\"min_border_top\":10,\"renderers\":[{\"id\":\"10755\"}],\"sizing_mode\":\"fixed\",\"title\":{\"id\":\"10721\"},\"toolbar\":{\"id\":\"10742\"},\"toolbar_location\":null,\"width\":700,\"x_range\":{\"id\":\"10717\"},\"x_scale\":{\"id\":\"10725\"},\"y_range\":{\"id\":\"10718\"},\"y_scale\":{\"id\":\"10727\"}},\"id\":\"10720\",\"subtype\":\"Figure\",\"type\":\"Plot\"},{\"attributes\":{},\"id\":\"11036\",\"type\":\"Selection\"},{\"attributes\":{\"axis\":{\"id\":\"11065\"},\"coordinates\":null,\"grid_line_color\":null,\"group\":null,\"ticker\":null},\"id\":\"11067\",\"type\":\"Grid\"},{\"attributes\":{},\"id\":\"10764\",\"type\":\"AllLabels\"},{\"attributes\":{\"axis_label\":\"city\",\"coordinates\":null,\"formatter\":{\"id\":\"11096\"},\"group\":null,\"major_label_policy\":{\"id\":\"11097\"},\"ticker\":{\"id\":\"11066\"}},\"id\":\"11065\",\"type\":\"CategoricalAxis\"},{\"attributes\":{\"children\":[{\"id\":\"10704\"}],\"margin\":[0,0,0,0],\"name\":\"Column15128\"},\"id\":\"10703\",\"type\":\"Column\"},{\"attributes\":{},\"id\":\"11069\",\"type\":\"BasicTicker\"},{\"attributes\":{},\"id\":\"11066\",\"type\":\"CategoricalTicker\"},{\"attributes\":{\"toolbars\":[{\"id\":\"10742\"},{\"id\":\"10792\"}],\"tools\":[{\"id\":\"10719\"},{\"id\":\"10736\"},{\"id\":\"10737\"},{\"id\":\"10738\"},{\"id\":\"10739\"},{\"id\":\"10740\"},{\"id\":\"10769\"},{\"id\":\"10786\"},{\"id\":\"10787\"},{\"id\":\"10788\"},{\"id\":\"10789\"},{\"id\":\"10790\"}]},\"id\":\"10838\",\"type\":\"ProxyToolbar\"},{\"attributes\":{},\"id\":\"10725\",\"type\":\"CategoricalScale\"},{\"attributes\":{},\"id\":\"10833\",\"type\":\"UnionRenderers\"},{\"attributes\":{\"children\":[{\"id\":\"10716\"},{\"id\":\"10840\"},{\"id\":\"11126\"}],\"margin\":[0,0,0,0],\"name\":\"Column15152\"},\"id\":\"10715\",\"type\":\"Column\"},{\"attributes\":{\"axis_label\":\"\",\"coordinates\":null,\"formatter\":{\"id\":\"11094\"},\"group\":null,\"major_label_policy\":{\"id\":\"11100\"},\"ticker\":{\"id\":\"11069\"}},\"id\":\"11068\",\"type\":\"LinearAxis\"},{\"attributes\":{\"css_classes\":[\"markdown\"],\"margin\":[5,5,5,5],\"name\":\"Markdown15132\",\"text\":\"&lt;p&gt;Your AU and US Stocks Basket&lt;/p&gt;\"},\"id\":\"10713\",\"type\":\"panel.models.markup.HTML\"},{\"attributes\":{\"axis\":{\"id\":\"11068\"},\"coordinates\":null,\"dimension\":1,\"grid_line_color\":null,\"group\":null,\"ticker\":null},\"id\":\"11071\",\"type\":\"Grid\"},{\"attributes\":{\"coordinates\":null,\"data_source\":{\"id\":\"11035\"},\"glyph\":{\"id\":\"11038\"},\"group\":null,\"hover_glyph\":null,\"muted_glyph\":{\"id\":\"11040\"},\"nonselection_glyph\":{\"id\":\"11039\"},\"selection_glyph\":{\"id\":\"11043\"},\"view\":{\"id\":\"11042\"}},\"id\":\"11041\",\"type\":\"GlyphRenderer\"},{\"attributes\":{\"coordinates\":null,\"data_source\":{\"id\":\"11085\"},\"glyph\":{\"id\":\"11088\"},\"group\":null,\"hover_glyph\":null,\"muted_glyph\":{\"id\":\"11090\"},\"nonselection_glyph\":{\"id\":\"11089\"},\"selection_glyph\":{\"id\":\"11093\"},\"view\":{\"id\":\"11092\"}},\"id\":\"11091\",\"type\":\"GlyphRenderer\"},{\"attributes\":{},\"id\":\"11019\",\"type\":\"BasicTicker\"},{\"attributes\":{},\"id\":\"11016\",\"type\":\"CategoricalTicker\"},{\"attributes\":{\"below\":[{\"id\":\"10779\"}],\"center\":[{\"id\":\"10781\"},{\"id\":\"10785\"}],\"height\":400,\"left\":[{\"id\":\"10782\"}],\"margin\":null,\"min_border_bottom\":10,\"min_border_left\":10,\"min_border_right\":10,\"min_border_top\":10,\"renderers\":[{\"id\":\"10805\"}],\"sizing_mode\":\"fixed\",\"title\":{\"id\":\"10771\"},\"toolbar\":{\"id\":\"10792\"},\"toolbar_location\":null,\"width\":700,\"x_range\":{\"id\":\"10717\"},\"x_scale\":{\"id\":\"10775\"},\"y_range\":{\"id\":\"10768\"},\"y_scale\":{\"id\":\"10777\"}},\"id\":\"10770\",\"subtype\":\"Figure\",\"type\":\"Plot\"},{\"attributes\":{\"end\":584679120.9,\"reset_end\":584679120.9,\"reset_start\":-6691809.900000006,\"start\":-6691809.900000006,\"tags\":[[[\"totalSales\",\"totalSales\",null]]]},\"id\":\"10718\",\"type\":\"Range1d\"},{\"attributes\":{\"axis_label\":\"\",\"coordinates\":null,\"formatter\":{\"id\":\"11044\"},\"group\":null,\"major_label_policy\":{\"id\":\"11050\"},\"ticker\":{\"id\":\"11019\"}},\"id\":\"11018\",\"type\":\"LinearAxis\"},{\"attributes\":{\"end\":974.5,\"reset_end\":974.5,\"reset_start\":0.0,\"tags\":[[[\"numberAuctioned\",\"numberAuctioned\",null]]]},\"id\":\"11004\",\"type\":\"Range1d\"},{\"attributes\":{\"data\":{\"city\":[\"Sydney\",\"Melbourne\",\"Brisbane\",\"Canberra\",\"Adelaide\"],\"median\":[1585000,1105000,1090250,952000,975000]},\"selected\":{\"id\":\"10800\"},\"selection_policy\":{\"id\":\"10833\"}},\"id\":\"10799\",\"type\":\"ColumnDataSource\"},{\"attributes\":{\"source\":{\"id\":\"11085\"}},\"id\":\"11092\",\"type\":\"CDSView\"},{\"attributes\":{\"axis\":{\"id\":\"11018\"},\"coordinates\":null,\"dimension\":1,\"grid_line_color\":null,\"group\":null,\"ticker\":null},\"id\":\"11021\",\"type\":\"Grid\"},{\"attributes\":{\"fill_color\":{\"value\":\"#f5e34b\"},\"hatch_color\":{\"value\":\"#f5e34b\"},\"top\":{\"field\":\"numberAuctioned\"},\"width\":{\"value\":0.8},\"x\":{\"field\":\"city\"}},\"id\":\"11038\",\"type\":\"VBar\"},{\"attributes\":{},\"id\":\"10780\",\"type\":\"CategoricalTicker\"},{\"attributes\":{},\"id\":\"10810\",\"type\":\"CategoricalTickFormatter\"},{\"attributes\":{\"below\":[{\"id\":\"11065\"}],\"center\":[{\"id\":\"11067\"},{\"id\":\"11071\"}],\"height\":400,\"left\":[{\"id\":\"11068\"}],\"margin\":null,\"min_border_bottom\":10,\"min_border_left\":10,\"min_border_right\":10,\"min_border_top\":10,\"renderers\":[{\"id\":\"11091\"}],\"sizing_mode\":\"fixed\",\"title\":{\"id\":\"11057\"},\"toolbar\":{\"id\":\"11078\"},\"toolbar_location\":null,\"width\":700,\"x_range\":{\"id\":\"10717\"},\"x_scale\":{\"id\":\"11061\"},\"y_range\":{\"id\":\"11054\"},\"y_scale\":{\"id\":\"11063\"}},\"id\":\"11056\",\"subtype\":\"Figure\",\"type\":\"Plot\"},{\"attributes\":{\"fill_alpha\":{\"value\":0.1},\"fill_color\":{\"value\":\"#f5e34b\"},\"hatch_alpha\":{\"value\":0.1},\"hatch_color\":{\"value\":\"#f5e34b\"},\"line_alpha\":{\"value\":0.1},\"top\":{\"field\":\"numberAuctioned\"},\"width\":{\"value\":0.8},\"x\":{\"field\":\"city\"}},\"id\":\"11039\",\"type\":\"VBar\"},{\"attributes\":{\"callback\":null,\"renderers\":[{\"id\":\"11041\"}],\"tags\":[\"hv_created\"],\"tooltips\":[[\"city\",\"@{city}\"],[\"numberAuctioned\",\"@{numberAuctioned}\"]]},\"id\":\"11005\",\"type\":\"HoverTool\"},{\"attributes\":{},\"id\":\"11072\",\"type\":\"SaveTool\"},{\"attributes\":{\"toolbar\":{\"id\":\"11124\"},\"toolbar_location\":\"above\"},\"id\":\"11125\",\"type\":\"ToolbarBox\"},{\"attributes\":{},\"id\":\"11073\",\"type\":\"PanTool\"},{\"attributes\":{},\"id\":\"11076\",\"type\":\"ResetTool\"},{\"attributes\":{},\"id\":\"10783\",\"type\":\"BasicTicker\"},{\"attributes\":{\"toolbars\":[{\"id\":\"11028\"},{\"id\":\"11078\"}],\"tools\":[{\"id\":\"11005\"},{\"id\":\"11022\"},{\"id\":\"11023\"},{\"id\":\"11024\"},{\"id\":\"11025\"},{\"id\":\"11026\"},{\"id\":\"11055\"},{\"id\":\"11072\"},{\"id\":\"11073\"},{\"id\":\"11074\"},{\"id\":\"11075\"},{\"id\":\"11076\"}]},\"id\":\"11124\",\"type\":\"ProxyToolbar\"},{\"attributes\":{\"axis\":{\"id\":\"10779\"},\"coordinates\":null,\"grid_line_color\":null,\"group\":null,\"ticker\":null},\"id\":\"10781\",\"type\":\"Grid\"},{\"attributes\":{},\"id\":\"11074\",\"type\":\"WheelZoomTool\"},{\"attributes\":{\"child\":{\"id\":\"10715\"},\"name\":\"Column15152\",\"title\":\" Recent Property Auctions \"},\"id\":\"11289\",\"type\":\"Panel\"},{\"attributes\":{\"axis_label\":\"\",\"coordinates\":null,\"formatter\":{\"id\":\"10808\"},\"group\":null,\"major_label_policy\":{\"id\":\"10814\"},\"ticker\":{\"id\":\"10783\"}},\"id\":\"10782\",\"type\":\"LinearAxis\"},{\"attributes\":{\"tools\":[{\"id\":\"11005\"},{\"id\":\"11022\"},{\"id\":\"11023\"},{\"id\":\"11024\"},{\"id\":\"11025\"},{\"id\":\"11026\"}]},\"id\":\"11028\",\"type\":\"Toolbar\"},{\"attributes\":{\"overlay\":{\"id\":\"11077\"}},\"id\":\"11075\",\"type\":\"BoxZoomTool\"},{\"attributes\":{\"bottom_units\":\"screen\",\"coordinates\":null,\"fill_alpha\":0.5,\"fill_color\":\"lightgrey\",\"group\":null,\"left_units\":\"screen\",\"level\":\"overlay\",\"line_alpha\":1.0,\"line_color\":\"black\",\"line_dash\":[4,4],\"line_width\":2,\"right_units\":\"screen\",\"syncable\":false,\"top_units\":\"screen\"},\"id\":\"11027\",\"type\":\"BoxAnnotation\"},{\"attributes\":{},\"id\":\"11109\",\"type\":\"UnionRenderers\"},{\"attributes\":{\"css_classes\":[\"markdown\"],\"margin\":[5,5,5,5],\"name\":\"Markdown15129\",\"text\":\"&lt;p&gt;Your Cryptocurrency Basket&lt;/p&gt;\"},\"id\":\"10707\",\"type\":\"panel.models.markup.HTML\"},{\"attributes\":{\"axis\":{\"id\":\"10782\"},\"coordinates\":null,\"dimension\":1,\"grid_line_color\":null,\"group\":null,\"ticker\":null},\"id\":\"10785\",\"type\":\"Grid\"},{\"attributes\":{},\"id\":\"11022\",\"type\":\"SaveTool\"},{\"attributes\":{\"children\":[{\"id\":\"11125\"},{\"id\":\"11123\"}]},\"id\":\"11126\",\"type\":\"Column\"},{\"attributes\":{},\"id\":\"11023\",\"type\":\"PanTool\"},{\"attributes\":{},\"id\":\"11026\",\"type\":\"ResetTool\"},{\"attributes\":{\"children\":[{\"id\":\"10713\"}],\"margin\":[0,0,0,0],\"name\":\"Column15134\"},\"id\":\"10712\",\"type\":\"Column\"},{\"attributes\":{\"end\":1648300.0,\"reset_end\":1648300.0,\"reset_start\":0.0,\"tags\":[[[\"median\",\"median\",null]]]},\"id\":\"10768\",\"type\":\"Range1d\"},{\"attributes\":{},\"id\":\"11024\",\"type\":\"WheelZoomTool\"},{\"attributes\":{\"child\":{\"id\":\"10712\"},\"name\":\"Column15134\",\"title\":\" US Stocks \"},\"id\":\"10714\",\"type\":\"Panel\"},{\"attributes\":{\"overlay\":{\"id\":\"11027\"}},\"id\":\"11025\",\"type\":\"BoxZoomTool\"},{\"attributes\":{\"tools\":[{\"id\":\"11055\"},{\"id\":\"11072\"},{\"id\":\"11073\"},{\"id\":\"11074\"},{\"id\":\"11075\"},{\"id\":\"11076\"}]},\"id\":\"11078\",\"type\":\"Toolbar\"},{\"attributes\":{},\"id\":\"11050\",\"type\":\"AllLabels\"},{\"attributes\":{\"coordinates\":null,\"data_source\":{\"id\":\"10799\"},\"glyph\":{\"id\":\"10802\"},\"group\":null,\"hover_glyph\":null,\"muted_glyph\":{\"id\":\"10804\"},\"nonselection_glyph\":{\"id\":\"10803\"},\"selection_glyph\":{\"id\":\"10807\"},\"view\":{\"id\":\"10806\"}},\"id\":\"10805\",\"type\":\"GlyphRenderer\"},{\"attributes\":{\"child\":{\"id\":\"10709\"},\"name\":\"Column15134\",\"title\":\" AU Stocks \"},\"id\":\"10711\",\"type\":\"Panel\"},{\"attributes\":{\"tools\":[{\"id\":\"10769\"},{\"id\":\"10786\"},{\"id\":\"10787\"},{\"id\":\"10788\"},{\"id\":\"10789\"},{\"id\":\"10790\"}]},\"id\":\"10792\",\"type\":\"Toolbar\"},{\"attributes\":{\"bottom_units\":\"screen\",\"coordinates\":null,\"fill_alpha\":0.5,\"fill_color\":\"lightgrey\",\"group\":null,\"left_units\":\"screen\",\"level\":\"overlay\",\"line_alpha\":1.0,\"line_color\":\"black\",\"line_dash\":[4,4],\"line_width\":2,\"right_units\":\"screen\",\"syncable\":false,\"top_units\":\"screen\"},\"id\":\"11077\",\"type\":\"BoxAnnotation\"},{\"attributes\":{\"bottom\":{\"value\":0},\"fill_alpha\":{\"value\":1.0},\"fill_color\":{\"value\":\"#f5e34b\"},\"hatch_alpha\":{\"value\":1.0},\"hatch_color\":{\"value\":\"#f5e34b\"},\"hatch_scale\":{\"value\":12.0},\"hatch_weight\":{\"value\":1.0},\"line_alpha\":{\"value\":1.0},\"line_cap\":{\"value\":\"butt\"},\"line_color\":{\"value\":\"black\"},\"line_dash\":{\"value\":[]},\"line_dash_offset\":{\"value\":0},\"line_join\":{\"value\":\"bevel\"},\"line_width\":{\"value\":1},\"top\":{\"field\":\"numberAuctioned\"},\"width\":{\"value\":0.8},\"x\":{\"field\":\"city\"}},\"id\":\"11043\",\"type\":\"VBar\"},{\"attributes\":{\"child\":{\"id\":\"10706\"},\"name\":\"Column15131\",\"title\":\" Crypto Assets \"},\"id\":\"10708\",\"type\":\"Panel\"},{\"attributes\":{\"bottom_units\":\"screen\",\"coordinates\":null,\"fill_alpha\":0.5,\"fill_color\":\"lightgrey\",\"group\":null,\"left_units\":\"screen\",\"level\":\"overlay\",\"line_alpha\":1.0,\"line_color\":\"black\",\"line_dash\":[4,4],\"line_width\":2,\"right_units\":\"screen\",\"syncable\":false,\"top_units\":\"screen\"},\"id\":\"10791\",\"type\":\"BoxAnnotation\"},{\"attributes\":{},\"id\":\"10786\",\"type\":\"SaveTool\"},{\"attributes\":{},\"id\":\"10761\",\"type\":\"AllLabels\"},{\"attributes\":{},\"id\":\"10787\",\"type\":\"PanTool\"},{\"attributes\":{},\"id\":\"10811\",\"type\":\"AllLabels\"},{\"attributes\":{},\"id\":\"10790\",\"type\":\"ResetTool\"},{\"attributes\":{},\"id\":\"10788\",\"type\":\"WheelZoomTool\"},{\"attributes\":{},\"id\":\"11119\",\"type\":\"UnionRenderers\"},{\"attributes\":{\"reload\":false},\"id\":\"11507\",\"type\":\"panel.models.location.Location\"},{\"attributes\":{\"children\":[{\"id\":\"10707\"}],\"margin\":[0,0,0,0],\"name\":\"Column15131\"},\"id\":\"10706\",\"type\":\"Column\"},{\"attributes\":{\"overlay\":{\"id\":\"10791\"}},\"id\":\"10789\",\"type\":\"BoxZoomTool\"},{\"attributes\":{\"fill_alpha\":{\"value\":0.2},\"fill_color\":{\"value\":\"#f0787e\"},\"hatch_alpha\":{\"value\":0.2},\"hatch_color\":{\"value\":\"#f0787e\"},\"line_alpha\":{\"value\":0.2},\"top\":{\"field\":\"median\"},\"width\":{\"value\":0.8},\"x\":{\"field\":\"city\"}},\"id\":\"10804\",\"type\":\"VBar\"},{\"attributes\":{\"bottom\":{\"value\":0},\"fill_alpha\":{\"value\":1.0},\"fill_color\":{\"value\":\"#640587\"},\"hatch_alpha\":{\"value\":1.0},\"hatch_color\":{\"value\":\"#640587\"},\"hatch_scale\":{\"value\":12.0},\"hatch_weight\":{\"value\":1.0},\"line_alpha\":{\"value\":1.0},\"line_cap\":{\"value\":\"butt\"},\"line_color\":{\"value\":\"black\"},\"line_dash\":{\"value\":[]},\"line_dash_offset\":{\"value\":0},\"line_join\":{\"value\":\"bevel\"},\"line_width\":{\"value\":1},\"top\":{\"field\":\"numberSold\"},\"width\":{\"value\":0.8},\"x\":{\"field\":\"city\"}},\"id\":\"11093\",\"type\":\"VBar\"},{\"attributes\":{\"format\":\"%.0f\"},\"id\":\"11044\",\"type\":\"PrintfTickFormatter\"},{\"attributes\":{},\"id\":\"10800\",\"type\":\"Selection\"},{\"attributes\":{\"factors\":[\"Sydney\",\"Melbourne\",\"Brisbane\",\"Canberra\",\"Adelaide\"],\"tags\":[[[\"city\",\"city\",null]]]},\"id\":\"10717\",\"type\":\"FactorRange\"},{\"attributes\":{},\"id\":\"11096\",\"type\":\"CategoricalTickFormatter\"},{\"attributes\":{\"fill_color\":{\"value\":\"#640587\"},\"hatch_color\":{\"value\":\"#640587\"},\"top\":{\"field\":\"numberSold\"},\"width\":{\"value\":0.8},\"x\":{\"field\":\"city\"}},\"id\":\"11088\",\"type\":\"VBar\"},{\"attributes\":{},\"id\":\"11097\",\"type\":\"AllLabels\"},{\"attributes\":{\"source\":{\"id\":\"10799\"}},\"id\":\"10806\",\"type\":\"CDSView\"},{\"attributes\":{\"bottom\":{\"value\":0},\"fill_alpha\":{\"value\":1.0},\"fill_color\":{\"value\":\"#f0787e\"},\"hatch_alpha\":{\"value\":1.0},\"hatch_color\":{\"value\":\"#f0787e\"},\"hatch_scale\":{\"value\":12.0},\"hatch_weight\":{\"value\":1.0},\"line_alpha\":{\"value\":1.0},\"line_cap\":{\"value\":\"butt\"},\"line_color\":{\"value\":\"black\"},\"line_dash\":{\"value\":[]},\"line_dash_offset\":{\"value\":0},\"line_join\":{\"value\":\"bevel\"},\"line_width\":{\"value\":1},\"top\":{\"field\":\"median\"},\"width\":{\"value\":0.8},\"x\":{\"field\":\"city\"}},\"id\":\"10807\",\"type\":\"VBar\"},{\"attributes\":{\"children\":[{\"id\":\"10839\"},{\"id\":\"10837\"}]},\"id\":\"10840\",\"type\":\"Column\"},{\"attributes\":{\"format\":\"%.0f\"},\"id\":\"10808\",\"type\":\"PrintfTickFormatter\"},{\"attributes\":{},\"id\":\"10814\",\"type\":\"AllLabels\"},{\"attributes\":{\"format\":\"%.0f\"},\"id\":\"11094\",\"type\":\"PrintfTickFormatter\"},{\"attributes\":{\"line_alpha\":0.2,\"line_color\":\"orange\",\"line_width\":2,\"x\":{\"field\":\"city\"},\"y\":{\"field\":\"totalSales\"}},\"id\":\"10754\",\"type\":\"Line\"},{\"attributes\":{\"data\":{\"city\":[\"Sydney\",\"Melbourne\",\"Brisbane\",\"Canberra\",\"Adelaide\"],\"numberAuctioned\":[620,892,80,76,67]},\"selected\":{\"id\":\"11036\"},\"selection_policy\":{\"id\":\"11109\"}},\"id\":\"11035\",\"type\":\"ColumnDataSource\"},{\"attributes\":{},\"id\":\"11100\",\"type\":\"AllLabels\"},{\"attributes\":{\"css_classes\":[\"markdown\"],\"margin\":[5,5,5,5],\"name\":\"Markdown15132\",\"text\":\"&lt;p&gt;Your AU and US Stocks Basket&lt;/p&gt;\"},\"id\":\"10710\",\"type\":\"panel.models.markup.HTML\"},{\"attributes\":{},\"id\":\"11063\",\"type\":\"LinearScale\"},{\"attributes\":{},\"id\":\"10823\",\"type\":\"UnionRenderers\"},{\"attributes\":{\"fill_alpha\":{\"value\":0.1},\"fill_color\":{\"value\":\"#640587\"},\"hatch_alpha\":{\"value\":0.1},\"hatch_color\":{\"value\":\"#640587\"},\"line_alpha\":{\"value\":0.1},\"top\":{\"field\":\"numberSold\"},\"width\":{\"value\":0.8},\"x\":{\"field\":\"city\"}},\"id\":\"11089\",\"type\":\"VBar\"},{\"attributes\":{},\"id\":\"10750\",\"type\":\"Selection\"},{\"attributes\":{\"axis_label\":\"City\",\"coordinates\":null,\"formatter\":{\"id\":\"10760\"},\"group\":null,\"major_label_policy\":{\"id\":\"10761\"},\"ticker\":{\"id\":\"10730\"}},\"id\":\"10729\",\"type\":\"CategoricalAxis\"},{\"attributes\":{\"axis\":{\"id\":\"10729\"},\"coordinates\":null,\"grid_line_color\":null,\"group\":null,\"ticker\":null},\"id\":\"10731\",\"type\":\"Grid\"},{\"attributes\":{\"children\":[[{\"id\":\"10720\"},0,0],[{\"id\":\"10770\"},0,1]]},\"id\":\"10837\",\"type\":\"GridBox\"},{\"attributes\":{\"coordinates\":null,\"group\":null,\"text\":\"Number of Property Sold Per City\",\"text_color\":\"black\",\"text_font_size\":\"12pt\"},\"id\":\"10721\",\"type\":\"Title\"},{\"attributes\":{\"line_color\":\"orange\",\"line_width\":2,\"x\":{\"field\":\"city\"},\"y\":{\"field\":\"totalSales\"}},\"id\":\"10752\",\"type\":\"Line\"},{\"attributes\":{},\"id\":\"10727\",\"type\":\"LinearScale\"},{\"attributes\":{\"callback\":null,\"renderers\":[{\"id\":\"11091\"}],\"tags\":[\"hv_created\"],\"tooltips\":[[\"city\",\"@{city}\"],[\"numberSold\",\"@{numberSold}\"]]},\"id\":\"11055\",\"type\":\"HoverTool\"},{\"attributes\":{},\"id\":\"10730\",\"type\":\"CategoricalTicker\"}],\"root_ids\":[\"10702\",\"11398\",\"11507\"]},\"title\":\"Bokeh Application\",\"version\":\"2.4.2\"}};\n",
       "    var render_items = [{\"docid\":\"ceac61ef-68fc-49a7-983c-aa7a196942bb\",\"root_ids\":[\"10702\"],\"roots\":{\"10702\":\"f9edd8fb-6897-4dc4-b889-bb51d9803619\"}}];\n",
       "    root.Bokeh.embed.embed_items_notebook(docs_json, render_items);\n",
       "  }\n",
       "  if (root.Bokeh !== undefined && root.Bokeh.Panel !== undefined) {\n",
       "    embed_document(root);\n",
       "  } else {\n",
       "    var attempts = 0;\n",
       "    var timer = setInterval(function(root) {\n",
       "      if (root.Bokeh !== undefined && root.Bokeh.Panel !== undefined) {\n",
       "        clearInterval(timer);\n",
       "        embed_document(root);\n",
       "      } else if (document.readyState == \"complete\") {\n",
       "        attempts++;\n",
       "        if (attempts > 200) {\n",
       "          clearInterval(timer);\n",
       "          console.log(\"Bokeh: ERROR: Unable to run BokehJS code because BokehJS library is missing\");\n",
       "        }\n",
       "      }\n",
       "    }, 25, root)\n",
       "  }\n",
       "})(window);</script>"
      ],
      "text/plain": [
       "Tabs\n",
       "    [0] Column\n",
       "        [0] Markdown(str)\n",
       "    [1] Column\n",
       "        [0] Markdown(str)\n",
       "    [2] Column\n",
       "        [0] Markdown(str)\n",
       "    [3] Column\n",
       "        [0] Markdown(str)\n",
       "    [4] Column\n",
       "        [0] Markdown(str)\n",
       "        [1] HoloViews(Layout)\n",
       "        [2] HoloViews(Layout)"
      ]
     },
     "execution_count": 68,
     "metadata": {
      "application/vnd.holoviews_exec.v0+json": {
       "id": "10702"
      }
     },
     "output_type": "execute_result"
    }
   ],
   "source": [
    "#Serve the Panel Dashboard\n",
    "dashboard.servable()"
   ]
  },
  {
   "cell_type": "code",
   "execution_count": null,
   "id": "ba5f05fc",
   "metadata": {},
   "outputs": [],
   "source": []
  }
 ],
 "metadata": {
  "kernelspec": {
   "display_name": "Python [conda env:pyvizenv] *",
   "language": "python",
   "name": "conda-env-pyvizenv-py"
  },
  "language_info": {
   "codemirror_mode": {
    "name": "ipython",
    "version": 3
   },
   "file_extension": ".py",
   "mimetype": "text/x-python",
   "name": "python",
   "nbconvert_exporter": "python",
   "pygments_lexer": "ipython3",
   "version": "3.7.11"
  }
 },
 "nbformat": 4,
 "nbformat_minor": 5
}
